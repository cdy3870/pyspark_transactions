{
 "cells": [
  {
   "cell_type": "code",
   "execution_count": 1,
   "id": "1f939601-1f2d-4c70-b4a0-7d489ade88f5",
   "metadata": {},
   "outputs": [
    {
     "data": {
      "text/plain": [
       "'/Users/calvinyu/miniforge3/envs/spark/lib/python3.11/site-packages/pyspark'"
      ]
     },
     "execution_count": 1,
     "metadata": {},
     "output_type": "execute_result"
    }
   ],
   "source": [
    "import findspark\n",
    "findspark.init()\n",
    "findspark.find()"
   ]
  },
  {
   "cell_type": "code",
   "execution_count": 2,
   "id": "29f17326-1857-4d65-871a-fc7b0b85f84b",
   "metadata": {},
   "outputs": [],
   "source": [
    "from pyspark.sql import SparkSession\n",
    "from pyspark.sql.functions import desc, split, udf, lit, sum, avg, max, count\n",
    "import matplotlib.pyplot as plt\n",
    "import plotly.express as px\n",
    "import functools\n",
    "from pyspark.sql import DataFrame\n",
    "import pandas as pd"
   ]
  },
  {
   "cell_type": "code",
   "execution_count": 3,
   "id": "54b42094-d51d-47c4-a3a6-9a29037a98cb",
   "metadata": {},
   "outputs": [],
   "source": [
    "import plotly.io as pio\n",
    "pio.renderers.default = \"iframe\""
   ]
  },
  {
   "cell_type": "code",
   "execution_count": 4,
   "id": "e8282540-e708-49cb-a395-c31d37645efe",
   "metadata": {},
   "outputs": [
    {
     "name": "stderr",
     "output_type": "stream",
     "text": [
      "Setting default log level to \"WARN\".\n",
      "To adjust logging level use sc.setLogLevel(newLevel). For SparkR, use setLogLevel(newLevel).\n",
      "23/06/03 19:46:38 WARN NativeCodeLoader: Unable to load native-hadoop library for your platform... using builtin-java classes where applicable\n"
     ]
    }
   ],
   "source": [
    "spark = SparkSession.builder.appName('test').getOrCreate()"
   ]
  },
  {
   "cell_type": "code",
   "execution_count": 5,
   "id": "45334757-0a21-46ce-9d20-fd9c07b0ccf0",
   "metadata": {},
   "outputs": [
    {
     "name": "stderr",
     "output_type": "stream",
     "text": [
      "                                                                                \r"
     ]
    }
   ],
   "source": [
    "mapping = {10: \"October\", 11: \"November\"}\n",
    "def process_dfs(_spark, _file_names):\n",
    "    dfs = []\n",
    "    for file_name in _file_names:\n",
    "        df = _spark.read.option(\"header\",True).csv(file_name)\n",
    "        df = df.withColumn(\"price\", df.price.cast('float'))\n",
    "        dt_col = split(df[\"event_time\"], \" \")\n",
    "        df = df.withColumn(\"date\", dt_col.getItem(0))\n",
    "        df = df.withColumn(\"time\", dt_col.getItem(1))\n",
    "        date_col = split(df[\"date\"], \"-\")\n",
    "        df = df.withColumn(\"year\", date_col.getItem(0))\n",
    "        df = df.withColumn(\"year\", df.year.cast('int'))\n",
    "        df = df.withColumn(\"month\", date_col.getItem(1))\n",
    "        df = df.withColumn(\"month\", df.month.cast('int'))\n",
    "        df = df.withColumn(\"day\", date_col.getItem(2))\n",
    "        df = df.withColumn(\"day\", df.day.cast('int'))\n",
    "\n",
    "        df = df.withColumn(\"month\", udf(lambda x : mapping[x])(\"month\"))\n",
    "        df = df.drop(\"event_time\")\n",
    "        # df = df.drop(\"date\")\n",
    "        dfs.append(df)\n",
    "\n",
    "    df_output = functools.reduce(DataFrame.union, dfs)\n",
    "    return df_output\n",
    "\n",
    "df = process_dfs(spark, [\"data/2019-Nov.csv\", \"data/2019-Oct.csv\"])"
   ]
  },
  {
   "cell_type": "code",
   "execution_count": 130,
   "id": "2126fb02-4030-437f-82d2-f6bd1cfed4d6",
   "metadata": {},
   "outputs": [
    {
     "name": "stderr",
     "output_type": "stream",
     "text": [
      "                                                                                \r"
     ]
    },
    {
     "data": {
      "text/plain": [
       "109950743"
      ]
     },
     "execution_count": 130,
     "metadata": {},
     "output_type": "execute_result"
    }
   ],
   "source": [
    "df.count()"
   ]
  },
  {
   "cell_type": "code",
   "execution_count": 131,
   "id": "e88c16a1-6de8-4c63-856f-514ba50e711a",
   "metadata": {},
   "outputs": [
    {
     "name": "stderr",
     "output_type": "stream",
     "text": [
      "                                                                                \r"
     ]
    },
    {
     "data": {
      "text/plain": [
       "4304"
      ]
     },
     "execution_count": 131,
     "metadata": {},
     "output_type": "execute_result"
    }
   ],
   "source": [
    "df[[\"brand\"]].distinct().count()"
   ]
  },
  {
   "cell_type": "code",
   "execution_count": 129,
   "id": "5109d452-d323-4a35-8d67-41a656bdcf27",
   "metadata": {},
   "outputs": [
    {
     "name": "stdout",
     "output_type": "stream",
     "text": [
      "+----------+----------+-------------------+-------------------------+------+------+---------+------------------------------------+--------+----+--------+---+\n",
      "|event_type|product_id|category_id        |category_code            |brand |price |user_id  |user_session                        |time    |year|month   |day|\n",
      "+----------+----------+-------------------+-------------------------+------+------+---------+------------------------------------+--------+----+--------+---+\n",
      "|view      |1003461   |2053013555631882655|electronics.smartphone   |xiaomi|489.07|520088904|4d3b30da-a5e4-49df-b1a8-ba5943f1dd33|00:00:00|2019|November|1  |\n",
      "|view      |5000088   |2053013566100866035|appliances.sewing_machine|janome|293.65|530496790|8e5f4f83-366c-4f70-860e-ca7417414283|00:00:00|2019|November|1  |\n",
      "|view      |17302664  |2053013553853497655|null                     |creed |28.31 |561587266|755422e7-9040-477b-9bd2-6a6e8fd97387|00:00:01|2019|November|1  |\n",
      "|view      |3601530   |2053013563810775923|appliances.kitchen.washer|lg    |712.87|518085591|3bfb58cd-7892-48cc-8020-2f17e6de6e7f|00:00:01|2019|November|1  |\n",
      "|view      |1004775   |2053013555631882655|electronics.smartphone   |xiaomi|183.27|558856683|313628f1-68b8-460d-84f6-cec7a8796ef2|00:00:01|2019|November|1  |\n",
      "+----------+----------+-------------------+-------------------------+------+------+---------+------------------------------------+--------+----+--------+---+\n",
      "only showing top 5 rows\n",
      "\n"
     ]
    }
   ],
   "source": [
    "df.show(5, truncate=False)"
   ]
  },
  {
   "cell_type": "code",
   "execution_count": null,
   "id": "ac1fe204-41ca-4bd6-b49b-187d65351aeb",
   "metadata": {},
   "outputs": [],
   "source": []
  },
  {
   "cell_type": "code",
   "execution_count": 12,
   "id": "477c4e4e-1280-441c-bbfe-91c1c40cb716",
   "metadata": {},
   "outputs": [],
   "source": [
    "nov_df = spark.read.option(\"header\",True).csv(\"data/2019-Nov.csv\")"
   ]
  },
  {
   "cell_type": "code",
   "execution_count": 51,
   "id": "76215808-12ca-4fff-93ee-1ffe74531c27",
   "metadata": {},
   "outputs": [],
   "source": [
    "nov_df = nov_df.withColumn(\"price\", nov_df.price.cast('float'))"
   ]
  },
  {
   "cell_type": "code",
   "execution_count": 13,
   "id": "fe0727c9-cb2b-4e97-9a3f-d71159c1a187",
   "metadata": {},
   "outputs": [],
   "source": [
    "oct_df = spark.read.option(\"header\",True).csv(\"data/2019-Oct.csv\")"
   ]
  },
  {
   "cell_type": "code",
   "execution_count": 7,
   "id": "66975a3f-b665-4a15-871d-b34cfa8a9984",
   "metadata": {},
   "outputs": [
    {
     "name": "stderr",
     "output_type": "stream",
     "text": [
      "                                                                                \r"
     ]
    },
    {
     "data": {
      "text/plain": [
       "67501980"
      ]
     },
     "execution_count": 7,
     "metadata": {},
     "output_type": "execute_result"
    }
   ],
   "source": [
    "nov_df.count()"
   ]
  },
  {
   "cell_type": "code",
   "execution_count": 8,
   "id": "eb8b85e6-bcff-441e-a55b-434c97f95b79",
   "metadata": {},
   "outputs": [
    {
     "name": "stderr",
     "output_type": "stream",
     "text": [
      "                                                                                \r"
     ]
    },
    {
     "data": {
      "text/plain": [
       "42448765"
      ]
     },
     "execution_count": 8,
     "metadata": {},
     "output_type": "execute_result"
    }
   ],
   "source": [
    "oct_df.count()"
   ]
  },
  {
   "cell_type": "code",
   "execution_count": 14,
   "id": "a70775fa-3acb-45a3-80b9-9e0a5a90e84f",
   "metadata": {},
   "outputs": [
    {
     "name": "stdout",
     "output_type": "stream",
     "text": [
      "+-----------------------+----------+----------+-------------------+-------------------------+------+------+---------+------------------------------------+\n",
      "|event_time             |event_type|product_id|category_id        |category_code            |brand |price |user_id  |user_session                        |\n",
      "+-----------------------+----------+----------+-------------------+-------------------------+------+------+---------+------------------------------------+\n",
      "|2019-11-01 00:00:00 UTC|view      |1003461   |2053013555631882655|electronics.smartphone   |xiaomi|489.07|520088904|4d3b30da-a5e4-49df-b1a8-ba5943f1dd33|\n",
      "|2019-11-01 00:00:00 UTC|view      |5000088   |2053013566100866035|appliances.sewing_machine|janome|293.65|530496790|8e5f4f83-366c-4f70-860e-ca7417414283|\n",
      "|2019-11-01 00:00:01 UTC|view      |17302664  |2053013553853497655|null                     |creed |28.31 |561587266|755422e7-9040-477b-9bd2-6a6e8fd97387|\n",
      "|2019-11-01 00:00:01 UTC|view      |3601530   |2053013563810775923|appliances.kitchen.washer|lg    |712.87|518085591|3bfb58cd-7892-48cc-8020-2f17e6de6e7f|\n",
      "|2019-11-01 00:00:01 UTC|view      |1004775   |2053013555631882655|electronics.smartphone   |xiaomi|183.27|558856683|313628f1-68b8-460d-84f6-cec7a8796ef2|\n",
      "+-----------------------+----------+----------+-------------------+-------------------------+------+------+---------+------------------------------------+\n",
      "only showing top 5 rows\n",
      "\n"
     ]
    }
   ],
   "source": [
    "nov_df.show(5, truncate = False)"
   ]
  },
  {
   "cell_type": "code",
   "execution_count": 15,
   "id": "f7110c3b-cf30-4b80-9274-279d46181449",
   "metadata": {},
   "outputs": [
    {
     "data": {
      "text/plain": [
       "['event_time',\n",
       " 'event_type',\n",
       " 'product_id',\n",
       " 'category_id',\n",
       " 'category_code',\n",
       " 'brand',\n",
       " 'price',\n",
       " 'user_id',\n",
       " 'user_session']"
      ]
     },
     "execution_count": 15,
     "metadata": {},
     "output_type": "execute_result"
    }
   ],
   "source": [
    "nov_df.columns"
   ]
  },
  {
   "cell_type": "markdown",
   "id": "cb46d5ae-a649-42a9-8771-e8c300500f50",
   "metadata": {},
   "source": [
    "### Aggregations for Brands"
   ]
  },
  {
   "cell_type": "code",
   "execution_count": 16,
   "id": "dc4349e8-3815-4b34-ab16-aaa7633f323f",
   "metadata": {},
   "outputs": [
    {
     "name": "stderr",
     "output_type": "stream",
     "text": [
      "                                                                                \r"
     ]
    }
   ],
   "source": [
    "agg_by_brand = df.filter(df.event_type == \"purchase\") \\\n",
    "      .groupby(\"brand\") \\\n",
    "      .agg(count(\"*\").alias(\"count\"), \\\n",
    "         sum(\"price\").alias(\"revenue\")) \\\n",
    "      .orderBy(\"count\", ascending=False).toPandas()"
   ]
  },
  {
   "cell_type": "code",
   "execution_count": null,
   "id": "8cb1fdf1-8385-480b-a2cd-b2502c1f6e91",
   "metadata": {},
   "outputs": [],
   "source": [
    "print(len(agg_by_brand))"
   ]
  },
  {
   "cell_type": "code",
   "execution_count": 18,
   "id": "b4e36ede-c862-4a48-82cf-bfc8edab5ea0",
   "metadata": {},
   "outputs": [
    {
     "data": {
      "text/html": [
       "<div>\n",
       "<style scoped>\n",
       "    .dataframe tbody tr th:only-of-type {\n",
       "        vertical-align: middle;\n",
       "    }\n",
       "\n",
       "    .dataframe tbody tr th {\n",
       "        vertical-align: top;\n",
       "    }\n",
       "\n",
       "    .dataframe thead th {\n",
       "        text-align: right;\n",
       "    }\n",
       "</style>\n",
       "<table border=\"1\" class=\"dataframe\">\n",
       "  <thead>\n",
       "    <tr style=\"text-align: right;\">\n",
       "      <th></th>\n",
       "      <th>brand</th>\n",
       "      <th>count</th>\n",
       "      <th>revenue</th>\n",
       "    </tr>\n",
       "  </thead>\n",
       "  <tbody>\n",
       "    <tr>\n",
       "      <th>0</th>\n",
       "      <td>samsung</td>\n",
       "      <td>372923</td>\n",
       "      <td>1.012774e+08</td>\n",
       "    </tr>\n",
       "    <tr>\n",
       "      <th>1</th>\n",
       "      <td>apple</td>\n",
       "      <td>308937</td>\n",
       "      <td>2.387218e+08</td>\n",
       "    </tr>\n",
       "    <tr>\n",
       "      <th>2</th>\n",
       "      <td>None</td>\n",
       "      <td>131487</td>\n",
       "      <td>1.956632e+07</td>\n",
       "    </tr>\n",
       "    <tr>\n",
       "      <th>3</th>\n",
       "      <td>xiaomi</td>\n",
       "      <td>124908</td>\n",
       "      <td>2.045390e+07</td>\n",
       "    </tr>\n",
       "    <tr>\n",
       "      <th>4</th>\n",
       "      <td>huawei</td>\n",
       "      <td>47204</td>\n",
       "      <td>9.664104e+06</td>\n",
       "    </tr>\n",
       "  </tbody>\n",
       "</table>\n",
       "</div>"
      ],
      "text/plain": [
       "     brand   count       revenue\n",
       "0  samsung  372923  1.012774e+08\n",
       "1    apple  308937  2.387218e+08\n",
       "2     None  131487  1.956632e+07\n",
       "3   xiaomi  124908  2.045390e+07\n",
       "4   huawei   47204  9.664104e+06"
      ]
     },
     "execution_count": 18,
     "metadata": {},
     "output_type": "execute_result"
    }
   ],
   "source": [
    "agg_by_brand.head(5)"
   ]
  },
  {
   "cell_type": "code",
   "execution_count": 19,
   "id": "0ca1a2bd-0373-40a8-aeca-cb6d2d6c32e9",
   "metadata": {},
   "outputs": [],
   "source": [
    "agg_by_brand.to_csv(\"agg_by_brand.csv\", index=False)"
   ]
  },
  {
   "cell_type": "markdown",
   "id": "50dad29a-6934-46ce-9b17-2b3a5077efbe",
   "metadata": {},
   "source": [
    "### Popular Brands"
   ]
  },
  {
   "cell_type": "code",
   "execution_count": 7,
   "id": "9ee16efb-7e1c-4659-a455-f0d993250873",
   "metadata": {},
   "outputs": [],
   "source": [
    "top_categories = ['samsung', 'apple', 'xiaomi', 'huawei', 'cordiant', 'lucente', 'oppo', 'lg', 'sony', 'artel', 'bosch', 'acer', 'lenovo', 'nokian']\n",
    "df = df.withColumn(\"adjusted_brand\", udf(lambda x : x if x in top_categories else \"other\")(\"brand\"))\n",
    "\n",
    "brand_counts = df.filter(df.event_type == \"purchase\") \\\n",
    "      .groupby(\"adjusted_brand\") \\\n",
    "      .count()"
   ]
  },
  {
   "cell_type": "code",
   "execution_count": 123,
   "id": "dcae1fae-5edd-4eab-9c6c-97bc0aee066d",
   "metadata": {},
   "outputs": [
    {
     "name": "stderr",
     "output_type": "stream",
     "text": [
      "                                                                                \r"
     ]
    }
   ],
   "source": [
    "brand_counts = brand_counts.toPandas()"
   ]
  },
  {
   "cell_type": "code",
   "execution_count": 124,
   "id": "441e97e3-0886-4163-922c-b916e04b9dbe",
   "metadata": {},
   "outputs": [
    {
     "data": {
      "text/html": [
       "<div>\n",
       "<style scoped>\n",
       "    .dataframe tbody tr th:only-of-type {\n",
       "        vertical-align: middle;\n",
       "    }\n",
       "\n",
       "    .dataframe tbody tr th {\n",
       "        vertical-align: top;\n",
       "    }\n",
       "\n",
       "    .dataframe thead th {\n",
       "        text-align: right;\n",
       "    }\n",
       "</style>\n",
       "<table border=\"1\" class=\"dataframe\">\n",
       "  <thead>\n",
       "    <tr style=\"text-align: right;\">\n",
       "      <th></th>\n",
       "      <th>adjusted_brand</th>\n",
       "      <th>count</th>\n",
       "    </tr>\n",
       "  </thead>\n",
       "  <tbody>\n",
       "    <tr>\n",
       "      <th>0</th>\n",
       "      <td>cordiant</td>\n",
       "      <td>27534</td>\n",
       "    </tr>\n",
       "    <tr>\n",
       "      <th>1</th>\n",
       "      <td>apple</td>\n",
       "      <td>308937</td>\n",
       "    </tr>\n",
       "    <tr>\n",
       "      <th>2</th>\n",
       "      <td>other</td>\n",
       "      <td>623127</td>\n",
       "    </tr>\n",
       "    <tr>\n",
       "      <th>3</th>\n",
       "      <td>oppo</td>\n",
       "      <td>25971</td>\n",
       "    </tr>\n",
       "    <tr>\n",
       "      <th>4</th>\n",
       "      <td>sony</td>\n",
       "      <td>17038</td>\n",
       "    </tr>\n",
       "    <tr>\n",
       "      <th>5</th>\n",
       "      <td>lg</td>\n",
       "      <td>21606</td>\n",
       "    </tr>\n",
       "    <tr>\n",
       "      <th>6</th>\n",
       "      <td>acer</td>\n",
       "      <td>13284</td>\n",
       "    </tr>\n",
       "    <tr>\n",
       "      <th>7</th>\n",
       "      <td>artel</td>\n",
       "      <td>15391</td>\n",
       "    </tr>\n",
       "    <tr>\n",
       "      <th>8</th>\n",
       "      <td>samsung</td>\n",
       "      <td>372923</td>\n",
       "    </tr>\n",
       "    <tr>\n",
       "      <th>9</th>\n",
       "      <td>lucente</td>\n",
       "      <td>26137</td>\n",
       "    </tr>\n",
       "    <tr>\n",
       "      <th>10</th>\n",
       "      <td>huawei</td>\n",
       "      <td>47204</td>\n",
       "    </tr>\n",
       "    <tr>\n",
       "      <th>11</th>\n",
       "      <td>lenovo</td>\n",
       "      <td>11125</td>\n",
       "    </tr>\n",
       "    <tr>\n",
       "      <th>12</th>\n",
       "      <td>bosch</td>\n",
       "      <td>13715</td>\n",
       "    </tr>\n",
       "    <tr>\n",
       "      <th>13</th>\n",
       "      <td>nokian</td>\n",
       "      <td>10888</td>\n",
       "    </tr>\n",
       "    <tr>\n",
       "      <th>14</th>\n",
       "      <td>xiaomi</td>\n",
       "      <td>124908</td>\n",
       "    </tr>\n",
       "  </tbody>\n",
       "</table>\n",
       "</div>"
      ],
      "text/plain": [
       "   adjusted_brand   count\n",
       "0        cordiant   27534\n",
       "1           apple  308937\n",
       "2           other  623127\n",
       "3            oppo   25971\n",
       "4            sony   17038\n",
       "5              lg   21606\n",
       "6            acer   13284\n",
       "7           artel   15391\n",
       "8         samsung  372923\n",
       "9         lucente   26137\n",
       "10         huawei   47204\n",
       "11         lenovo   11125\n",
       "12          bosch   13715\n",
       "13         nokian   10888\n",
       "14         xiaomi  124908"
      ]
     },
     "execution_count": 124,
     "metadata": {},
     "output_type": "execute_result"
    }
   ],
   "source": [
    "brand_counts"
   ]
  },
  {
   "cell_type": "code",
   "execution_count": 129,
   "id": "2b57d48b-9ef2-4e1e-a84d-35c4b8913e95",
   "metadata": {},
   "outputs": [],
   "source": [
    "brand_counts.to_csv(\"brand_counts.csv\", index=False)"
   ]
  },
  {
   "cell_type": "code",
   "execution_count": 112,
   "id": "cdf9c88e-2013-4e28-a68e-cd30b9de133d",
   "metadata": {},
   "outputs": [],
   "source": [
    "temp_counts = brand_counts.iloc[:30]"
   ]
  },
  {
   "cell_type": "code",
   "execution_count": null,
   "id": "35a6a5e7-cba8-46f6-9c45-8b709d175f91",
   "metadata": {},
   "outputs": [],
   "source": []
  },
  {
   "cell_type": "code",
   "execution_count": 128,
   "id": "c1b6b243-c046-4442-bf2b-007402ff563f",
   "metadata": {},
   "outputs": [
    {
     "data": {
      "text/html": [
       "<iframe\n",
       "    scrolling=\"no\"\n",
       "    width=\"100%\"\n",
       "    height=\"545px\"\n",
       "    src=\"iframe_figures/figure_128.html\"\n",
       "    frameborder=\"0\"\n",
       "    allowfullscreen\n",
       "></iframe>\n"
      ]
     },
     "metadata": {},
     "output_type": "display_data"
    }
   ],
   "source": [
    "fig = px.pie(brand_counts, values='count', names='adjusted_brand', hole=0.3)\n",
    "fig.show()"
   ]
  },
  {
   "cell_type": "code",
   "execution_count": null,
   "id": "c4dbe4d2-8a7f-4fa4-83e0-33d605eeac63",
   "metadata": {},
   "outputs": [],
   "source": [
    "### Dai"
   ]
  },
  {
   "cell_type": "code",
   "execution_count": 21,
   "id": "1d56c71a-0a87-4108-a23f-4ebebefdf973",
   "metadata": {},
   "outputs": [],
   "source": [
    "temp_table = df.createOrReplaceTempView(\"temp_table\")"
   ]
  },
  {
   "cell_type": "code",
   "execution_count": 22,
   "id": "cdb83118-7f4d-4233-b949-2eb7e295c209",
   "metadata": {},
   "outputs": [
    {
     "name": "stderr",
     "output_type": "stream",
     "text": [
      "                                                                                \r"
     ]
    }
   ],
   "source": [
    "highest_thru_nov = spark.sql(\"WITH CTE AS (SELECT month, day, brand, COUNT(brand) as count FROM temp_table WHERE event_type = 'purchase' GROUP BY month, day, brand ORDER BY count DESC), \\\n",
    "                            CTE_2 AS (SELECT month, day, MAX(count) as max_count FROM CTE WHERE month = 'November' GROUP BY month, day ORDER BY day) \\\n",
    "                            SELECT c1.month, c1.day, c1.brand, max_count FROM CTE c1 JOIN CTE_2 c2 ON c1.month = c2.month and c1.day = c2.day and c1.count = c2.max_count ORDER BY c1.day\").toPandas()"
   ]
  },
  {
   "cell_type": "code",
   "execution_count": 23,
   "id": "bb251054-64da-4d9c-9057-a5c57adb683b",
   "metadata": {},
   "outputs": [
    {
     "name": "stderr",
     "output_type": "stream",
     "text": [
      "                                                                                \r"
     ]
    }
   ],
   "source": [
    "highest_thru_oct = spark.sql(\"WITH CTE AS (SELECT month, day, brand, COUNT(brand) as count FROM temp_table WHERE event_type = 'purchase' GROUP BY month, day, brand ORDER BY count DESC), \\\n",
    "                            CTE_2 AS (SELECT month, day, MAX(count) as max_count FROM CTE WHERE month = 'October' GROUP BY month, day ORDER BY day) \\\n",
    "                            SELECT c1.month, c1.day, c1.brand, max_count FROM CTE c1 JOIN CTE_2 c2 ON c1.month = c2.month and c1.day = c2.day and c1.count = c2.max_count ORDER BY c1.day\").toPandas()"
   ]
  },
  {
   "cell_type": "code",
   "execution_count": 37,
   "id": "4be9b98c-a41c-4d70-816c-af4bdff4f581",
   "metadata": {},
   "outputs": [
    {
     "name": "stderr",
     "output_type": "stream",
     "text": [
      "                                                                                \r"
     ]
    }
   ],
   "source": [
    "highest_thru_nov_rev = spark.sql(\"WITH CTE AS (SELECT month, day, brand, SUM(price) as revenue FROM temp_table WHERE event_type = 'purchase' GROUP BY month, day, brand ORDER BY revenue DESC), \\\n",
    "                            CTE_2 AS (SELECT month, day, MAX(revenue) as max_revenue FROM CTE WHERE month = 'November' GROUP BY month, day ORDER BY day) \\\n",
    "                            SELECT c1.month, c1.day, c1.brand, max_revenue FROM CTE c1 JOIN CTE_2 c2 ON c1.month = c2.month and c1.day = c2.day and c1.revenue = c2.max_revenue ORDER BY c1.day\").toPandas()"
   ]
  },
  {
   "cell_type": "code",
   "execution_count": 38,
   "id": "de246b41-8f44-4f28-b6d3-4b457d170d87",
   "metadata": {},
   "outputs": [
    {
     "name": "stderr",
     "output_type": "stream",
     "text": [
      "                                                                                \r"
     ]
    }
   ],
   "source": [
    "highest_thru_oct_rev = spark.sql(\"WITH CTE AS (SELECT month, day, brand, SUM(price) as revenue FROM temp_table WHERE event_type = 'purchase' GROUP BY month, day, brand ORDER BY revenue DESC), \\\n",
    "                            CTE_2 AS (SELECT month, day, MAX(revenue) as max_revenue FROM CTE WHERE month = 'October' GROUP BY month, day ORDER BY day) \\\n",
    "                            SELECT c1.month, c1.day, c1.brand, max_revenue FROM CTE c1 JOIN CTE_2 c2 ON c1.month = c2.month and c1.day = c2.day and c1.revenue = c2.max_revenue ORDER BY c1.day\").toPandas()"
   ]
  },
  {
   "cell_type": "code",
   "execution_count": 105,
   "id": "f318a769-bc19-4729-a7de-afdbe65ebe4d",
   "metadata": {
    "scrolled": true
   },
   "outputs": [],
   "source": [
    "merged = pd.merge(highest_thru_oct, highest_thru_nov, how='outer', on='day')\n",
    "merged = pd.merge(merged, highest_thru_nov_rev, how='outer', on='day')[[\"day\", \"brand_x\", \"brand_y\", \"max_count_x\", \"max_count_y\", \"max_revenue\"]].rename({\"max_revenue\":\"max_revenue_x\"})\n",
    "merged = pd.merge(merged, highest_thru_oct_rev, how='outer', on='day').rename({\"brand_x\":\"oct_brand\", \"brand_y\":\"nov_brand\", \"max_count_x\":\"oct_count\", \"max_count_y\":\"nov_count\",\"max_revenue_x\":\"oct_rev\", \"max_revenue_y\":\"nov_rev\"}, axis=1)"
   ]
  },
  {
   "cell_type": "code",
   "execution_count": 107,
   "id": "0dc65bab-fc33-4f65-97c4-3880904f4164",
   "metadata": {},
   "outputs": [],
   "source": [
    "merged.to_csv(\"day_stats.csv\", index=False)"
   ]
  },
  {
   "cell_type": "code",
   "execution_count": 106,
   "id": "a6decce3-74b8-4613-8acc-4fa324e07907",
   "metadata": {},
   "outputs": [
    {
     "data": {
      "text/html": [
       "<div>\n",
       "<style scoped>\n",
       "    .dataframe tbody tr th:only-of-type {\n",
       "        vertical-align: middle;\n",
       "    }\n",
       "\n",
       "    .dataframe tbody tr th {\n",
       "        vertical-align: top;\n",
       "    }\n",
       "\n",
       "    .dataframe thead th {\n",
       "        text-align: right;\n",
       "    }\n",
       "</style>\n",
       "<table border=\"1\" class=\"dataframe\">\n",
       "  <thead>\n",
       "    <tr style=\"text-align: right;\">\n",
       "      <th></th>\n",
       "      <th>day</th>\n",
       "      <th>oct_brand</th>\n",
       "      <th>nov_brand</th>\n",
       "      <th>oct_count</th>\n",
       "      <th>nov_count</th>\n",
       "      <th>oct_rev</th>\n",
       "      <th>month</th>\n",
       "      <th>brand</th>\n",
       "      <th>nov_rev</th>\n",
       "    </tr>\n",
       "  </thead>\n",
       "  <tbody>\n",
       "    <tr>\n",
       "      <th>0</th>\n",
       "      <td>1</td>\n",
       "      <td>samsung</td>\n",
       "      <td>samsung</td>\n",
       "      <td>4427</td>\n",
       "      <td>5291.0</td>\n",
       "      <td>3.454626e+06</td>\n",
       "      <td>October</td>\n",
       "      <td>apple</td>\n",
       "      <td>3.175375e+06</td>\n",
       "    </tr>\n",
       "    <tr>\n",
       "      <th>1</th>\n",
       "      <td>2</td>\n",
       "      <td>samsung</td>\n",
       "      <td>samsung</td>\n",
       "      <td>4618</td>\n",
       "      <td>5179.0</td>\n",
       "      <td>2.979444e+06</td>\n",
       "      <td>October</td>\n",
       "      <td>apple</td>\n",
       "      <td>3.092671e+06</td>\n",
       "    </tr>\n",
       "    <tr>\n",
       "      <th>2</th>\n",
       "      <td>3</td>\n",
       "      <td>samsung</td>\n",
       "      <td>samsung</td>\n",
       "      <td>4590</td>\n",
       "      <td>5332.0</td>\n",
       "      <td>3.199490e+06</td>\n",
       "      <td>October</td>\n",
       "      <td>apple</td>\n",
       "      <td>3.081512e+06</td>\n",
       "    </tr>\n",
       "    <tr>\n",
       "      <th>3</th>\n",
       "      <td>4</td>\n",
       "      <td>samsung</td>\n",
       "      <td>apple</td>\n",
       "      <td>6368</td>\n",
       "      <td>5548.0</td>\n",
       "      <td>4.186447e+06</td>\n",
       "      <td>October</td>\n",
       "      <td>apple</td>\n",
       "      <td>4.165188e+06</td>\n",
       "    </tr>\n",
       "    <tr>\n",
       "      <th>4</th>\n",
       "      <td>5</td>\n",
       "      <td>samsung</td>\n",
       "      <td>samsung</td>\n",
       "      <td>5323</td>\n",
       "      <td>5125.0</td>\n",
       "      <td>3.643563e+06</td>\n",
       "      <td>October</td>\n",
       "      <td>apple</td>\n",
       "      <td>3.488695e+06</td>\n",
       "    </tr>\n",
       "  </tbody>\n",
       "</table>\n",
       "</div>"
      ],
      "text/plain": [
       "   day oct_brand nov_brand  oct_count  nov_count       oct_rev    month  \\\n",
       "0    1   samsung   samsung       4427     5291.0  3.454626e+06  October   \n",
       "1    2   samsung   samsung       4618     5179.0  2.979444e+06  October   \n",
       "2    3   samsung   samsung       4590     5332.0  3.199490e+06  October   \n",
       "3    4   samsung     apple       6368     5548.0  4.186447e+06  October   \n",
       "4    5   samsung   samsung       5323     5125.0  3.643563e+06  October   \n",
       "\n",
       "   brand       nov_rev  \n",
       "0  apple  3.175375e+06  \n",
       "1  apple  3.092671e+06  \n",
       "2  apple  3.081512e+06  \n",
       "3  apple  4.165188e+06  \n",
       "4  apple  3.488695e+06  "
      ]
     },
     "execution_count": 106,
     "metadata": {},
     "output_type": "execute_result"
    }
   ],
   "source": [
    "merged.head(5)"
   ]
  },
  {
   "cell_type": "code",
   "execution_count": 103,
   "id": "7c74d6e9-9eb4-46be-8767-ec7b55c03156",
   "metadata": {},
   "outputs": [
    {
     "data": {
      "text/html": [
       "<iframe\n",
       "    scrolling=\"no\"\n",
       "    width=\"770px\"\n",
       "    height=\"770\"\n",
       "    src=\"iframe_figures/figure_103.html\"\n",
       "    frameborder=\"0\"\n",
       "    allowfullscreen\n",
       "></iframe>\n"
      ]
     },
     "metadata": {},
     "output_type": "display_data"
    }
   ],
   "source": [
    "fig = px.bar(merged, y=\"day\", x=[\"oct_count\", \"nov_count\"], orientation='h')\n",
    "fig.update_layout(width=750, height=750,\n",
    "legend=dict(\n",
    "        x=0.8,\n",
    "        y=0.8,\n",
    "        traceorder=\"normal\",\n",
    "        font=dict(\n",
    "            family=\"sans-serif\",\n",
    "            size=12,\n",
    "            color=\"black\"\n",
    "        ),\n",
    "    ))"
   ]
  },
  {
   "cell_type": "code",
   "execution_count": null,
   "id": "0ec67b80-ba41-4252-862d-2c739bcdbdf8",
   "metadata": {},
   "outputs": [],
   "source": []
  },
  {
   "cell_type": "code",
   "execution_count": null,
   "id": "deb6beef-a7a6-4493-851a-0c5da9e619ab",
   "metadata": {},
   "outputs": [],
   "source": []
  },
  {
   "cell_type": "code",
   "execution_count": 104,
   "id": "55c38d05-38ae-4548-a3d7-d407ddb4643a",
   "metadata": {},
   "outputs": [
    {
     "data": {
      "text/html": [
       "<iframe\n",
       "    scrolling=\"no\"\n",
       "    width=\"770px\"\n",
       "    height=\"770\"\n",
       "    src=\"iframe_figures/figure_104.html\"\n",
       "    frameborder=\"0\"\n",
       "    allowfullscreen\n",
       "></iframe>\n"
      ]
     },
     "metadata": {},
     "output_type": "display_data"
    }
   ],
   "source": [
    "fig = px.bar(merged, y=\"day\", x=[\"oct_rev\", \"nov_rev\"], orientation='h')\n",
    "fig.update_layout(xaxis=dict(autorange=\"reversed\"), width=750, height=750,\n",
    "legend=dict(\n",
    "        x=0.1,\n",
    "        y=0.8,\n",
    "        traceorder=\"normal\",\n",
    "        font=dict(\n",
    "            family=\"sans-serif\",\n",
    "            size=12,\n",
    "            color=\"black\"\n",
    "        ),\n",
    "    ))\n",
    "fig.update_yaxes(visible=False)\n"
   ]
  },
  {
   "cell_type": "code",
   "execution_count": 8,
   "id": "2c0e0c69-544c-4e83-87e1-66db932b13d3",
   "metadata": {},
   "outputs": [],
   "source": [
    "temp_table = df.filter(df[\"brand\"].isin(top_categories[:5])).limit(3000000).createOrReplaceTempView(\"small_table\")"
   ]
  },
  {
   "cell_type": "code",
   "execution_count": 8,
   "id": "32a8f9b0-f256-4241-a674-e0d62b4650d8",
   "metadata": {},
   "outputs": [],
   "source": [
    "view_to_purchase = spark.sql(\n",
    "    \"WITH CTE AS (SELECT \\\n",
    "    v.brand, \\\n",
    "    v.product_id,\\\n",
    "    v.user_session,\\\n",
    "    v.time AS view_time,\\\n",
    "    p.time AS purchase_time,\\\n",
    "    TIMESTAMPDIFF(SECOND, v.time, p.time) AS time_difference FROM small_table v JOIN \\\n",
    "    small_table p ON v.product_id = p.product_id\\\n",
    "          AND v.user_session = p.user_session\\\n",
    "          AND v.event_type = 'view'\\\n",
    "          AND p.event_type = 'purchase'\\\n",
    "          AND v.time < p.time) \\\n",
    "    SELECT brand, AVG(time_difference) as avg_vtp_time, COUNT(*) as num_purchases FROM CTE GROUP BY brand HAVING num_purchases > 100 ORDER BY avg_vtp_time ASC LIMIT 30\")\n"
   ]
  },
  {
   "cell_type": "code",
   "execution_count": 140,
   "id": "e49daed3-7e63-4d1b-b18e-f0994e57437e",
   "metadata": {},
   "outputs": [
    {
     "name": "stderr",
     "output_type": "stream",
     "text": [
      "[Stage 134:>                                                        (0 + 1) / 1]\r"
     ]
    },
    {
     "name": "stdout",
     "output_type": "stream",
     "text": [
      "+--------+------------------+-------------+\n",
      "|   brand|      avg_vtp_time|num_purchases|\n",
      "+--------+------------------+-------------+\n",
      "|   apple|249.96059957173446|        14010|\n",
      "|  huawei| 317.2927802153969|         2507|\n",
      "| samsung|  328.220799664183|        19058|\n",
      "|cordiant| 388.9107573564882|         2073|\n",
      "|  xiaomi|401.90677091016374|         6779|\n",
      "+--------+------------------+-------------+\n",
      "\n"
     ]
    },
    {
     "name": "stderr",
     "output_type": "stream",
     "text": [
      "                                                                                \r"
     ]
    }
   ],
   "source": [
    "view_to_purchase.show(20)"
   ]
  },
  {
   "cell_type": "code",
   "execution_count": 9,
   "id": "16935ea4-ca4f-4fdc-a144-128d894130b6",
   "metadata": {},
   "outputs": [
    {
     "name": "stderr",
     "output_type": "stream",
     "text": [
      "23/06/03 19:18:52 WARN RowBasedKeyValueBatch: Calling spill() on RowBasedKeyValueBatch. Will not spill but return 0.\n",
      "                                                                                \r"
     ]
    }
   ],
   "source": [
    "vtp_df = view_to_purchase.toPandas()"
   ]
  },
  {
   "cell_type": "code",
   "execution_count": 11,
   "id": "3a5d55b1-e8c1-495c-949e-18e61d4b90ff",
   "metadata": {},
   "outputs": [],
   "source": [
    "vtp_df.to_csv(\"vtp.csv\", index=False)"
   ]
  },
  {
   "cell_type": "code",
   "execution_count": 9,
   "id": "44ff5372-7ebf-4e6b-abb8-2967f5a3e87e",
   "metadata": {},
   "outputs": [],
   "source": [
    "view_to_cart = spark.sql(\n",
    "    \"WITH CTE AS (SELECT \\\n",
    "    v.brand, \\\n",
    "    v.product_id,\\\n",
    "    v.user_session,\\\n",
    "    v.time AS view_time,\\\n",
    "    p.time AS cart_time,\\\n",
    "    TIMESTAMPDIFF(SECOND, v.time, p.time) AS time_difference FROM small_table v JOIN \\\n",
    "    small_table p ON v.product_id = p.product_id\\\n",
    "          AND v.user_session = p.user_session\\\n",
    "          AND v.event_type = 'view'\\\n",
    "          AND p.event_type = 'cart'\\\n",
    "          AND v.time < p.time) \\\n",
    "    SELECT brand, AVG(time_difference) as avg_vtc_time, COUNT(*) as num_carts FROM CTE GROUP BY brand HAVING num_carts > 100 ORDER BY avg_vtc_time ASC LIMIT 30\")\n"
   ]
  },
  {
   "cell_type": "code",
   "execution_count": 10,
   "id": "82d25b2f-989a-47c9-9e58-047441a42c9a",
   "metadata": {},
   "outputs": [
    {
     "name": "stderr",
     "output_type": "stream",
     "text": [
      "23/06/03 19:49:12 WARN RowBasedKeyValueBatch: Calling spill() on RowBasedKeyValueBatch. Will not spill but return 0.\n",
      "                                                                                \r"
     ]
    }
   ],
   "source": [
    "vtc_df = view_to_cart.toPandas()"
   ]
  },
  {
   "cell_type": "code",
   "execution_count": 11,
   "id": "d75a368b-8157-48a3-8784-156c3599bd42",
   "metadata": {},
   "outputs": [
    {
     "data": {
      "text/plain": [
       "5"
      ]
     },
     "execution_count": 11,
     "metadata": {},
     "output_type": "execute_result"
    }
   ],
   "source": [
    "len(vtc_df)"
   ]
  },
  {
   "cell_type": "code",
   "execution_count": 12,
   "id": "6cd89924-748c-4d89-903d-6d54726ec98d",
   "metadata": {},
   "outputs": [
    {
     "name": "stdout",
     "output_type": "stream",
     "text": [
      "      brand  avg_vtc_time  num_carts\n",
      "0     apple    215.145040      49552\n",
      "1  cordiant    224.126629       4375\n",
      "2   samsung    250.490482      66665\n",
      "3    huawei    278.584385      10541\n",
      "4    xiaomi    463.716211      28641\n"
     ]
    }
   ],
   "source": [
    "print(vtc_df)"
   ]
  },
  {
   "cell_type": "code",
   "execution_count": 13,
   "id": "bdd4796f-cf38-4346-8665-bf0452bda8c5",
   "metadata": {},
   "outputs": [],
   "source": [
    "vtp_df = pd.read_csv(\"vtp.csv\")"
   ]
  },
  {
   "cell_type": "code",
   "execution_count": 14,
   "id": "c205e63b-d6da-4687-88c1-d485b626e822",
   "metadata": {},
   "outputs": [],
   "source": [
    "v_times = vtp_df.merge(vtc_df, on=\"brand\")"
   ]
  },
  {
   "cell_type": "code",
   "execution_count": 15,
   "id": "efa60190-f34e-49f3-9e39-14bc33a9daff",
   "metadata": {},
   "outputs": [
    {
     "data": {
      "text/html": [
       "<div>\n",
       "<style scoped>\n",
       "    .dataframe tbody tr th:only-of-type {\n",
       "        vertical-align: middle;\n",
       "    }\n",
       "\n",
       "    .dataframe tbody tr th {\n",
       "        vertical-align: top;\n",
       "    }\n",
       "\n",
       "    .dataframe thead th {\n",
       "        text-align: right;\n",
       "    }\n",
       "</style>\n",
       "<table border=\"1\" class=\"dataframe\">\n",
       "  <thead>\n",
       "    <tr style=\"text-align: right;\">\n",
       "      <th></th>\n",
       "      <th>brand</th>\n",
       "      <th>avg_vtp_time</th>\n",
       "      <th>num_purchases</th>\n",
       "      <th>avg_vtc_time</th>\n",
       "      <th>num_carts</th>\n",
       "    </tr>\n",
       "  </thead>\n",
       "  <tbody>\n",
       "    <tr>\n",
       "      <th>0</th>\n",
       "      <td>apple</td>\n",
       "      <td>243.120771</td>\n",
       "      <td>43032</td>\n",
       "      <td>215.145040</td>\n",
       "      <td>49552</td>\n",
       "    </tr>\n",
       "    <tr>\n",
       "      <th>1</th>\n",
       "      <td>samsung</td>\n",
       "      <td>315.013421</td>\n",
       "      <td>52903</td>\n",
       "      <td>250.490482</td>\n",
       "      <td>66665</td>\n",
       "    </tr>\n",
       "    <tr>\n",
       "      <th>2</th>\n",
       "      <td>huawei</td>\n",
       "      <td>321.108403</td>\n",
       "      <td>6974</td>\n",
       "      <td>278.584385</td>\n",
       "      <td>10541</td>\n",
       "    </tr>\n",
       "    <tr>\n",
       "      <th>3</th>\n",
       "      <td>xiaomi</td>\n",
       "      <td>367.188554</td>\n",
       "      <td>19745</td>\n",
       "      <td>463.716211</td>\n",
       "      <td>28641</td>\n",
       "    </tr>\n",
       "    <tr>\n",
       "      <th>4</th>\n",
       "      <td>cordiant</td>\n",
       "      <td>380.542930</td>\n",
       "      <td>9364</td>\n",
       "      <td>224.126629</td>\n",
       "      <td>4375</td>\n",
       "    </tr>\n",
       "  </tbody>\n",
       "</table>\n",
       "</div>"
      ],
      "text/plain": [
       "      brand  avg_vtp_time  num_purchases  avg_vtc_time  num_carts\n",
       "0     apple    243.120771          43032    215.145040      49552\n",
       "1   samsung    315.013421          52903    250.490482      66665\n",
       "2    huawei    321.108403           6974    278.584385      10541\n",
       "3    xiaomi    367.188554          19745    463.716211      28641\n",
       "4  cordiant    380.542930           9364    224.126629       4375"
      ]
     },
     "execution_count": 15,
     "metadata": {},
     "output_type": "execute_result"
    }
   ],
   "source": [
    "v_times"
   ]
  },
  {
   "cell_type": "code",
   "execution_count": 16,
   "id": "6b88d3ea-a4b2-499a-aea7-2f40329e6d34",
   "metadata": {},
   "outputs": [],
   "source": [
    "v_times.to_csv(\"v_times.csv\", index=False)"
   ]
  },
  {
   "cell_type": "code",
   "execution_count": 82,
   "id": "b8582581-204a-4421-8106-b9f55a22696a",
   "metadata": {},
   "outputs": [],
   "source": [
    "weekly_purchases = spark.sql(\n",
    "\"SELECT product_id, COUNT(*) as purchase_count,\\\n",
    "    CASE WHEN day BETWEEN 1 AND 7 THEN 1 \\\n",
    "         WHEN day BETWEEN 8 AND 15 THEN 2\\\n",
    "         WHEN day BETWEEN 16 AND 23 THEN 3\\\n",
    "         ELSE 4 END as purchase_week \\\n",
    "    FROM small_table\\\n",
    "    WHERE event_type = 'purchase'\\\n",
    "    GROUP BY product_id, purchase_week\\\n",
    "    ORDER BY product_id, purchase_count DESC\")"
   ]
  },
  {
   "cell_type": "code",
   "execution_count": 80,
   "id": "a6f3768b-ec25-4847-909f-019d285f0b4d",
   "metadata": {},
   "outputs": [
    {
     "name": "stderr",
     "output_type": "stream",
     "text": [
      "[Stage 93:==================================================>   (104 + 7) / 111]\r"
     ]
    },
    {
     "name": "stdout",
     "output_type": "stream",
     "text": [
      "+----------+--------------+-------------+\n",
      "|product_id|purchase_count|purchase_week|\n",
      "+----------+--------------+-------------+\n",
      "|   1002524|             4|            1|\n",
      "|   1002528|             1|            1|\n",
      "|   1002532|             3|            1|\n",
      "|   1002536|             1|            1|\n",
      "|   1002540|             1|            1|\n",
      "|   1002544|            24|            1|\n",
      "|   1002547|             2|            1|\n",
      "|   1002629|             6|            1|\n",
      "|   1002633|             8|            1|\n",
      "|   1003304|             4|            1|\n",
      "|   1003306|             7|            1|\n",
      "|   1003309|             1|            1|\n",
      "|   1003316|             2|            1|\n",
      "|   1003317|             6|            1|\n",
      "|   1003441|             1|            1|\n",
      "|   1003533|             1|            1|\n",
      "|   1003535|             1|            1|\n",
      "|   1003772|             2|            1|\n",
      "|   1003894|             1|            1|\n",
      "|   1003983|             1|            1|\n",
      "+----------+--------------+-------------+\n",
      "only showing top 20 rows\n",
      "\n"
     ]
    },
    {
     "name": "stderr",
     "output_type": "stream",
     "text": [
      "                                                                                \r"
     ]
    }
   ],
   "source": [
    "weekly_purchases.show(20)"
   ]
  },
  {
   "cell_type": "markdown",
   "id": "9b532118-36ad-4f69-b6da-64ba79b7aaef",
   "metadata": {},
   "source": [
    "### Sankey Test"
   ]
  },
  {
   "cell_type": "code",
   "execution_count": 141,
   "id": "daca267c-5503-4551-9ee3-c722fa78642d",
   "metadata": {},
   "outputs": [],
   "source": [
    "temp_spark = df[[\"category_code\"]].filter(df.event_type == \"purchase\")\n",
    "temp_spark = temp_spark.na.fill(\"unknown\")"
   ]
  },
  {
   "cell_type": "code",
   "execution_count": 142,
   "id": "a0e88137-6f76-4029-b276-2c62e3d1676b",
   "metadata": {},
   "outputs": [],
   "source": [
    "temp_spark = temp_spark.withColumn(\"test\", udf(lambda x : x.replace(\".\", \"-\") if not None else \"empty\")(\"category_code\"))\n",
    "cat_col = split(temp_spark[\"test\"], \"-\")\n",
    "\n",
    "temp_spark = temp_spark.withColumn(\"main_category\", cat_col.getItem(0))\n",
    "temp_spark = temp_spark.withColumn(\"subcategory_1\", cat_col.getItem(1))\n",
    "temp_spark = temp_spark.withColumn(\"subcategory_2\", cat_col.getItem(2))\n",
    "# temp_spark = temp_spark.withColumn(\"subcategory_3\", cat_col.getItem(3))\n",
    "\n",
    "temp_spark = temp_spark.drop(\"category_code\")\n",
    "temp_spark = temp_spark.drop(\"test\")"
   ]
  },
  {
   "cell_type": "code",
   "execution_count": 143,
   "id": "5e5865e8-4986-4960-9984-8bd02c48223c",
   "metadata": {},
   "outputs": [
    {
     "name": "stderr",
     "output_type": "stream",
     "text": [
      "                                                                                \r"
     ]
    },
    {
     "data": {
      "text/plain": [
       "14"
      ]
     },
     "execution_count": 143,
     "metadata": {},
     "output_type": "execute_result"
    }
   ],
   "source": [
    "grouped_spark = temp_spark.groupby(\"main_category\", \"subcategory_1\").count().orderBy(\"count\", ascending=False)\n",
    "grouped_spark[[\"main_category\"]].distinct().count()"
   ]
  },
  {
   "cell_type": "code",
   "execution_count": null,
   "id": "bbff8479-01e1-4f8d-89f2-486d9666b262",
   "metadata": {},
   "outputs": [],
   "source": [
    "top_categories = list(temp_spark.groupby(\"main_category\").count().orderBy(\"count\", ascending=False).limit(15).toPandas()[\"main_category\"])"
   ]
  },
  {
   "cell_type": "code",
   "execution_count": 25,
   "id": "10b18717-26ce-40f6-b98e-2bdea99cf7b1",
   "metadata": {},
   "outputs": [],
   "source": [
    "grouped_spark = temp_spark.filter(temp_spark[\"main_category\"].isin(top_categories)).groupby(\"main_category\", \"subcategory_1\").count().orderBy(\"count\", ascending=False)\n",
    "grouped_spark = grouped_spark.na.drop(\"any\")"
   ]
  },
  {
   "cell_type": "code",
   "execution_count": 13,
   "id": "cd35905f-ba9f-4938-89d1-05047b9c2e4c",
   "metadata": {},
   "outputs": [
    {
     "name": "stderr",
     "output_type": "stream",
     "text": [
      "[Stage 2:======================================================>(109 + 2) / 111]\r"
     ]
    },
    {
     "name": "stdout",
     "output_type": "stream",
     "text": [
      "+-------------+-------------+-------+\n",
      "|main_category|subcategory_1|  count|\n",
      "+-------------+-------------+-------+\n",
      "|  accessories|     umbrella|   8912|\n",
      "|  accessories|       wallet| 113986|\n",
      "|  accessories|          bag| 505378|\n",
      "|      apparel|       jacket|    437|\n",
      "|      apparel|       shorts|   1284|\n",
      "|      apparel|        glove|   3824|\n",
      "|      apparel|        scarf|   6141|\n",
      "|      apparel|         sock|   6224|\n",
      "|      apparel|         belt|   7167|\n",
      "|      apparel|        skirt|   9866|\n",
      "|      apparel|       jumper|  34339|\n",
      "|      apparel|       tshirt|  40522|\n",
      "|      apparel|     trousers|  41422|\n",
      "|      apparel|        shirt|  64609|\n",
      "|      apparel|    underwear|  92183|\n",
      "|      apparel|        jeans| 109707|\n",
      "|      apparel|        dress| 133886|\n",
      "|      apparel|      costume| 380291|\n",
      "|      apparel|        shoes|3622123|\n",
      "|   appliances|ironing_board|  99103|\n",
      "+-------------+-------------+-------+\n",
      "only showing top 20 rows\n",
      "\n"
     ]
    },
    {
     "name": "stderr",
     "output_type": "stream",
     "text": [
      "                                                                                \r"
     ]
    }
   ],
   "source": [
    "grouped_spark.show()"
   ]
  },
  {
   "cell_type": "code",
   "execution_count": 26,
   "id": "4a553fd0-0916-4251-aa8f-bb898335a02a",
   "metadata": {},
   "outputs": [],
   "source": [
    "grouped_spark_2 = temp_spark.groupby(\"main_category\", \"subcategory_1\", \"subcategory_2\").count()\n",
    "grouped_spark_2 = grouped_spark_2.na.drop(\"any\")"
   ]
  },
  {
   "cell_type": "code",
   "execution_count": 365,
   "id": "38e2b479-70cc-4801-9068-68aa45f587a4",
   "metadata": {},
   "outputs": [
    {
     "name": "stderr",
     "output_type": "stream",
     "text": [
      "[Stage 492:===================================================> (108 + 3) / 111]\r"
     ]
    },
    {
     "name": "stdout",
     "output_type": "stream",
     "text": [
      "+-------------+-------------+---------------+-----+\n",
      "|main_category|subcategory_1|  subcategory_2|count|\n",
      "+-------------+-------------+---------------+-----+\n",
      "|      apparel|        shoes|           keds|    4|\n",
      "|      apparel|        shoes|      moccasins|    1|\n",
      "|   appliances|      kitchen|         washer|   12|\n",
      "|   appliances|      kitchen|  refrigerators|   22|\n",
      "|   appliances|      kitchen|     dishwasher|   10|\n",
      "|   appliances|  environment|         vacuum|    4|\n",
      "|   appliances|  environment|   water_heater|   11|\n",
      "|   appliances|     personal|       massager|   19|\n",
      "|   appliances|      kitchen|           hood|    3|\n",
      "|   appliances|  environment|air_conditioner|    1|\n",
      "|   appliances|      kitchen|        blender|    2|\n",
      "|         auto|  accessories|     compressor|    2|\n",
      "|         auto|  accessories|         player|   12|\n",
      "|         auto|  accessories|  videoregister|    1|\n",
      "|    computers|   components|    motherboard|   13|\n",
      "|    computers|  peripherals|        printer|    2|\n",
      "|    computers|   components|     videocards|   10|\n",
      "|    computers|  peripherals|       keyboard|    3|\n",
      "|    computers|   components|         memory|    1|\n",
      "|    computers|   components|            hdd|    1|\n",
      "+-------------+-------------+---------------+-----+\n",
      "only showing top 20 rows\n",
      "\n"
     ]
    },
    {
     "name": "stderr",
     "output_type": "stream",
     "text": [
      "                                                                                \r"
     ]
    }
   ],
   "source": [
    "grouped_spark_2.show()"
   ]
  },
  {
   "cell_type": "code",
   "execution_count": 27,
   "id": "977b0697-ede3-4847-827f-9ef4835f1e57",
   "metadata": {},
   "outputs": [
    {
     "name": "stderr",
     "output_type": "stream",
     "text": [
      "                                                                                \r"
     ]
    }
   ],
   "source": [
    "from pyspark.ml.feature import StringIndexer\n",
    "\n",
    "indexer = StringIndexer(inputCol=\"main_category\", outputCol=\"main_cat_index\") \n",
    "indexed_model_1 = indexer.fit(grouped_spark)\n",
    "indexed_spark = indexed_model_1.transform(grouped_spark) \n",
    "\n",
    "indexer = StringIndexer(inputCol=\"subcategory_1\", outputCol=\"subcat_1_index\") \n",
    "indexed_model_2 = indexer.fit(indexed_spark)\n",
    "indexed_spark = indexed_model_2.transform(indexed_spark) "
   ]
  },
  {
   "cell_type": "code",
   "execution_count": 28,
   "id": "591f52fa-8942-4538-a283-56185f363a4b",
   "metadata": {},
   "outputs": [
    {
     "name": "stderr",
     "output_type": "stream",
     "text": [
      "                                                                                \r"
     ]
    }
   ],
   "source": [
    "max_val = indexed_spark.agg({\"main_cat_index\": \"max\"}).collect()[0][0]\n",
    "indexed_spark = indexed_spark.withColumn(\"subcat_1_index_adjusted\", indexed_spark[\"subcat_1_index\"] + max_val + 1)"
   ]
  },
  {
   "cell_type": "code",
   "execution_count": null,
   "id": "1af17ca2-f7c2-4fc3-954a-0d5ee83bd0e7",
   "metadata": {},
   "outputs": [],
   "source": [
    "indexed_spark_2 = indexed_model_2.transform(grouped_spark_2)\n",
    "indexer = StringIndexer(inputCol=\"subcategory_2\", outputCol=\"subcat_2_index\") \n",
    "indexed_model_3 = indexer.fit(indexed_spark_2)\n",
    "indexed_spark_2 = indexed_model_3.transform(indexed_spark_2) "
   ]
  },
  {
   "cell_type": "code",
   "execution_count": 354,
   "id": "532d9601-d170-4942-a6c8-0e29bba7d045",
   "metadata": {},
   "outputs": [
    {
     "name": "stderr",
     "output_type": "stream",
     "text": [
      "                                                                                \r"
     ]
    }
   ],
   "source": [
    "indexed_spark_2 = indexed_spark_2.withColumn(\"subcat_1_index_adjusted\", indexed_spark_2[\"subcat_1_index\"] + max_val + 1)\n",
    "max_val_2 = indexed_spark_2.agg({\"subcat_1_index_adjusted\": \"max\"}).collect()[0][0]\n",
    "indexed_spark_2 = indexed_spark_2.withColumn(\"subcat_2_index_adjusted\", indexed_spark_2[\"subcat_2_index\"] + max_val_2 + 1)"
   ]
  },
  {
   "cell_type": "code",
   "execution_count": 29,
   "id": "b0d55e4d-121b-4e2c-ab68-4a9ceb531c79",
   "metadata": {},
   "outputs": [
    {
     "name": "stderr",
     "output_type": "stream",
     "text": [
      "                                                                                \r"
     ]
    },
    {
     "name": "stdout",
     "output_type": "stream",
     "text": [
      "+-------------+--------------+------+--------------+--------------+-----------------------+\n",
      "|main_category| subcategory_1| count|main_cat_index|subcat_1_index|subcat_1_index_adjusted|\n",
      "+-------------+--------------+------+--------------+--------------+-----------------------+\n",
      "|  electronics|    smartphone|720665|           1.0|          42.0|                   55.0|\n",
      "|   appliances|       kitchen|109465|           2.0|           1.0|                   14.0|\n",
      "|  electronics|         audio| 81894|           1.0|           4.0|                   17.0|\n",
      "|  electronics|         video| 52020|           1.0|          56.0|                   69.0|\n",
      "|   appliances|   environment| 44049|           2.0|          20.0|                   33.0|\n",
      "|  electronics|        clocks| 41143|           1.0|          13.0|                   26.0|\n",
      "|    computers|      notebook| 34023|           4.0|          31.0|                   44.0|\n",
      "|         auto|   accessories| 21339|          10.0|           3.0|                   16.0|\n",
      "|      apparel|         shoes| 19609|           0.0|          37.0|                   50.0|\n",
      "| construction|         tools| 15815|           9.0|           2.0|                   15.0|\n",
      "|  electronics|        tablet| 11741|           1.0|          46.0|                   59.0|\n",
      "|    computers|   peripherals| 11600|           4.0|          32.0|                   45.0|\n",
      "|    computers|    components|  8968|           4.0|           0.0|                   13.0|\n",
      "|    furniture|   living_room|  8387|           5.0|          30.0|                   43.0|\n",
      "|   appliances|          iron|  8303|           2.0|          24.0|                   37.0|\n",
      "|  electronics|     telephone|  8076|           1.0|          47.0|                   60.0|\n",
      "|    computers|       desktop|  7013|           4.0|          16.0|                   29.0|\n",
      "|    furniture|       bedroom|  5859|           5.0|           7.0|                   20.0|\n",
      "|   appliances|      personal|  5803|           2.0|          33.0|                   46.0|\n",
      "|         kids|      carriage|  4955|           3.0|          11.0|                   24.0|\n",
      "|    furniture|       kitchen|  4922|           5.0|           1.0|                   14.0|\n",
      "|   appliances|sewing_machine|  4848|           2.0|          35.0|                   48.0|\n",
      "|  accessories|           bag|  3015|           7.0|           5.0|                   18.0|\n",
      "|         kids|          toys|  2425|           3.0|          49.0|                   62.0|\n",
      "|         kids|          fmcg|  1587|           3.0|          21.0|                   34.0|\n",
      "|   appliances| ironing_board|  1554|           2.0|          25.0|                   38.0|\n",
      "|        sport|       bicycle|  1374|           6.0|           9.0|                   22.0|\n",
      "|      apparel|       costume|  1368|           0.0|          14.0|                   27.0|\n",
      "|  electronics|        camera|  1128|           1.0|          10.0|                   23.0|\n",
      "|         kids|        skates|  1088|           3.0|          39.0|                   52.0|\n",
      "|        sport|       trainer|  1060|           6.0|          50.0|                   63.0|\n",
      "|         kids|         swing|   812|           3.0|          45.0|                   58.0|\n",
      "|         kids|         dolls|   781|           3.0|          17.0|                   30.0|\n",
      "|    computers|        ebooks|   728|           4.0|          19.0|                   32.0|\n",
      "| construction|    components|   685|           9.0|           0.0|                   13.0|\n",
      "|  accessories|        wallet|   676|           7.0|          57.0|                   70.0|\n",
      "|     medicine|         tools|   654|          11.0|           2.0|                   15.0|\n",
      "|    furniture|      bathroom|   588|           5.0|           6.0|                   19.0|\n",
      "|   stationery|      cartrige|   325|          12.0|          12.0|                   25.0|\n",
      "|      apparel|         jeans|   309|           0.0|          27.0|                   40.0|\n",
      "|      apparel|     underwear|   181|           0.0|          54.0|                   67.0|\n",
      "|      apparel|         shirt|   160|           0.0|          36.0|                   49.0|\n",
      "|      apparel|        tshirt|   151|           0.0|          52.0|                   65.0|\n",
      "|        sport|     snowboard|   144|           6.0|          43.0|                   56.0|\n",
      "|      apparel|         dress|   127|           0.0|          18.0|                   31.0|\n",
      "|        sport|           ski|    90|           6.0|          40.0|                   53.0|\n",
      "|    furniture|     universal|    87|           5.0|          55.0|                   68.0|\n",
      "|      apparel|        jumper|    84|           0.0|          28.0|                   41.0|\n",
      "| country_yard|    lawn_mower|    82|           8.0|          29.0|                   42.0|\n",
      "|      apparel|      trousers|    72|           0.0|          51.0|                   64.0|\n",
      "|      apparel|          belt|    62|           0.0|           8.0|                   21.0|\n",
      "|        sport|        tennis|    57|           6.0|          48.0|                   61.0|\n",
      "|  accessories|      umbrella|    50|           7.0|          53.0|                   66.0|\n",
      "| country_yard|    cultivator|    46|           8.0|          15.0|                   28.0|\n",
      "|      apparel|          sock|    40|           0.0|          44.0|                   57.0|\n",
      "|      apparel|         scarf|    18|           0.0|          34.0|                   47.0|\n",
      "|      apparel|         glove|    17|           0.0|          23.0|                   36.0|\n",
      "|      apparel|         skirt|    14|           0.0|          41.0|                   54.0|\n",
      "| country_yard|     furniture|     4|           8.0|          22.0|                   35.0|\n",
      "|      apparel|        shorts|     4|           0.0|          38.0|                   51.0|\n",
      "|      apparel|        jacket|     1|           0.0|          26.0|                   39.0|\n",
      "+-------------+--------------+------+--------------+--------------+-----------------------+\n",
      "\n"
     ]
    }
   ],
   "source": [
    "indexed_spark.show(1000)"
   ]
  },
  {
   "cell_type": "code",
   "execution_count": null,
   "id": "15012444-254d-47b5-8081-0ec12ef36223",
   "metadata": {},
   "outputs": [],
   "source": [
    "indexed_spark_2.show(1000)"
   ]
  },
  {
   "cell_type": "code",
   "execution_count": 30,
   "id": "dbbf05db-8865-4bfe-ac39-da8ead61fb86",
   "metadata": {},
   "outputs": [
    {
     "name": "stderr",
     "output_type": "stream",
     "text": [
      "                                                                                \r"
     ]
    }
   ],
   "source": [
    "sankey_df = indexed_spark.limit(1000).toPandas()"
   ]
  },
  {
   "cell_type": "code",
   "execution_count": 327,
   "id": "425d03e9-5bc8-4441-b30c-41180fbf1d4a",
   "metadata": {},
   "outputs": [
    {
     "name": "stderr",
     "output_type": "stream",
     "text": [
      "                                                                                \r"
     ]
    }
   ],
   "source": [
    "sankey_df_2 = indexed_spark_2.limit(1000).toPandas()"
   ]
  },
  {
   "cell_type": "code",
   "execution_count": 38,
   "id": "0e78704d-07b5-4457-b45d-fd08bd8a19dd",
   "metadata": {},
   "outputs": [],
   "source": [
    "labels = indexed_model_1.labels + indexed_model_2.labels"
   ]
  },
  {
   "cell_type": "code",
   "execution_count": 352,
   "id": "42af5b80-bc17-4af1-9283-42926f0c0251",
   "metadata": {},
   "outputs": [
    {
     "data": {
      "text/plain": [
       "['kitchen',\n",
       " 'accessories',\n",
       " 'audio',\n",
       " 'bag',\n",
       " 'bathroom',\n",
       " 'bedroom',\n",
       " 'bicycle',\n",
       " 'camera',\n",
       " 'carriage',\n",
       " 'clocks',\n",
       " 'components',\n",
       " 'costume',\n",
       " 'desktop',\n",
       " 'dolls',\n",
       " 'environment',\n",
       " 'jeans',\n",
       " 'living_room',\n",
       " 'notebook',\n",
       " 'peripherals',\n",
       " 'personal',\n",
       " 'sewing_machine',\n",
       " 'shirt',\n",
       " 'shoes',\n",
       " 'smartphone',\n",
       " 'tablet',\n",
       " 'telephone',\n",
       " 'tools',\n",
       " 'toys',\n",
       " 'trousers',\n",
       " 'tshirt',\n",
       " 'underwear',\n",
       " 'video',\n",
       " 'air_conditioner',\n",
       " 'bath',\n",
       " 'bed',\n",
       " 'blender',\n",
       " 'cabinet',\n",
       " 'chair',\n",
       " 'compressor',\n",
       " 'cpu',\n",
       " 'dishwasher',\n",
       " 'drill',\n",
       " 'hdd',\n",
       " 'headphone',\n",
       " 'hood',\n",
       " 'keds',\n",
       " 'keyboard',\n",
       " 'light',\n",
       " 'massager',\n",
       " 'memory',\n",
       " 'moccasins',\n",
       " 'motherboard',\n",
       " 'music_tools',\n",
       " 'painting',\n",
       " 'player',\n",
       " 'printer',\n",
       " 'refrigerators',\n",
       " 'saw',\n",
       " 'sofa',\n",
       " 'subwoofer',\n",
       " 'table',\n",
       " 'tv',\n",
       " 'vacuum',\n",
       " 'video',\n",
       " 'videocards',\n",
       " 'videoregister',\n",
       " 'washer',\n",
       " 'water_heater',\n",
       " 'welding']"
      ]
     },
     "execution_count": 352,
     "metadata": {},
     "output_type": "execute_result"
    }
   ],
   "source": [
    "labels"
   ]
  },
  {
   "cell_type": "code",
   "execution_count": 196,
   "id": "002981bd-47fa-496b-a981-b9f0457bcbef",
   "metadata": {},
   "outputs": [
    {
     "name": "stdout",
     "output_type": "stream",
     "text": [
      "0    1.0\n",
      "1    2.0\n",
      "2    2.0\n",
      "3    3.0\n",
      "4    4.0\n",
      "5    4.0\n",
      "6    1.0\n",
      "7    2.0\n",
      "8    1.0\n",
      "9    1.0\n",
      "Name: main_cat_index, dtype: float64\n"
     ]
    }
   ],
   "source": [
    "print(sankey_df[\"main_cat_index\"])"
   ]
  },
  {
   "cell_type": "code",
   "execution_count": 34,
   "id": "10d29df0-7227-4b26-a1c1-8f50fd0bfa6c",
   "metadata": {},
   "outputs": [
    {
     "data": {
      "text/html": [
       "<iframe\n",
       "    scrolling=\"no\"\n",
       "    width=\"1020px\"\n",
       "    height=\"1020\"\n",
       "    src=\"iframe_figures/figure_34.html\"\n",
       "    frameborder=\"0\"\n",
       "    allowfullscreen\n",
       "></iframe>\n"
      ]
     },
     "metadata": {},
     "output_type": "display_data"
    }
   ],
   "source": [
    "import plotly.graph_objects as go\n",
    "\n",
    "source = sankey_df[\"main_cat_index\"] \n",
    "target = sankey_df[\"subcat_1_index_adjusted\"]\n",
    "value = sankey_df[\"count\"]\n",
    "# data to dict, dict to sankey\n",
    "link = dict(source = source, target = target, value = value)\n",
    "node = dict(label = labels, pad=50, thickness=5)\n",
    "data = go.Sankey(link = link, node = node)\n",
    "# plot\n",
    "fig = go.Figure(data)\n",
    "fig.update_layout(\n",
    "    width=1000,\n",
    "    height=1000\n",
    ")\n",
    "\n",
    "fig.show()"
   ]
  },
  {
   "cell_type": "code",
   "execution_count": 36,
   "id": "34f1956b-6a5b-42e6-b076-b8e323039d09",
   "metadata": {},
   "outputs": [],
   "source": [
    "sankey_df.to_csv(\"sankey.csv\", index=False)"
   ]
  },
  {
   "cell_type": "code",
   "execution_count": 40,
   "id": "6ba58f08-52a2-4c9f-9754-bf0745bac41a",
   "metadata": {},
   "outputs": [],
   "source": [
    "import pickle\n",
    "\n",
    "with open(\"sankey_labels.txt\", \"wb\") as f:\n",
    "    pickle.dump(labels, f)"
   ]
  }
 ],
 "metadata": {
  "kernelspec": {
   "display_name": "Python 3 (ipykernel)",
   "language": "python",
   "name": "python3"
  },
  "language_info": {
   "codemirror_mode": {
    "name": "ipython",
    "version": 3
   },
   "file_extension": ".py",
   "mimetype": "text/x-python",
   "name": "python",
   "nbconvert_exporter": "python",
   "pygments_lexer": "ipython3",
   "version": "3.11.3"
  }
 },
 "nbformat": 4,
 "nbformat_minor": 5
}
