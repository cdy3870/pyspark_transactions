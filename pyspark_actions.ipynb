{
 "cells": [
  {
   "cell_type": "code",
   "execution_count": 1,
   "id": "1f939601-1f2d-4c70-b4a0-7d489ade88f5",
   "metadata": {},
   "outputs": [
    {
     "data": {
      "text/plain": [
       "'/Users/calvinyu/miniforge3/envs/spark/lib/python3.11/site-packages/pyspark'"
      ]
     },
     "execution_count": 1,
     "metadata": {},
     "output_type": "execute_result"
    }
   ],
   "source": [
    "import findspark\n",
    "findspark.init()\n",
    "findspark.find()"
   ]
  },
  {
   "cell_type": "code",
   "execution_count": 2,
   "id": "29f17326-1857-4d65-871a-fc7b0b85f84b",
   "metadata": {},
   "outputs": [],
   "source": [
    "from pyspark.sql import SparkSession\n",
    "from pyspark.sql.functions import desc, split, udf, lit, sum, avg, max, count\n",
    "import matplotlib.pyplot as plt\n",
    "import plotly.express as px\n",
    "import functools\n",
    "from pyspark.sql import DataFrame\n",
    "import pandas as pd"
   ]
  },
  {
   "cell_type": "code",
   "execution_count": 7,
   "id": "54b42094-d51d-47c4-a3a6-9a29037a98cb",
   "metadata": {},
   "outputs": [],
   "source": [
    "import plotly.io as pio\n",
    "pio.renderers.default = \"iframe\""
   ]
  },
  {
   "cell_type": "code",
   "execution_count": 6,
   "id": "e8282540-e708-49cb-a395-c31d37645efe",
   "metadata": {},
   "outputs": [
    {
     "name": "stderr",
     "output_type": "stream",
     "text": [
      "Setting default log level to \"WARN\".\n",
      "To adjust logging level use sc.setLogLevel(newLevel). For SparkR, use setLogLevel(newLevel).\n",
      "23/07/11 22:32:30 WARN NativeCodeLoader: Unable to load native-hadoop library for your platform... using builtin-java classes where applicable\n"
     ]
    }
   ],
   "source": [
    "spark = SparkSession.builder.appName('test').getOrCreate()"
   ]
  },
  {
   "cell_type": "code",
   "execution_count": 5,
   "id": "45334757-0a21-46ce-9d20-fd9c07b0ccf0",
   "metadata": {},
   "outputs": [
    {
     "ename": "AnalysisException",
     "evalue": "[PATH_NOT_FOUND] Path does not exist: file:/Users/calvinyu/Documents/test_programs/HPDC/pyspark_test/data/2019-Nov.csv.",
     "output_type": "error",
     "traceback": [
      "\u001b[0;31m---------------------------------------------------------------------------\u001b[0m",
      "\u001b[0;31mAnalysisException\u001b[0m                         Traceback (most recent call last)",
      "Cell \u001b[0;32mIn[5], line 26\u001b[0m\n\u001b[1;32m     23\u001b[0m     df_output \u001b[38;5;241m=\u001b[39m functools\u001b[38;5;241m.\u001b[39mreduce(DataFrame\u001b[38;5;241m.\u001b[39munion, dfs)\n\u001b[1;32m     24\u001b[0m     \u001b[38;5;28;01mreturn\u001b[39;00m df_output\n\u001b[0;32m---> 26\u001b[0m df \u001b[38;5;241m=\u001b[39m \u001b[43mprocess_dfs\u001b[49m\u001b[43m(\u001b[49m\u001b[43mspark\u001b[49m\u001b[43m,\u001b[49m\u001b[43m \u001b[49m\u001b[43m[\u001b[49m\u001b[38;5;124;43m\"\u001b[39;49m\u001b[38;5;124;43mdata/2019-Nov.csv\u001b[39;49m\u001b[38;5;124;43m\"\u001b[39;49m\u001b[43m,\u001b[49m\u001b[43m \u001b[49m\u001b[38;5;124;43m\"\u001b[39;49m\u001b[38;5;124;43mdata/2019-Oct.csv\u001b[39;49m\u001b[38;5;124;43m\"\u001b[39;49m\u001b[43m]\u001b[49m\u001b[43m)\u001b[49m\n",
      "Cell \u001b[0;32mIn[5], line 5\u001b[0m, in \u001b[0;36mprocess_dfs\u001b[0;34m(_spark, _file_names)\u001b[0m\n\u001b[1;32m      3\u001b[0m dfs \u001b[38;5;241m=\u001b[39m []\n\u001b[1;32m      4\u001b[0m \u001b[38;5;28;01mfor\u001b[39;00m file_name \u001b[38;5;129;01min\u001b[39;00m _file_names:\n\u001b[0;32m----> 5\u001b[0m     df \u001b[38;5;241m=\u001b[39m \u001b[43m_spark\u001b[49m\u001b[38;5;241;43m.\u001b[39;49m\u001b[43mread\u001b[49m\u001b[38;5;241;43m.\u001b[39;49m\u001b[43moption\u001b[49m\u001b[43m(\u001b[49m\u001b[38;5;124;43m\"\u001b[39;49m\u001b[38;5;124;43mheader\u001b[39;49m\u001b[38;5;124;43m\"\u001b[39;49m\u001b[43m,\u001b[49m\u001b[38;5;28;43;01mTrue\u001b[39;49;00m\u001b[43m)\u001b[49m\u001b[38;5;241;43m.\u001b[39;49m\u001b[43mcsv\u001b[49m\u001b[43m(\u001b[49m\u001b[43mfile_name\u001b[49m\u001b[43m)\u001b[49m\n\u001b[1;32m      6\u001b[0m     df \u001b[38;5;241m=\u001b[39m df\u001b[38;5;241m.\u001b[39mwithColumn(\u001b[38;5;124m\"\u001b[39m\u001b[38;5;124mprice\u001b[39m\u001b[38;5;124m\"\u001b[39m, df\u001b[38;5;241m.\u001b[39mprice\u001b[38;5;241m.\u001b[39mcast(\u001b[38;5;124m'\u001b[39m\u001b[38;5;124mfloat\u001b[39m\u001b[38;5;124m'\u001b[39m))\n\u001b[1;32m      7\u001b[0m     dt_col \u001b[38;5;241m=\u001b[39m split(df[\u001b[38;5;124m\"\u001b[39m\u001b[38;5;124mevent_time\u001b[39m\u001b[38;5;124m\"\u001b[39m], \u001b[38;5;124m\"\u001b[39m\u001b[38;5;124m \u001b[39m\u001b[38;5;124m\"\u001b[39m)\n",
      "File \u001b[0;32m~/miniforge3/envs/spark/lib/python3.11/site-packages/pyspark/sql/readwriter.py:727\u001b[0m, in \u001b[0;36mDataFrameReader.csv\u001b[0;34m(self, path, schema, sep, encoding, quote, escape, comment, header, inferSchema, ignoreLeadingWhiteSpace, ignoreTrailingWhiteSpace, nullValue, nanValue, positiveInf, negativeInf, dateFormat, timestampFormat, maxColumns, maxCharsPerColumn, maxMalformedLogPerPartition, mode, columnNameOfCorruptRecord, multiLine, charToEscapeQuoteEscaping, samplingRatio, enforceSchema, emptyValue, locale, lineSep, pathGlobFilter, recursiveFileLookup, modifiedBefore, modifiedAfter, unescapedQuoteHandling)\u001b[0m\n\u001b[1;32m    725\u001b[0m \u001b[38;5;28;01mif\u001b[39;00m \u001b[38;5;28mtype\u001b[39m(path) \u001b[38;5;241m==\u001b[39m \u001b[38;5;28mlist\u001b[39m:\n\u001b[1;32m    726\u001b[0m     \u001b[38;5;28;01massert\u001b[39;00m \u001b[38;5;28mself\u001b[39m\u001b[38;5;241m.\u001b[39m_spark\u001b[38;5;241m.\u001b[39m_sc\u001b[38;5;241m.\u001b[39m_jvm \u001b[38;5;129;01mis\u001b[39;00m \u001b[38;5;129;01mnot\u001b[39;00m \u001b[38;5;28;01mNone\u001b[39;00m\n\u001b[0;32m--> 727\u001b[0m     \u001b[38;5;28;01mreturn\u001b[39;00m \u001b[38;5;28mself\u001b[39m\u001b[38;5;241m.\u001b[39m_df(\u001b[38;5;28;43mself\u001b[39;49m\u001b[38;5;241;43m.\u001b[39;49m\u001b[43m_jreader\u001b[49m\u001b[38;5;241;43m.\u001b[39;49m\u001b[43mcsv\u001b[49m\u001b[43m(\u001b[49m\u001b[38;5;28;43mself\u001b[39;49m\u001b[38;5;241;43m.\u001b[39;49m\u001b[43m_spark\u001b[49m\u001b[38;5;241;43m.\u001b[39;49m\u001b[43m_sc\u001b[49m\u001b[38;5;241;43m.\u001b[39;49m\u001b[43m_jvm\u001b[49m\u001b[38;5;241;43m.\u001b[39;49m\u001b[43mPythonUtils\u001b[49m\u001b[38;5;241;43m.\u001b[39;49m\u001b[43mtoSeq\u001b[49m\u001b[43m(\u001b[49m\u001b[43mpath\u001b[49m\u001b[43m)\u001b[49m\u001b[43m)\u001b[49m)\n\u001b[1;32m    728\u001b[0m \u001b[38;5;28;01melif\u001b[39;00m \u001b[38;5;28misinstance\u001b[39m(path, RDD):\n\u001b[1;32m    730\u001b[0m     \u001b[38;5;28;01mdef\u001b[39;00m \u001b[38;5;21mfunc\u001b[39m(iterator):\n",
      "File \u001b[0;32m~/miniforge3/envs/spark/lib/python3.11/site-packages/py4j/java_gateway.py:1322\u001b[0m, in \u001b[0;36mJavaMember.__call__\u001b[0;34m(self, *args)\u001b[0m\n\u001b[1;32m   1316\u001b[0m command \u001b[38;5;241m=\u001b[39m proto\u001b[38;5;241m.\u001b[39mCALL_COMMAND_NAME \u001b[38;5;241m+\u001b[39m\\\n\u001b[1;32m   1317\u001b[0m     \u001b[38;5;28mself\u001b[39m\u001b[38;5;241m.\u001b[39mcommand_header \u001b[38;5;241m+\u001b[39m\\\n\u001b[1;32m   1318\u001b[0m     args_command \u001b[38;5;241m+\u001b[39m\\\n\u001b[1;32m   1319\u001b[0m     proto\u001b[38;5;241m.\u001b[39mEND_COMMAND_PART\n\u001b[1;32m   1321\u001b[0m answer \u001b[38;5;241m=\u001b[39m \u001b[38;5;28mself\u001b[39m\u001b[38;5;241m.\u001b[39mgateway_client\u001b[38;5;241m.\u001b[39msend_command(command)\n\u001b[0;32m-> 1322\u001b[0m return_value \u001b[38;5;241m=\u001b[39m \u001b[43mget_return_value\u001b[49m\u001b[43m(\u001b[49m\n\u001b[1;32m   1323\u001b[0m \u001b[43m    \u001b[49m\u001b[43manswer\u001b[49m\u001b[43m,\u001b[49m\u001b[43m \u001b[49m\u001b[38;5;28;43mself\u001b[39;49m\u001b[38;5;241;43m.\u001b[39;49m\u001b[43mgateway_client\u001b[49m\u001b[43m,\u001b[49m\u001b[43m \u001b[49m\u001b[38;5;28;43mself\u001b[39;49m\u001b[38;5;241;43m.\u001b[39;49m\u001b[43mtarget_id\u001b[49m\u001b[43m,\u001b[49m\u001b[43m \u001b[49m\u001b[38;5;28;43mself\u001b[39;49m\u001b[38;5;241;43m.\u001b[39;49m\u001b[43mname\u001b[49m\u001b[43m)\u001b[49m\n\u001b[1;32m   1325\u001b[0m \u001b[38;5;28;01mfor\u001b[39;00m temp_arg \u001b[38;5;129;01min\u001b[39;00m temp_args:\n\u001b[1;32m   1326\u001b[0m     \u001b[38;5;28;01mif\u001b[39;00m \u001b[38;5;28mhasattr\u001b[39m(temp_arg, \u001b[38;5;124m\"\u001b[39m\u001b[38;5;124m_detach\u001b[39m\u001b[38;5;124m\"\u001b[39m):\n",
      "File \u001b[0;32m~/miniforge3/envs/spark/lib/python3.11/site-packages/pyspark/errors/exceptions/captured.py:175\u001b[0m, in \u001b[0;36mcapture_sql_exception.<locals>.deco\u001b[0;34m(*a, **kw)\u001b[0m\n\u001b[1;32m    171\u001b[0m converted \u001b[38;5;241m=\u001b[39m convert_exception(e\u001b[38;5;241m.\u001b[39mjava_exception)\n\u001b[1;32m    172\u001b[0m \u001b[38;5;28;01mif\u001b[39;00m \u001b[38;5;129;01mnot\u001b[39;00m \u001b[38;5;28misinstance\u001b[39m(converted, UnknownException):\n\u001b[1;32m    173\u001b[0m     \u001b[38;5;66;03m# Hide where the exception came from that shows a non-Pythonic\u001b[39;00m\n\u001b[1;32m    174\u001b[0m     \u001b[38;5;66;03m# JVM exception message.\u001b[39;00m\n\u001b[0;32m--> 175\u001b[0m     \u001b[38;5;28;01mraise\u001b[39;00m converted \u001b[38;5;28;01mfrom\u001b[39;00m \u001b[38;5;28;01mNone\u001b[39;00m\n\u001b[1;32m    176\u001b[0m \u001b[38;5;28;01melse\u001b[39;00m:\n\u001b[1;32m    177\u001b[0m     \u001b[38;5;28;01mraise\u001b[39;00m\n",
      "\u001b[0;31mAnalysisException\u001b[0m: [PATH_NOT_FOUND] Path does not exist: file:/Users/calvinyu/Documents/test_programs/HPDC/pyspark_test/data/2019-Nov.csv."
     ]
    }
   ],
   "source": [
    "mapping = {10: \"October\", 11: \"November\"}\n",
    "def process_dfs(_spark, _file_names):\n",
    "    dfs = []\n",
    "    for file_name in _file_names:\n",
    "        df = _spark.read.option(\"header\",True).csv(file_name)\n",
    "        df = df.withColumn(\"price\", df.price.cast('float'))\n",
    "        dt_col = split(df[\"event_time\"], \" \")\n",
    "        df = df.withColumn(\"date\", dt_col.getItem(0))\n",
    "        df = df.withColumn(\"time\", dt_col.getItem(1))\n",
    "        date_col = split(df[\"date\"], \"-\")\n",
    "        df = df.withColumn(\"year\", date_col.getItem(0))\n",
    "        df = df.withColumn(\"year\", df.year.cast('int'))\n",
    "        df = df.withColumn(\"month\", date_col.getItem(1))\n",
    "        df = df.withColumn(\"month\", df.month.cast('int'))\n",
    "        df = df.withColumn(\"day\", date_col.getItem(2))\n",
    "        df = df.withColumn(\"day\", df.day.cast('int'))\n",
    "\n",
    "        df = df.withColumn(\"month\", udf(lambda x : mapping[x])(\"month\"))\n",
    "        df = df.drop(\"event_time\")\n",
    "        # df = df.drop(\"date\")\n",
    "        dfs.append(df)\n",
    "\n",
    "    df_output = functools.reduce(DataFrame.union, dfs)\n",
    "    return df_output\n",
    "\n",
    "df = process_dfs(spark, [\"data/2019-Nov.csv\", \"data/2019-Oct.csv\"])"
   ]
  },
  {
   "cell_type": "code",
   "execution_count": 130,
   "id": "2126fb02-4030-437f-82d2-f6bd1cfed4d6",
   "metadata": {},
   "outputs": [
    {
     "name": "stderr",
     "output_type": "stream",
     "text": [
      "                                                                                \r"
     ]
    },
    {
     "data": {
      "text/plain": [
       "109950743"
      ]
     },
     "execution_count": 130,
     "metadata": {},
     "output_type": "execute_result"
    }
   ],
   "source": [
    "df.count()"
   ]
  },
  {
   "cell_type": "code",
   "execution_count": 131,
   "id": "e88c16a1-6de8-4c63-856f-514ba50e711a",
   "metadata": {},
   "outputs": [
    {
     "name": "stderr",
     "output_type": "stream",
     "text": [
      "                                                                                \r"
     ]
    },
    {
     "data": {
      "text/plain": [
       "4304"
      ]
     },
     "execution_count": 131,
     "metadata": {},
     "output_type": "execute_result"
    }
   ],
   "source": [
    "df[[\"brand\"]].distinct().count()"
   ]
  },
  {
   "cell_type": "code",
   "execution_count": 129,
   "id": "5109d452-d323-4a35-8d67-41a656bdcf27",
   "metadata": {},
   "outputs": [
    {
     "name": "stdout",
     "output_type": "stream",
     "text": [
      "+----------+----------+-------------------+-------------------------+------+------+---------+------------------------------------+--------+----+--------+---+\n",
      "|event_type|product_id|category_id        |category_code            |brand |price |user_id  |user_session                        |time    |year|month   |day|\n",
      "+----------+----------+-------------------+-------------------------+------+------+---------+------------------------------------+--------+----+--------+---+\n",
      "|view      |1003461   |2053013555631882655|electronics.smartphone   |xiaomi|489.07|520088904|4d3b30da-a5e4-49df-b1a8-ba5943f1dd33|00:00:00|2019|November|1  |\n",
      "|view      |5000088   |2053013566100866035|appliances.sewing_machine|janome|293.65|530496790|8e5f4f83-366c-4f70-860e-ca7417414283|00:00:00|2019|November|1  |\n",
      "|view      |17302664  |2053013553853497655|null                     |creed |28.31 |561587266|755422e7-9040-477b-9bd2-6a6e8fd97387|00:00:01|2019|November|1  |\n",
      "|view      |3601530   |2053013563810775923|appliances.kitchen.washer|lg    |712.87|518085591|3bfb58cd-7892-48cc-8020-2f17e6de6e7f|00:00:01|2019|November|1  |\n",
      "|view      |1004775   |2053013555631882655|electronics.smartphone   |xiaomi|183.27|558856683|313628f1-68b8-460d-84f6-cec7a8796ef2|00:00:01|2019|November|1  |\n",
      "+----------+----------+-------------------+-------------------------+------+------+---------+------------------------------------+--------+----+--------+---+\n",
      "only showing top 5 rows\n",
      "\n"
     ]
    }
   ],
   "source": [
    "df.show(5, truncate=False)"
   ]
  },
  {
   "cell_type": "code",
   "execution_count": null,
   "id": "ac1fe204-41ca-4bd6-b49b-187d65351aeb",
   "metadata": {},
   "outputs": [],
   "source": []
  },
  {
   "cell_type": "code",
   "execution_count": 12,
   "id": "477c4e4e-1280-441c-bbfe-91c1c40cb716",
   "metadata": {},
   "outputs": [],
   "source": [
    "nov_df = spark.read.option(\"header\",True).csv(\"data/2019-Nov.csv\")"
   ]
  },
  {
   "cell_type": "code",
   "execution_count": 51,
   "id": "76215808-12ca-4fff-93ee-1ffe74531c27",
   "metadata": {},
   "outputs": [],
   "source": [
    "nov_df = nov_df.withColumn(\"price\", nov_df.price.cast('float'))"
   ]
  },
  {
   "cell_type": "code",
   "execution_count": 13,
   "id": "fe0727c9-cb2b-4e97-9a3f-d71159c1a187",
   "metadata": {},
   "outputs": [],
   "source": [
    "oct_df = spark.read.option(\"header\",True).csv(\"data/2019-Oct.csv\")"
   ]
  },
  {
   "cell_type": "code",
   "execution_count": 7,
   "id": "66975a3f-b665-4a15-871d-b34cfa8a9984",
   "metadata": {},
   "outputs": [
    {
     "name": "stderr",
     "output_type": "stream",
     "text": [
      "                                                                                \r"
     ]
    },
    {
     "data": {
      "text/plain": [
       "67501980"
      ]
     },
     "execution_count": 7,
     "metadata": {},
     "output_type": "execute_result"
    }
   ],
   "source": [
    "nov_df.count()"
   ]
  },
  {
   "cell_type": "code",
   "execution_count": 8,
   "id": "eb8b85e6-bcff-441e-a55b-434c97f95b79",
   "metadata": {},
   "outputs": [
    {
     "name": "stderr",
     "output_type": "stream",
     "text": [
      "                                                                                \r"
     ]
    },
    {
     "data": {
      "text/plain": [
       "42448765"
      ]
     },
     "execution_count": 8,
     "metadata": {},
     "output_type": "execute_result"
    }
   ],
   "source": [
    "oct_df.count()"
   ]
  },
  {
   "cell_type": "code",
   "execution_count": 14,
   "id": "a70775fa-3acb-45a3-80b9-9e0a5a90e84f",
   "metadata": {},
   "outputs": [
    {
     "name": "stdout",
     "output_type": "stream",
     "text": [
      "+-----------------------+----------+----------+-------------------+-------------------------+------+------+---------+------------------------------------+\n",
      "|event_time             |event_type|product_id|category_id        |category_code            |brand |price |user_id  |user_session                        |\n",
      "+-----------------------+----------+----------+-------------------+-------------------------+------+------+---------+------------------------------------+\n",
      "|2019-11-01 00:00:00 UTC|view      |1003461   |2053013555631882655|electronics.smartphone   |xiaomi|489.07|520088904|4d3b30da-a5e4-49df-b1a8-ba5943f1dd33|\n",
      "|2019-11-01 00:00:00 UTC|view      |5000088   |2053013566100866035|appliances.sewing_machine|janome|293.65|530496790|8e5f4f83-366c-4f70-860e-ca7417414283|\n",
      "|2019-11-01 00:00:01 UTC|view      |17302664  |2053013553853497655|null                     |creed |28.31 |561587266|755422e7-9040-477b-9bd2-6a6e8fd97387|\n",
      "|2019-11-01 00:00:01 UTC|view      |3601530   |2053013563810775923|appliances.kitchen.washer|lg    |712.87|518085591|3bfb58cd-7892-48cc-8020-2f17e6de6e7f|\n",
      "|2019-11-01 00:00:01 UTC|view      |1004775   |2053013555631882655|electronics.smartphone   |xiaomi|183.27|558856683|313628f1-68b8-460d-84f6-cec7a8796ef2|\n",
      "+-----------------------+----------+----------+-------------------+-------------------------+------+------+---------+------------------------------------+\n",
      "only showing top 5 rows\n",
      "\n"
     ]
    }
   ],
   "source": [
    "nov_df.show(5, truncate = False)"
   ]
  },
  {
   "cell_type": "code",
   "execution_count": 15,
   "id": "f7110c3b-cf30-4b80-9274-279d46181449",
   "metadata": {},
   "outputs": [
    {
     "data": {
      "text/plain": [
       "['event_time',\n",
       " 'event_type',\n",
       " 'product_id',\n",
       " 'category_id',\n",
       " 'category_code',\n",
       " 'brand',\n",
       " 'price',\n",
       " 'user_id',\n",
       " 'user_session']"
      ]
     },
     "execution_count": 15,
     "metadata": {},
     "output_type": "execute_result"
    }
   ],
   "source": [
    "nov_df.columns"
   ]
  },
  {
   "cell_type": "markdown",
   "id": "cb46d5ae-a649-42a9-8771-e8c300500f50",
   "metadata": {},
   "source": [
    "### Aggregations for Brands"
   ]
  },
  {
   "cell_type": "code",
   "execution_count": 16,
   "id": "dc4349e8-3815-4b34-ab16-aaa7633f323f",
   "metadata": {},
   "outputs": [
    {
     "name": "stderr",
     "output_type": "stream",
     "text": [
      "                                                                                \r"
     ]
    }
   ],
   "source": [
    "agg_by_brand = df.filter(df.event_type == \"purchase\") \\\n",
    "      .groupby(\"brand\") \\\n",
    "      .agg(count(\"*\").alias(\"count\"), \\\n",
    "         sum(\"price\").alias(\"revenue\")) \\\n",
    "      .orderBy(\"count\", ascending=False).toPandas()"
   ]
  },
  {
   "cell_type": "code",
   "execution_count": null,
   "id": "8cb1fdf1-8385-480b-a2cd-b2502c1f6e91",
   "metadata": {},
   "outputs": [],
   "source": [
    "print(len(agg_by_brand))"
   ]
  },
  {
   "cell_type": "code",
   "execution_count": 18,
   "id": "b4e36ede-c862-4a48-82cf-bfc8edab5ea0",
   "metadata": {},
   "outputs": [
    {
     "data": {
      "text/html": [
       "<div>\n",
       "<style scoped>\n",
       "    .dataframe tbody tr th:only-of-type {\n",
       "        vertical-align: middle;\n",
       "    }\n",
       "\n",
       "    .dataframe tbody tr th {\n",
       "        vertical-align: top;\n",
       "    }\n",
       "\n",
       "    .dataframe thead th {\n",
       "        text-align: right;\n",
       "    }\n",
       "</style>\n",
       "<table border=\"1\" class=\"dataframe\">\n",
       "  <thead>\n",
       "    <tr style=\"text-align: right;\">\n",
       "      <th></th>\n",
       "      <th>brand</th>\n",
       "      <th>count</th>\n",
       "      <th>revenue</th>\n",
       "    </tr>\n",
       "  </thead>\n",
       "  <tbody>\n",
       "    <tr>\n",
       "      <th>0</th>\n",
       "      <td>samsung</td>\n",
       "      <td>372923</td>\n",
       "      <td>1.012774e+08</td>\n",
       "    </tr>\n",
       "    <tr>\n",
       "      <th>1</th>\n",
       "      <td>apple</td>\n",
       "      <td>308937</td>\n",
       "      <td>2.387218e+08</td>\n",
       "    </tr>\n",
       "    <tr>\n",
       "      <th>2</th>\n",
       "      <td>None</td>\n",
       "      <td>131487</td>\n",
       "      <td>1.956632e+07</td>\n",
       "    </tr>\n",
       "    <tr>\n",
       "      <th>3</th>\n",
       "      <td>xiaomi</td>\n",
       "      <td>124908</td>\n",
       "      <td>2.045390e+07</td>\n",
       "    </tr>\n",
       "    <tr>\n",
       "      <th>4</th>\n",
       "      <td>huawei</td>\n",
       "      <td>47204</td>\n",
       "      <td>9.664104e+06</td>\n",
       "    </tr>\n",
       "  </tbody>\n",
       "</table>\n",
       "</div>"
      ],
      "text/plain": [
       "     brand   count       revenue\n",
       "0  samsung  372923  1.012774e+08\n",
       "1    apple  308937  2.387218e+08\n",
       "2     None  131487  1.956632e+07\n",
       "3   xiaomi  124908  2.045390e+07\n",
       "4   huawei   47204  9.664104e+06"
      ]
     },
     "execution_count": 18,
     "metadata": {},
     "output_type": "execute_result"
    }
   ],
   "source": [
    "agg_by_brand.head(5)"
   ]
  },
  {
   "cell_type": "code",
   "execution_count": 19,
   "id": "0ca1a2bd-0373-40a8-aeca-cb6d2d6c32e9",
   "metadata": {},
   "outputs": [],
   "source": [
    "agg_by_brand.to_csv(\"agg_by_brand.csv\", index=False)"
   ]
  },
  {
   "cell_type": "markdown",
   "id": "50dad29a-6934-46ce-9b17-2b3a5077efbe",
   "metadata": {},
   "source": [
    "### Popular Brands"
   ]
  },
  {
   "cell_type": "code",
   "execution_count": 7,
   "id": "9ee16efb-7e1c-4659-a455-f0d993250873",
   "metadata": {},
   "outputs": [],
   "source": [
    "top_categories = ['samsung', 'apple', 'xiaomi', 'huawei', 'cordiant', 'lucente', 'oppo', 'lg', 'sony', 'artel', 'bosch', 'acer', 'lenovo', 'nokian']\n",
    "df = df.withColumn(\"adjusted_brand\", udf(lambda x : x if x in top_categories else \"other\")(\"brand\"))\n",
    "\n",
    "brand_counts = df.filter(df.event_type == \"purchase\") \\\n",
    "      .groupby(\"adjusted_brand\") \\\n",
    "      .count()"
   ]
  },
  {
   "cell_type": "code",
   "execution_count": 123,
   "id": "dcae1fae-5edd-4eab-9c6c-97bc0aee066d",
   "metadata": {},
   "outputs": [
    {
     "name": "stderr",
     "output_type": "stream",
     "text": [
      "                                                                                \r"
     ]
    }
   ],
   "source": [
    "brand_counts = brand_counts.toPandas()"
   ]
  },
  {
   "cell_type": "code",
   "execution_count": 124,
   "id": "441e97e3-0886-4163-922c-b916e04b9dbe",
   "metadata": {},
   "outputs": [
    {
     "data": {
      "text/html": [
       "<div>\n",
       "<style scoped>\n",
       "    .dataframe tbody tr th:only-of-type {\n",
       "        vertical-align: middle;\n",
       "    }\n",
       "\n",
       "    .dataframe tbody tr th {\n",
       "        vertical-align: top;\n",
       "    }\n",
       "\n",
       "    .dataframe thead th {\n",
       "        text-align: right;\n",
       "    }\n",
       "</style>\n",
       "<table border=\"1\" class=\"dataframe\">\n",
       "  <thead>\n",
       "    <tr style=\"text-align: right;\">\n",
       "      <th></th>\n",
       "      <th>adjusted_brand</th>\n",
       "      <th>count</th>\n",
       "    </tr>\n",
       "  </thead>\n",
       "  <tbody>\n",
       "    <tr>\n",
       "      <th>0</th>\n",
       "      <td>cordiant</td>\n",
       "      <td>27534</td>\n",
       "    </tr>\n",
       "    <tr>\n",
       "      <th>1</th>\n",
       "      <td>apple</td>\n",
       "      <td>308937</td>\n",
       "    </tr>\n",
       "    <tr>\n",
       "      <th>2</th>\n",
       "      <td>other</td>\n",
       "      <td>623127</td>\n",
       "    </tr>\n",
       "    <tr>\n",
       "      <th>3</th>\n",
       "      <td>oppo</td>\n",
       "      <td>25971</td>\n",
       "    </tr>\n",
       "    <tr>\n",
       "      <th>4</th>\n",
       "      <td>sony</td>\n",
       "      <td>17038</td>\n",
       "    </tr>\n",
       "    <tr>\n",
       "      <th>5</th>\n",
       "      <td>lg</td>\n",
       "      <td>21606</td>\n",
       "    </tr>\n",
       "    <tr>\n",
       "      <th>6</th>\n",
       "      <td>acer</td>\n",
       "      <td>13284</td>\n",
       "    </tr>\n",
       "    <tr>\n",
       "      <th>7</th>\n",
       "      <td>artel</td>\n",
       "      <td>15391</td>\n",
       "    </tr>\n",
       "    <tr>\n",
       "      <th>8</th>\n",
       "      <td>samsung</td>\n",
       "      <td>372923</td>\n",
       "    </tr>\n",
       "    <tr>\n",
       "      <th>9</th>\n",
       "      <td>lucente</td>\n",
       "      <td>26137</td>\n",
       "    </tr>\n",
       "    <tr>\n",
       "      <th>10</th>\n",
       "      <td>huawei</td>\n",
       "      <td>47204</td>\n",
       "    </tr>\n",
       "    <tr>\n",
       "      <th>11</th>\n",
       "      <td>lenovo</td>\n",
       "      <td>11125</td>\n",
       "    </tr>\n",
       "    <tr>\n",
       "      <th>12</th>\n",
       "      <td>bosch</td>\n",
       "      <td>13715</td>\n",
       "    </tr>\n",
       "    <tr>\n",
       "      <th>13</th>\n",
       "      <td>nokian</td>\n",
       "      <td>10888</td>\n",
       "    </tr>\n",
       "    <tr>\n",
       "      <th>14</th>\n",
       "      <td>xiaomi</td>\n",
       "      <td>124908</td>\n",
       "    </tr>\n",
       "  </tbody>\n",
       "</table>\n",
       "</div>"
      ],
      "text/plain": [
       "   adjusted_brand   count\n",
       "0        cordiant   27534\n",
       "1           apple  308937\n",
       "2           other  623127\n",
       "3            oppo   25971\n",
       "4            sony   17038\n",
       "5              lg   21606\n",
       "6            acer   13284\n",
       "7           artel   15391\n",
       "8         samsung  372923\n",
       "9         lucente   26137\n",
       "10         huawei   47204\n",
       "11         lenovo   11125\n",
       "12          bosch   13715\n",
       "13         nokian   10888\n",
       "14         xiaomi  124908"
      ]
     },
     "execution_count": 124,
     "metadata": {},
     "output_type": "execute_result"
    }
   ],
   "source": [
    "brand_counts"
   ]
  },
  {
   "cell_type": "code",
   "execution_count": 129,
   "id": "2b57d48b-9ef2-4e1e-a84d-35c4b8913e95",
   "metadata": {},
   "outputs": [],
   "source": [
    "brand_counts.to_csv(\"brand_counts.csv\", index=False)"
   ]
  },
  {
   "cell_type": "code",
   "execution_count": 112,
   "id": "cdf9c88e-2013-4e28-a68e-cd30b9de133d",
   "metadata": {},
   "outputs": [],
   "source": [
    "temp_counts = brand_counts.iloc[:30]"
   ]
  },
  {
   "cell_type": "code",
   "execution_count": null,
   "id": "35a6a5e7-cba8-46f6-9c45-8b709d175f91",
   "metadata": {},
   "outputs": [],
   "source": []
  },
  {
   "cell_type": "code",
   "execution_count": 128,
   "id": "c1b6b243-c046-4442-bf2b-007402ff563f",
   "metadata": {},
   "outputs": [
    {
     "data": {
      "text/html": [
       "<iframe\n",
       "    scrolling=\"no\"\n",
       "    width=\"100%\"\n",
       "    height=\"545px\"\n",
       "    src=\"iframe_figures/figure_128.html\"\n",
       "    frameborder=\"0\"\n",
       "    allowfullscreen\n",
       "></iframe>\n"
      ]
     },
     "metadata": {},
     "output_type": "display_data"
    }
   ],
   "source": [
    "fig = px.pie(brand_counts, values='count', names='adjusted_brand', hole=0.3)\n",
    "fig.show()"
   ]
  },
  {
   "cell_type": "markdown",
   "id": "097a26c2-7b20-4f51-aaf7-b9f1b31192c0",
   "metadata": {},
   "source": [
    "### Daily Trends"
   ]
  },
  {
   "cell_type": "code",
   "execution_count": 21,
   "id": "1d56c71a-0a87-4108-a23f-4ebebefdf973",
   "metadata": {},
   "outputs": [],
   "source": [
    "temp_table = df.createOrReplaceTempView(\"temp_table\")"
   ]
  },
  {
   "cell_type": "code",
   "execution_count": 22,
   "id": "cdb83118-7f4d-4233-b949-2eb7e295c209",
   "metadata": {},
   "outputs": [
    {
     "name": "stderr",
     "output_type": "stream",
     "text": [
      "                                                                                \r"
     ]
    }
   ],
   "source": [
    "highest_thru_nov = spark.sql(\"WITH CTE AS (SELECT month, day, brand, COUNT(brand) as count FROM temp_table WHERE event_type = 'purchase' GROUP BY month, day, brand ORDER BY count DESC), \\\n",
    "                            CTE_2 AS (SELECT month, day, MAX(count) as max_count FROM CTE WHERE month = 'November' GROUP BY month, day ORDER BY day) \\\n",
    "                            SELECT c1.month, c1.day, c1.brand, max_count FROM CTE c1 JOIN CTE_2 c2 ON c1.month = c2.month and c1.day = c2.day and c1.count = c2.max_count ORDER BY c1.day\").toPandas()"
   ]
  },
  {
   "cell_type": "code",
   "execution_count": 23,
   "id": "bb251054-64da-4d9c-9057-a5c57adb683b",
   "metadata": {},
   "outputs": [
    {
     "name": "stderr",
     "output_type": "stream",
     "text": [
      "                                                                                \r"
     ]
    }
   ],
   "source": [
    "highest_thru_oct = spark.sql(\"WITH CTE AS (SELECT month, day, brand, COUNT(brand) as count FROM temp_table WHERE event_type = 'purchase' GROUP BY month, day, brand ORDER BY count DESC), \\\n",
    "                            CTE_2 AS (SELECT month, day, MAX(count) as max_count FROM CTE WHERE month = 'October' GROUP BY month, day ORDER BY day) \\\n",
    "                            SELECT c1.month, c1.day, c1.brand, max_count FROM CTE c1 JOIN CTE_2 c2 ON c1.month = c2.month and c1.day = c2.day and c1.count = c2.max_count ORDER BY c1.day\").toPandas()"
   ]
  },
  {
   "cell_type": "code",
   "execution_count": 37,
   "id": "4be9b98c-a41c-4d70-816c-af4bdff4f581",
   "metadata": {},
   "outputs": [
    {
     "name": "stderr",
     "output_type": "stream",
     "text": [
      "                                                                                \r"
     ]
    }
   ],
   "source": [
    "highest_thru_nov_rev = spark.sql(\"WITH CTE AS (SELECT month, day, brand, SUM(price) as revenue FROM temp_table WHERE event_type = 'purchase' GROUP BY month, day, brand ORDER BY revenue DESC), \\\n",
    "                            CTE_2 AS (SELECT month, day, MAX(revenue) as max_revenue FROM CTE WHERE month = 'November' GROUP BY month, day ORDER BY day) \\\n",
    "                            SELECT c1.month, c1.day, c1.brand, max_revenue FROM CTE c1 JOIN CTE_2 c2 ON c1.month = c2.month and c1.day = c2.day and c1.revenue = c2.max_revenue ORDER BY c1.day\").toPandas()"
   ]
  },
  {
   "cell_type": "code",
   "execution_count": 38,
   "id": "de246b41-8f44-4f28-b6d3-4b457d170d87",
   "metadata": {},
   "outputs": [
    {
     "name": "stderr",
     "output_type": "stream",
     "text": [
      "                                                                                \r"
     ]
    }
   ],
   "source": [
    "highest_thru_oct_rev = spark.sql(\"WITH CTE AS (SELECT month, day, brand, SUM(price) as revenue FROM temp_table WHERE event_type = 'purchase' GROUP BY month, day, brand ORDER BY revenue DESC), \\\n",
    "                            CTE_2 AS (SELECT month, day, MAX(revenue) as max_revenue FROM CTE WHERE month = 'October' GROUP BY month, day ORDER BY day) \\\n",
    "                            SELECT c1.month, c1.day, c1.brand, max_revenue FROM CTE c1 JOIN CTE_2 c2 ON c1.month = c2.month and c1.day = c2.day and c1.revenue = c2.max_revenue ORDER BY c1.day\").toPandas()"
   ]
  },
  {
   "cell_type": "code",
   "execution_count": 105,
   "id": "f318a769-bc19-4729-a7de-afdbe65ebe4d",
   "metadata": {
    "scrolled": true
   },
   "outputs": [],
   "source": [
    "merged = pd.merge(highest_thru_oct, highest_thru_nov, how='outer', on='day')\n",
    "merged = pd.merge(merged, highest_thru_nov_rev, how='outer', on='day')[[\"day\", \"brand_x\", \"brand_y\", \"max_count_x\", \"max_count_y\", \"max_revenue\"]].rename({\"max_revenue\":\"max_revenue_x\"})\n",
    "merged = pd.merge(merged, highest_thru_oct_rev, how='outer', on='day').rename({\"brand_x\":\"oct_brand\", \"brand_y\":\"nov_brand\", \"max_count_x\":\"oct_count\", \"max_count_y\":\"nov_count\",\"max_revenue_x\":\"oct_rev\", \"max_revenue_y\":\"nov_rev\"}, axis=1)"
   ]
  },
  {
   "cell_type": "code",
   "execution_count": 107,
   "id": "0dc65bab-fc33-4f65-97c4-3880904f4164",
   "metadata": {},
   "outputs": [],
   "source": [
    "merged.to_csv(\"day_stats.csv\", index=False)"
   ]
  },
  {
   "cell_type": "code",
   "execution_count": 106,
   "id": "a6decce3-74b8-4613-8acc-4fa324e07907",
   "metadata": {},
   "outputs": [
    {
     "data": {
      "text/html": [
       "<div>\n",
       "<style scoped>\n",
       "    .dataframe tbody tr th:only-of-type {\n",
       "        vertical-align: middle;\n",
       "    }\n",
       "\n",
       "    .dataframe tbody tr th {\n",
       "        vertical-align: top;\n",
       "    }\n",
       "\n",
       "    .dataframe thead th {\n",
       "        text-align: right;\n",
       "    }\n",
       "</style>\n",
       "<table border=\"1\" class=\"dataframe\">\n",
       "  <thead>\n",
       "    <tr style=\"text-align: right;\">\n",
       "      <th></th>\n",
       "      <th>day</th>\n",
       "      <th>oct_brand</th>\n",
       "      <th>nov_brand</th>\n",
       "      <th>oct_count</th>\n",
       "      <th>nov_count</th>\n",
       "      <th>oct_rev</th>\n",
       "      <th>month</th>\n",
       "      <th>brand</th>\n",
       "      <th>nov_rev</th>\n",
       "    </tr>\n",
       "  </thead>\n",
       "  <tbody>\n",
       "    <tr>\n",
       "      <th>0</th>\n",
       "      <td>1</td>\n",
       "      <td>samsung</td>\n",
       "      <td>samsung</td>\n",
       "      <td>4427</td>\n",
       "      <td>5291.0</td>\n",
       "      <td>3.454626e+06</td>\n",
       "      <td>October</td>\n",
       "      <td>apple</td>\n",
       "      <td>3.175375e+06</td>\n",
       "    </tr>\n",
       "    <tr>\n",
       "      <th>1</th>\n",
       "      <td>2</td>\n",
       "      <td>samsung</td>\n",
       "      <td>samsung</td>\n",
       "      <td>4618</td>\n",
       "      <td>5179.0</td>\n",
       "      <td>2.979444e+06</td>\n",
       "      <td>October</td>\n",
       "      <td>apple</td>\n",
       "      <td>3.092671e+06</td>\n",
       "    </tr>\n",
       "    <tr>\n",
       "      <th>2</th>\n",
       "      <td>3</td>\n",
       "      <td>samsung</td>\n",
       "      <td>samsung</td>\n",
       "      <td>4590</td>\n",
       "      <td>5332.0</td>\n",
       "      <td>3.199490e+06</td>\n",
       "      <td>October</td>\n",
       "      <td>apple</td>\n",
       "      <td>3.081512e+06</td>\n",
       "    </tr>\n",
       "    <tr>\n",
       "      <th>3</th>\n",
       "      <td>4</td>\n",
       "      <td>samsung</td>\n",
       "      <td>apple</td>\n",
       "      <td>6368</td>\n",
       "      <td>5548.0</td>\n",
       "      <td>4.186447e+06</td>\n",
       "      <td>October</td>\n",
       "      <td>apple</td>\n",
       "      <td>4.165188e+06</td>\n",
       "    </tr>\n",
       "    <tr>\n",
       "      <th>4</th>\n",
       "      <td>5</td>\n",
       "      <td>samsung</td>\n",
       "      <td>samsung</td>\n",
       "      <td>5323</td>\n",
       "      <td>5125.0</td>\n",
       "      <td>3.643563e+06</td>\n",
       "      <td>October</td>\n",
       "      <td>apple</td>\n",
       "      <td>3.488695e+06</td>\n",
       "    </tr>\n",
       "  </tbody>\n",
       "</table>\n",
       "</div>"
      ],
      "text/plain": [
       "   day oct_brand nov_brand  oct_count  nov_count       oct_rev    month  \\\n",
       "0    1   samsung   samsung       4427     5291.0  3.454626e+06  October   \n",
       "1    2   samsung   samsung       4618     5179.0  2.979444e+06  October   \n",
       "2    3   samsung   samsung       4590     5332.0  3.199490e+06  October   \n",
       "3    4   samsung     apple       6368     5548.0  4.186447e+06  October   \n",
       "4    5   samsung   samsung       5323     5125.0  3.643563e+06  October   \n",
       "\n",
       "   brand       nov_rev  \n",
       "0  apple  3.175375e+06  \n",
       "1  apple  3.092671e+06  \n",
       "2  apple  3.081512e+06  \n",
       "3  apple  4.165188e+06  \n",
       "4  apple  3.488695e+06  "
      ]
     },
     "execution_count": 106,
     "metadata": {},
     "output_type": "execute_result"
    }
   ],
   "source": [
    "merged.head(5)"
   ]
  },
  {
   "cell_type": "code",
   "execution_count": 103,
   "id": "7c74d6e9-9eb4-46be-8767-ec7b55c03156",
   "metadata": {},
   "outputs": [
    {
     "data": {
      "text/html": [
       "<iframe\n",
       "    scrolling=\"no\"\n",
       "    width=\"770px\"\n",
       "    height=\"770\"\n",
       "    src=\"iframe_figures/figure_103.html\"\n",
       "    frameborder=\"0\"\n",
       "    allowfullscreen\n",
       "></iframe>\n"
      ]
     },
     "metadata": {},
     "output_type": "display_data"
    }
   ],
   "source": [
    "fig = px.bar(merged, y=\"day\", x=[\"oct_count\", \"nov_count\"], orientation='h')\n",
    "fig.update_layout(width=750, height=750,\n",
    "legend=dict(\n",
    "        x=0.8,\n",
    "        y=0.8,\n",
    "        traceorder=\"normal\",\n",
    "        font=dict(\n",
    "            family=\"sans-serif\",\n",
    "            size=12,\n",
    "            color=\"black\"\n",
    "        ),\n",
    "    ))"
   ]
  },
  {
   "cell_type": "code",
   "execution_count": 104,
   "id": "55c38d05-38ae-4548-a3d7-d407ddb4643a",
   "metadata": {},
   "outputs": [
    {
     "data": {
      "text/html": [
       "<iframe\n",
       "    scrolling=\"no\"\n",
       "    width=\"770px\"\n",
       "    height=\"770\"\n",
       "    src=\"iframe_figures/figure_104.html\"\n",
       "    frameborder=\"0\"\n",
       "    allowfullscreen\n",
       "></iframe>\n"
      ]
     },
     "metadata": {},
     "output_type": "display_data"
    }
   ],
   "source": [
    "fig = px.bar(merged, y=\"day\", x=[\"oct_rev\", \"nov_rev\"], orientation='h')\n",
    "fig.update_layout(xaxis=dict(autorange=\"reversed\"), width=750, height=750,\n",
    "legend=dict(\n",
    "        x=0.1,\n",
    "        y=0.8,\n",
    "        traceorder=\"normal\",\n",
    "        font=dict(\n",
    "            family=\"sans-serif\",\n",
    "            size=12,\n",
    "            color=\"black\"\n",
    "        ),\n",
    "    ))\n",
    "fig.update_yaxes(visible=False)\n"
   ]
  },
  {
   "cell_type": "markdown",
   "id": "c715b2e1-cc71-4cf7-82ad-2a1e8c9bff91",
   "metadata": {},
   "source": [
    "### User Event Trends"
   ]
  },
  {
   "cell_type": "code",
   "execution_count": 8,
   "id": "2c0e0c69-544c-4e83-87e1-66db932b13d3",
   "metadata": {},
   "outputs": [],
   "source": [
    "temp_table = df.filter(df[\"brand\"].isin(top_categories[:5])).limit(3000000).createOrReplaceTempView(\"small_table\")"
   ]
  },
  {
   "cell_type": "code",
   "execution_count": 8,
   "id": "32a8f9b0-f256-4241-a674-e0d62b4650d8",
   "metadata": {},
   "outputs": [],
   "source": [
    "view_to_purchase = spark.sql(\n",
    "    \"WITH CTE AS (SELECT \\\n",
    "    v.brand, \\\n",
    "    v.product_id,\\\n",
    "    v.user_session,\\\n",
    "    v.time AS view_time,\\\n",
    "    p.time AS purchase_time,\\\n",
    "    TIMESTAMPDIFF(SECOND, v.time, p.time) AS time_difference FROM small_table v JOIN \\\n",
    "    small_table p ON v.product_id = p.product_id\\\n",
    "          AND v.user_session = p.user_session\\\n",
    "          AND v.event_type = 'view'\\\n",
    "          AND p.event_type = 'purchase'\\\n",
    "          AND v.time < p.time) \\\n",
    "    SELECT brand, AVG(time_difference) as avg_vtp_time, COUNT(*) as num_purchases FROM CTE GROUP BY brand HAVING num_purchases > 100 ORDER BY avg_vtp_time ASC LIMIT 30\")\n"
   ]
  },
  {
   "cell_type": "code",
   "execution_count": 140,
   "id": "e49daed3-7e63-4d1b-b18e-f0994e57437e",
   "metadata": {},
   "outputs": [
    {
     "name": "stderr",
     "output_type": "stream",
     "text": [
      "[Stage 134:>                                                        (0 + 1) / 1]\r"
     ]
    },
    {
     "name": "stdout",
     "output_type": "stream",
     "text": [
      "+--------+------------------+-------------+\n",
      "|   brand|      avg_vtp_time|num_purchases|\n",
      "+--------+------------------+-------------+\n",
      "|   apple|249.96059957173446|        14010|\n",
      "|  huawei| 317.2927802153969|         2507|\n",
      "| samsung|  328.220799664183|        19058|\n",
      "|cordiant| 388.9107573564882|         2073|\n",
      "|  xiaomi|401.90677091016374|         6779|\n",
      "+--------+------------------+-------------+\n",
      "\n"
     ]
    },
    {
     "name": "stderr",
     "output_type": "stream",
     "text": [
      "                                                                                \r"
     ]
    }
   ],
   "source": [
    "view_to_purchase.show(20)"
   ]
  },
  {
   "cell_type": "code",
   "execution_count": 9,
   "id": "16935ea4-ca4f-4fdc-a144-128d894130b6",
   "metadata": {},
   "outputs": [
    {
     "name": "stderr",
     "output_type": "stream",
     "text": [
      "23/06/03 19:18:52 WARN RowBasedKeyValueBatch: Calling spill() on RowBasedKeyValueBatch. Will not spill but return 0.\n",
      "                                                                                \r"
     ]
    }
   ],
   "source": [
    "vtp_df = view_to_purchase.toPandas()"
   ]
  },
  {
   "cell_type": "code",
   "execution_count": 11,
   "id": "3a5d55b1-e8c1-495c-949e-18e61d4b90ff",
   "metadata": {},
   "outputs": [],
   "source": [
    "vtp_df.to_csv(\"vtp.csv\", index=False)"
   ]
  },
  {
   "cell_type": "code",
   "execution_count": 9,
   "id": "44ff5372-7ebf-4e6b-abb8-2967f5a3e87e",
   "metadata": {},
   "outputs": [],
   "source": [
    "view_to_cart = spark.sql(\n",
    "    \"WITH CTE AS (SELECT \\\n",
    "    v.brand, \\\n",
    "    v.product_id,\\\n",
    "    v.user_session,\\\n",
    "    v.time AS view_time,\\\n",
    "    p.time AS cart_time,\\\n",
    "    TIMESTAMPDIFF(SECOND, v.time, p.time) AS time_difference FROM small_table v JOIN \\\n",
    "    small_table p ON v.product_id = p.product_id\\\n",
    "          AND v.user_session = p.user_session\\\n",
    "          AND v.event_type = 'view'\\\n",
    "          AND p.event_type = 'cart'\\\n",
    "          AND v.time < p.time) \\\n",
    "    SELECT brand, AVG(time_difference) as avg_vtc_time, COUNT(*) as num_carts FROM CTE GROUP BY brand HAVING num_carts > 100 ORDER BY avg_vtc_time ASC LIMIT 30\")\n"
   ]
  },
  {
   "cell_type": "code",
   "execution_count": 10,
   "id": "82d25b2f-989a-47c9-9e58-047441a42c9a",
   "metadata": {},
   "outputs": [
    {
     "name": "stderr",
     "output_type": "stream",
     "text": [
      "23/06/03 19:49:12 WARN RowBasedKeyValueBatch: Calling spill() on RowBasedKeyValueBatch. Will not spill but return 0.\n",
      "                                                                                \r"
     ]
    }
   ],
   "source": [
    "vtc_df = view_to_cart.toPandas()"
   ]
  },
  {
   "cell_type": "code",
   "execution_count": 11,
   "id": "d75a368b-8157-48a3-8784-156c3599bd42",
   "metadata": {},
   "outputs": [
    {
     "data": {
      "text/plain": [
       "5"
      ]
     },
     "execution_count": 11,
     "metadata": {},
     "output_type": "execute_result"
    }
   ],
   "source": [
    "len(vtc_df)"
   ]
  },
  {
   "cell_type": "code",
   "execution_count": 12,
   "id": "6cd89924-748c-4d89-903d-6d54726ec98d",
   "metadata": {},
   "outputs": [
    {
     "name": "stdout",
     "output_type": "stream",
     "text": [
      "      brand  avg_vtc_time  num_carts\n",
      "0     apple    215.145040      49552\n",
      "1  cordiant    224.126629       4375\n",
      "2   samsung    250.490482      66665\n",
      "3    huawei    278.584385      10541\n",
      "4    xiaomi    463.716211      28641\n"
     ]
    }
   ],
   "source": [
    "print(vtc_df)"
   ]
  },
  {
   "cell_type": "code",
   "execution_count": 13,
   "id": "bdd4796f-cf38-4346-8665-bf0452bda8c5",
   "metadata": {},
   "outputs": [],
   "source": [
    "vtp_df = pd.read_csv(\"vtp.csv\")"
   ]
  },
  {
   "cell_type": "code",
   "execution_count": 14,
   "id": "c205e63b-d6da-4687-88c1-d485b626e822",
   "metadata": {},
   "outputs": [],
   "source": [
    "v_times = vtp_df.merge(vtc_df, on=\"brand\")"
   ]
  },
  {
   "cell_type": "code",
   "execution_count": 15,
   "id": "efa60190-f34e-49f3-9e39-14bc33a9daff",
   "metadata": {},
   "outputs": [
    {
     "data": {
      "text/html": [
       "<div>\n",
       "<style scoped>\n",
       "    .dataframe tbody tr th:only-of-type {\n",
       "        vertical-align: middle;\n",
       "    }\n",
       "\n",
       "    .dataframe tbody tr th {\n",
       "        vertical-align: top;\n",
       "    }\n",
       "\n",
       "    .dataframe thead th {\n",
       "        text-align: right;\n",
       "    }\n",
       "</style>\n",
       "<table border=\"1\" class=\"dataframe\">\n",
       "  <thead>\n",
       "    <tr style=\"text-align: right;\">\n",
       "      <th></th>\n",
       "      <th>brand</th>\n",
       "      <th>avg_vtp_time</th>\n",
       "      <th>num_purchases</th>\n",
       "      <th>avg_vtc_time</th>\n",
       "      <th>num_carts</th>\n",
       "    </tr>\n",
       "  </thead>\n",
       "  <tbody>\n",
       "    <tr>\n",
       "      <th>0</th>\n",
       "      <td>apple</td>\n",
       "      <td>243.120771</td>\n",
       "      <td>43032</td>\n",
       "      <td>215.145040</td>\n",
       "      <td>49552</td>\n",
       "    </tr>\n",
       "    <tr>\n",
       "      <th>1</th>\n",
       "      <td>samsung</td>\n",
       "      <td>315.013421</td>\n",
       "      <td>52903</td>\n",
       "      <td>250.490482</td>\n",
       "      <td>66665</td>\n",
       "    </tr>\n",
       "    <tr>\n",
       "      <th>2</th>\n",
       "      <td>huawei</td>\n",
       "      <td>321.108403</td>\n",
       "      <td>6974</td>\n",
       "      <td>278.584385</td>\n",
       "      <td>10541</td>\n",
       "    </tr>\n",
       "    <tr>\n",
       "      <th>3</th>\n",
       "      <td>xiaomi</td>\n",
       "      <td>367.188554</td>\n",
       "      <td>19745</td>\n",
       "      <td>463.716211</td>\n",
       "      <td>28641</td>\n",
       "    </tr>\n",
       "    <tr>\n",
       "      <th>4</th>\n",
       "      <td>cordiant</td>\n",
       "      <td>380.542930</td>\n",
       "      <td>9364</td>\n",
       "      <td>224.126629</td>\n",
       "      <td>4375</td>\n",
       "    </tr>\n",
       "  </tbody>\n",
       "</table>\n",
       "</div>"
      ],
      "text/plain": [
       "      brand  avg_vtp_time  num_purchases  avg_vtc_time  num_carts\n",
       "0     apple    243.120771          43032    215.145040      49552\n",
       "1   samsung    315.013421          52903    250.490482      66665\n",
       "2    huawei    321.108403           6974    278.584385      10541\n",
       "3    xiaomi    367.188554          19745    463.716211      28641\n",
       "4  cordiant    380.542930           9364    224.126629       4375"
      ]
     },
     "execution_count": 15,
     "metadata": {},
     "output_type": "execute_result"
    }
   ],
   "source": [
    "v_times"
   ]
  },
  {
   "cell_type": "code",
   "execution_count": 16,
   "id": "6b88d3ea-a4b2-499a-aea7-2f40329e6d34",
   "metadata": {},
   "outputs": [],
   "source": [
    "v_times.to_csv(\"v_times.csv\", index=False)"
   ]
  },
  {
   "cell_type": "code",
   "execution_count": 82,
   "id": "b8582581-204a-4421-8106-b9f55a22696a",
   "metadata": {},
   "outputs": [],
   "source": [
    "weekly_purchases = spark.sql(\n",
    "\"SELECT product_id, COUNT(*) as purchase_count,\\\n",
    "    CASE WHEN day BETWEEN 1 AND 7 THEN 1 \\\n",
    "         WHEN day BETWEEN 8 AND 15 THEN 2\\\n",
    "         WHEN day BETWEEN 16 AND 23 THEN 3\\\n",
    "         ELSE 4 END as purchase_week \\\n",
    "    FROM small_table\\\n",
    "    WHERE event_type = 'purchase'\\\n",
    "    GROUP BY product_id, purchase_week\\\n",
    "    ORDER BY product_id, purchase_count DESC\")"
   ]
  },
  {
   "cell_type": "code",
   "execution_count": 80,
   "id": "a6f3768b-ec25-4847-909f-019d285f0b4d",
   "metadata": {},
   "outputs": [
    {
     "name": "stderr",
     "output_type": "stream",
     "text": [
      "[Stage 93:==================================================>   (104 + 7) / 111]\r"
     ]
    },
    {
     "name": "stdout",
     "output_type": "stream",
     "text": [
      "+----------+--------------+-------------+\n",
      "|product_id|purchase_count|purchase_week|\n",
      "+----------+--------------+-------------+\n",
      "|   1002524|             4|            1|\n",
      "|   1002528|             1|            1|\n",
      "|   1002532|             3|            1|\n",
      "|   1002536|             1|            1|\n",
      "|   1002540|             1|            1|\n",
      "|   1002544|            24|            1|\n",
      "|   1002547|             2|            1|\n",
      "|   1002629|             6|            1|\n",
      "|   1002633|             8|            1|\n",
      "|   1003304|             4|            1|\n",
      "|   1003306|             7|            1|\n",
      "|   1003309|             1|            1|\n",
      "|   1003316|             2|            1|\n",
      "|   1003317|             6|            1|\n",
      "|   1003441|             1|            1|\n",
      "|   1003533|             1|            1|\n",
      "|   1003535|             1|            1|\n",
      "|   1003772|             2|            1|\n",
      "|   1003894|             1|            1|\n",
      "|   1003983|             1|            1|\n",
      "+----------+--------------+-------------+\n",
      "only showing top 20 rows\n",
      "\n"
     ]
    },
    {
     "name": "stderr",
     "output_type": "stream",
     "text": [
      "                                                                                \r"
     ]
    }
   ],
   "source": [
    "weekly_purchases.show(20)"
   ]
  },
  {
   "cell_type": "markdown",
   "id": "9b532118-36ad-4f69-b6da-64ba79b7aaef",
   "metadata": {},
   "source": [
    "### Sankey Test"
   ]
  },
  {
   "cell_type": "code",
   "execution_count": 141,
   "id": "daca267c-5503-4551-9ee3-c722fa78642d",
   "metadata": {},
   "outputs": [],
   "source": [
    "temp_spark = df[[\"category_code\"]].filter(df.event_type == \"purchase\")\n",
    "temp_spark = temp_spark.na.fill(\"unknown\")"
   ]
  },
  {
   "cell_type": "code",
   "execution_count": 142,
   "id": "a0e88137-6f76-4029-b276-2c62e3d1676b",
   "metadata": {},
   "outputs": [],
   "source": [
    "temp_spark = temp_spark.withColumn(\"test\", udf(lambda x : x.replace(\".\", \"-\") if not None else \"empty\")(\"category_code\"))\n",
    "cat_col = split(temp_spark[\"test\"], \"-\")\n",
    "\n",
    "temp_spark = temp_spark.withColumn(\"main_category\", cat_col.getItem(0))\n",
    "temp_spark = temp_spark.withColumn(\"subcategory_1\", cat_col.getItem(1))\n",
    "temp_spark = temp_spark.withColumn(\"subcategory_2\", cat_col.getItem(2))\n",
    "# temp_spark = temp_spark.withColumn(\"subcategory_3\", cat_col.getItem(3))\n",
    "\n",
    "temp_spark = temp_spark.drop(\"category_code\")\n",
    "temp_spark = temp_spark.drop(\"test\")"
   ]
  },
  {
   "cell_type": "code",
   "execution_count": 143,
   "id": "5e5865e8-4986-4960-9984-8bd02c48223c",
   "metadata": {},
   "outputs": [
    {
     "name": "stderr",
     "output_type": "stream",
     "text": [
      "                                                                                \r"
     ]
    },
    {
     "data": {
      "text/plain": [
       "14"
      ]
     },
     "execution_count": 143,
     "metadata": {},
     "output_type": "execute_result"
    }
   ],
   "source": [
    "grouped_spark = temp_spark.groupby(\"main_category\", \"subcategory_1\").count().orderBy(\"count\", ascending=False)\n",
    "grouped_spark[[\"main_category\"]].distinct().count()"
   ]
  },
  {
   "cell_type": "code",
   "execution_count": null,
   "id": "bbff8479-01e1-4f8d-89f2-486d9666b262",
   "metadata": {},
   "outputs": [],
   "source": [
    "top_categories = list(temp_spark.groupby(\"main_category\").count().orderBy(\"count\", ascending=False).limit(15).toPandas()[\"main_category\"])"
   ]
  },
  {
   "cell_type": "code",
   "execution_count": 25,
   "id": "10b18717-26ce-40f6-b98e-2bdea99cf7b1",
   "metadata": {},
   "outputs": [],
   "source": [
    "grouped_spark = temp_spark.filter(temp_spark[\"main_category\"].isin(top_categories)).groupby(\"main_category\", \"subcategory_1\").count().orderBy(\"count\", ascending=False)\n",
    "grouped_spark = grouped_spark.na.drop(\"any\")"
   ]
  },
  {
   "cell_type": "code",
   "execution_count": 13,
   "id": "cd35905f-ba9f-4938-89d1-05047b9c2e4c",
   "metadata": {},
   "outputs": [
    {
     "name": "stderr",
     "output_type": "stream",
     "text": [
      "[Stage 2:======================================================>(109 + 2) / 111]\r"
     ]
    },
    {
     "name": "stdout",
     "output_type": "stream",
     "text": [
      "+-------------+-------------+-------+\n",
      "|main_category|subcategory_1|  count|\n",
      "+-------------+-------------+-------+\n",
      "|  accessories|     umbrella|   8912|\n",
      "|  accessories|       wallet| 113986|\n",
      "|  accessories|          bag| 505378|\n",
      "|      apparel|       jacket|    437|\n",
      "|      apparel|       shorts|   1284|\n",
      "|      apparel|        glove|   3824|\n",
      "|      apparel|        scarf|   6141|\n",
      "|      apparel|         sock|   6224|\n",
      "|      apparel|         belt|   7167|\n",
      "|      apparel|        skirt|   9866|\n",
      "|      apparel|       jumper|  34339|\n",
      "|      apparel|       tshirt|  40522|\n",
      "|      apparel|     trousers|  41422|\n",
      "|      apparel|        shirt|  64609|\n",
      "|      apparel|    underwear|  92183|\n",
      "|      apparel|        jeans| 109707|\n",
      "|      apparel|        dress| 133886|\n",
      "|      apparel|      costume| 380291|\n",
      "|      apparel|        shoes|3622123|\n",
      "|   appliances|ironing_board|  99103|\n",
      "+-------------+-------------+-------+\n",
      "only showing top 20 rows\n",
      "\n"
     ]
    },
    {
     "name": "stderr",
     "output_type": "stream",
     "text": [
      "                                                                                \r"
     ]
    }
   ],
   "source": [
    "grouped_spark.show()"
   ]
  },
  {
   "cell_type": "code",
   "execution_count": 26,
   "id": "4a553fd0-0916-4251-aa8f-bb898335a02a",
   "metadata": {},
   "outputs": [],
   "source": [
    "grouped_spark_2 = temp_spark.groupby(\"main_category\", \"subcategory_1\", \"subcategory_2\").count()\n",
    "grouped_spark_2 = grouped_spark_2.na.drop(\"any\")"
   ]
  },
  {
   "cell_type": "code",
   "execution_count": 365,
   "id": "38e2b479-70cc-4801-9068-68aa45f587a4",
   "metadata": {},
   "outputs": [
    {
     "name": "stderr",
     "output_type": "stream",
     "text": [
      "[Stage 492:===================================================> (108 + 3) / 111]\r"
     ]
    },
    {
     "name": "stdout",
     "output_type": "stream",
     "text": [
      "+-------------+-------------+---------------+-----+\n",
      "|main_category|subcategory_1|  subcategory_2|count|\n",
      "+-------------+-------------+---------------+-----+\n",
      "|      apparel|        shoes|           keds|    4|\n",
      "|      apparel|        shoes|      moccasins|    1|\n",
      "|   appliances|      kitchen|         washer|   12|\n",
      "|   appliances|      kitchen|  refrigerators|   22|\n",
      "|   appliances|      kitchen|     dishwasher|   10|\n",
      "|   appliances|  environment|         vacuum|    4|\n",
      "|   appliances|  environment|   water_heater|   11|\n",
      "|   appliances|     personal|       massager|   19|\n",
      "|   appliances|      kitchen|           hood|    3|\n",
      "|   appliances|  environment|air_conditioner|    1|\n",
      "|   appliances|      kitchen|        blender|    2|\n",
      "|         auto|  accessories|     compressor|    2|\n",
      "|         auto|  accessories|         player|   12|\n",
      "|         auto|  accessories|  videoregister|    1|\n",
      "|    computers|   components|    motherboard|   13|\n",
      "|    computers|  peripherals|        printer|    2|\n",
      "|    computers|   components|     videocards|   10|\n",
      "|    computers|  peripherals|       keyboard|    3|\n",
      "|    computers|   components|         memory|    1|\n",
      "|    computers|   components|            hdd|    1|\n",
      "+-------------+-------------+---------------+-----+\n",
      "only showing top 20 rows\n",
      "\n"
     ]
    },
    {
     "name": "stderr",
     "output_type": "stream",
     "text": [
      "                                                                                \r"
     ]
    }
   ],
   "source": [
    "grouped_spark_2.show()"
   ]
  },
  {
   "cell_type": "code",
   "execution_count": 27,
   "id": "977b0697-ede3-4847-827f-9ef4835f1e57",
   "metadata": {},
   "outputs": [
    {
     "name": "stderr",
     "output_type": "stream",
     "text": [
      "                                                                                \r"
     ]
    }
   ],
   "source": [
    "from pyspark.ml.feature import StringIndexer\n",
    "\n",
    "indexer = StringIndexer(inputCol=\"main_category\", outputCol=\"main_cat_index\") \n",
    "indexed_model_1 = indexer.fit(grouped_spark)\n",
    "indexed_spark = indexed_model_1.transform(grouped_spark) \n",
    "\n",
    "indexer = StringIndexer(inputCol=\"subcategory_1\", outputCol=\"subcat_1_index\") \n",
    "indexed_model_2 = indexer.fit(indexed_spark)\n",
    "indexed_spark = indexed_model_2.transform(indexed_spark) "
   ]
  },
  {
   "cell_type": "code",
   "execution_count": 28,
   "id": "591f52fa-8942-4538-a283-56185f363a4b",
   "metadata": {},
   "outputs": [
    {
     "name": "stderr",
     "output_type": "stream",
     "text": [
      "                                                                                \r"
     ]
    }
   ],
   "source": [
    "max_val = indexed_spark.agg({\"main_cat_index\": \"max\"}).collect()[0][0]\n",
    "indexed_spark = indexed_spark.withColumn(\"subcat_1_index_adjusted\", indexed_spark[\"subcat_1_index\"] + max_val + 1)"
   ]
  },
  {
   "cell_type": "code",
   "execution_count": null,
   "id": "1af17ca2-f7c2-4fc3-954a-0d5ee83bd0e7",
   "metadata": {},
   "outputs": [],
   "source": [
    "indexed_spark_2 = indexed_model_2.transform(grouped_spark_2)\n",
    "indexer = StringIndexer(inputCol=\"subcategory_2\", outputCol=\"subcat_2_index\") \n",
    "indexed_model_3 = indexer.fit(indexed_spark_2)\n",
    "indexed_spark_2 = indexed_model_3.transform(indexed_spark_2) "
   ]
  },
  {
   "cell_type": "code",
   "execution_count": 354,
   "id": "532d9601-d170-4942-a6c8-0e29bba7d045",
   "metadata": {},
   "outputs": [
    {
     "name": "stderr",
     "output_type": "stream",
     "text": [
      "                                                                                \r"
     ]
    }
   ],
   "source": [
    "indexed_spark_2 = indexed_spark_2.withColumn(\"subcat_1_index_adjusted\", indexed_spark_2[\"subcat_1_index\"] + max_val + 1)\n",
    "max_val_2 = indexed_spark_2.agg({\"subcat_1_index_adjusted\": \"max\"}).collect()[0][0]\n",
    "indexed_spark_2 = indexed_spark_2.withColumn(\"subcat_2_index_adjusted\", indexed_spark_2[\"subcat_2_index\"] + max_val_2 + 1)"
   ]
  },
  {
   "cell_type": "code",
   "execution_count": 29,
   "id": "b0d55e4d-121b-4e2c-ab68-4a9ceb531c79",
   "metadata": {},
   "outputs": [
    {
     "name": "stderr",
     "output_type": "stream",
     "text": [
      "                                                                                \r"
     ]
    },
    {
     "name": "stdout",
     "output_type": "stream",
     "text": [
      "+-------------+--------------+------+--------------+--------------+-----------------------+\n",
      "|main_category| subcategory_1| count|main_cat_index|subcat_1_index|subcat_1_index_adjusted|\n",
      "+-------------+--------------+------+--------------+--------------+-----------------------+\n",
      "|  electronics|    smartphone|720665|           1.0|          42.0|                   55.0|\n",
      "|   appliances|       kitchen|109465|           2.0|           1.0|                   14.0|\n",
      "|  electronics|         audio| 81894|           1.0|           4.0|                   17.0|\n",
      "|  electronics|         video| 52020|           1.0|          56.0|                   69.0|\n",
      "|   appliances|   environment| 44049|           2.0|          20.0|                   33.0|\n",
      "|  electronics|        clocks| 41143|           1.0|          13.0|                   26.0|\n",
      "|    computers|      notebook| 34023|           4.0|          31.0|                   44.0|\n",
      "|         auto|   accessories| 21339|          10.0|           3.0|                   16.0|\n",
      "|      apparel|         shoes| 19609|           0.0|          37.0|                   50.0|\n",
      "| construction|         tools| 15815|           9.0|           2.0|                   15.0|\n",
      "|  electronics|        tablet| 11741|           1.0|          46.0|                   59.0|\n",
      "|    computers|   peripherals| 11600|           4.0|          32.0|                   45.0|\n",
      "|    computers|    components|  8968|           4.0|           0.0|                   13.0|\n",
      "|    furniture|   living_room|  8387|           5.0|          30.0|                   43.0|\n",
      "|   appliances|          iron|  8303|           2.0|          24.0|                   37.0|\n",
      "|  electronics|     telephone|  8076|           1.0|          47.0|                   60.0|\n",
      "|    computers|       desktop|  7013|           4.0|          16.0|                   29.0|\n",
      "|    furniture|       bedroom|  5859|           5.0|           7.0|                   20.0|\n",
      "|   appliances|      personal|  5803|           2.0|          33.0|                   46.0|\n",
      "|         kids|      carriage|  4955|           3.0|          11.0|                   24.0|\n",
      "|    furniture|       kitchen|  4922|           5.0|           1.0|                   14.0|\n",
      "|   appliances|sewing_machine|  4848|           2.0|          35.0|                   48.0|\n",
      "|  accessories|           bag|  3015|           7.0|           5.0|                   18.0|\n",
      "|         kids|          toys|  2425|           3.0|          49.0|                   62.0|\n",
      "|         kids|          fmcg|  1587|           3.0|          21.0|                   34.0|\n",
      "|   appliances| ironing_board|  1554|           2.0|          25.0|                   38.0|\n",
      "|        sport|       bicycle|  1374|           6.0|           9.0|                   22.0|\n",
      "|      apparel|       costume|  1368|           0.0|          14.0|                   27.0|\n",
      "|  electronics|        camera|  1128|           1.0|          10.0|                   23.0|\n",
      "|         kids|        skates|  1088|           3.0|          39.0|                   52.0|\n",
      "|        sport|       trainer|  1060|           6.0|          50.0|                   63.0|\n",
      "|         kids|         swing|   812|           3.0|          45.0|                   58.0|\n",
      "|         kids|         dolls|   781|           3.0|          17.0|                   30.0|\n",
      "|    computers|        ebooks|   728|           4.0|          19.0|                   32.0|\n",
      "| construction|    components|   685|           9.0|           0.0|                   13.0|\n",
      "|  accessories|        wallet|   676|           7.0|          57.0|                   70.0|\n",
      "|     medicine|         tools|   654|          11.0|           2.0|                   15.0|\n",
      "|    furniture|      bathroom|   588|           5.0|           6.0|                   19.0|\n",
      "|   stationery|      cartrige|   325|          12.0|          12.0|                   25.0|\n",
      "|      apparel|         jeans|   309|           0.0|          27.0|                   40.0|\n",
      "|      apparel|     underwear|   181|           0.0|          54.0|                   67.0|\n",
      "|      apparel|         shirt|   160|           0.0|          36.0|                   49.0|\n",
      "|      apparel|        tshirt|   151|           0.0|          52.0|                   65.0|\n",
      "|        sport|     snowboard|   144|           6.0|          43.0|                   56.0|\n",
      "|      apparel|         dress|   127|           0.0|          18.0|                   31.0|\n",
      "|        sport|           ski|    90|           6.0|          40.0|                   53.0|\n",
      "|    furniture|     universal|    87|           5.0|          55.0|                   68.0|\n",
      "|      apparel|        jumper|    84|           0.0|          28.0|                   41.0|\n",
      "| country_yard|    lawn_mower|    82|           8.0|          29.0|                   42.0|\n",
      "|      apparel|      trousers|    72|           0.0|          51.0|                   64.0|\n",
      "|      apparel|          belt|    62|           0.0|           8.0|                   21.0|\n",
      "|        sport|        tennis|    57|           6.0|          48.0|                   61.0|\n",
      "|  accessories|      umbrella|    50|           7.0|          53.0|                   66.0|\n",
      "| country_yard|    cultivator|    46|           8.0|          15.0|                   28.0|\n",
      "|      apparel|          sock|    40|           0.0|          44.0|                   57.0|\n",
      "|      apparel|         scarf|    18|           0.0|          34.0|                   47.0|\n",
      "|      apparel|         glove|    17|           0.0|          23.0|                   36.0|\n",
      "|      apparel|         skirt|    14|           0.0|          41.0|                   54.0|\n",
      "| country_yard|     furniture|     4|           8.0|          22.0|                   35.0|\n",
      "|      apparel|        shorts|     4|           0.0|          38.0|                   51.0|\n",
      "|      apparel|        jacket|     1|           0.0|          26.0|                   39.0|\n",
      "+-------------+--------------+------+--------------+--------------+-----------------------+\n",
      "\n"
     ]
    }
   ],
   "source": [
    "indexed_spark.show(1000)"
   ]
  },
  {
   "cell_type": "code",
   "execution_count": null,
   "id": "15012444-254d-47b5-8081-0ec12ef36223",
   "metadata": {},
   "outputs": [],
   "source": [
    "indexed_spark_2.show(1000)"
   ]
  },
  {
   "cell_type": "code",
   "execution_count": 30,
   "id": "dbbf05db-8865-4bfe-ac39-da8ead61fb86",
   "metadata": {},
   "outputs": [
    {
     "name": "stderr",
     "output_type": "stream",
     "text": [
      "                                                                                \r"
     ]
    }
   ],
   "source": [
    "sankey_df = indexed_spark.limit(1000).toPandas()"
   ]
  },
  {
   "cell_type": "code",
   "execution_count": 327,
   "id": "425d03e9-5bc8-4441-b30c-41180fbf1d4a",
   "metadata": {},
   "outputs": [
    {
     "name": "stderr",
     "output_type": "stream",
     "text": [
      "                                                                                \r"
     ]
    }
   ],
   "source": [
    "sankey_df_2 = indexed_spark_2.limit(1000).toPandas()"
   ]
  },
  {
   "cell_type": "code",
   "execution_count": 38,
   "id": "0e78704d-07b5-4457-b45d-fd08bd8a19dd",
   "metadata": {},
   "outputs": [],
   "source": [
    "labels = indexed_model_1.labels + indexed_model_2.labels"
   ]
  },
  {
   "cell_type": "code",
   "execution_count": 352,
   "id": "42af5b80-bc17-4af1-9283-42926f0c0251",
   "metadata": {},
   "outputs": [
    {
     "data": {
      "text/plain": [
       "['kitchen',\n",
       " 'accessories',\n",
       " 'audio',\n",
       " 'bag',\n",
       " 'bathroom',\n",
       " 'bedroom',\n",
       " 'bicycle',\n",
       " 'camera',\n",
       " 'carriage',\n",
       " 'clocks',\n",
       " 'components',\n",
       " 'costume',\n",
       " 'desktop',\n",
       " 'dolls',\n",
       " 'environment',\n",
       " 'jeans',\n",
       " 'living_room',\n",
       " 'notebook',\n",
       " 'peripherals',\n",
       " 'personal',\n",
       " 'sewing_machine',\n",
       " 'shirt',\n",
       " 'shoes',\n",
       " 'smartphone',\n",
       " 'tablet',\n",
       " 'telephone',\n",
       " 'tools',\n",
       " 'toys',\n",
       " 'trousers',\n",
       " 'tshirt',\n",
       " 'underwear',\n",
       " 'video',\n",
       " 'air_conditioner',\n",
       " 'bath',\n",
       " 'bed',\n",
       " 'blender',\n",
       " 'cabinet',\n",
       " 'chair',\n",
       " 'compressor',\n",
       " 'cpu',\n",
       " 'dishwasher',\n",
       " 'drill',\n",
       " 'hdd',\n",
       " 'headphone',\n",
       " 'hood',\n",
       " 'keds',\n",
       " 'keyboard',\n",
       " 'light',\n",
       " 'massager',\n",
       " 'memory',\n",
       " 'moccasins',\n",
       " 'motherboard',\n",
       " 'music_tools',\n",
       " 'painting',\n",
       " 'player',\n",
       " 'printer',\n",
       " 'refrigerators',\n",
       " 'saw',\n",
       " 'sofa',\n",
       " 'subwoofer',\n",
       " 'table',\n",
       " 'tv',\n",
       " 'vacuum',\n",
       " 'video',\n",
       " 'videocards',\n",
       " 'videoregister',\n",
       " 'washer',\n",
       " 'water_heater',\n",
       " 'welding']"
      ]
     },
     "execution_count": 352,
     "metadata": {},
     "output_type": "execute_result"
    }
   ],
   "source": [
    "labels"
   ]
  },
  {
   "cell_type": "code",
   "execution_count": 196,
   "id": "002981bd-47fa-496b-a981-b9f0457bcbef",
   "metadata": {},
   "outputs": [
    {
     "name": "stdout",
     "output_type": "stream",
     "text": [
      "0    1.0\n",
      "1    2.0\n",
      "2    2.0\n",
      "3    3.0\n",
      "4    4.0\n",
      "5    4.0\n",
      "6    1.0\n",
      "7    2.0\n",
      "8    1.0\n",
      "9    1.0\n",
      "Name: main_cat_index, dtype: float64\n"
     ]
    }
   ],
   "source": [
    "print(sankey_df[\"main_cat_index\"])"
   ]
  },
  {
   "cell_type": "code",
   "execution_count": 34,
   "id": "10d29df0-7227-4b26-a1c1-8f50fd0bfa6c",
   "metadata": {},
   "outputs": [
    {
     "data": {
      "text/html": [
       "<iframe\n",
       "    scrolling=\"no\"\n",
       "    width=\"1020px\"\n",
       "    height=\"1020\"\n",
       "    src=\"iframe_figures/figure_34.html\"\n",
       "    frameborder=\"0\"\n",
       "    allowfullscreen\n",
       "></iframe>\n"
      ]
     },
     "metadata": {},
     "output_type": "display_data"
    }
   ],
   "source": [
    "import plotly.graph_objects as go\n",
    "\n",
    "source = sankey_df[\"main_cat_index\"] \n",
    "target = sankey_df[\"subcat_1_index_adjusted\"]\n",
    "value = sankey_df[\"count\"]\n",
    "# data to dict, dict to sankey\n",
    "link = dict(source = source, target = target, value = value)\n",
    "node = dict(label = labels, pad=50, thickness=5)\n",
    "data = go.Sankey(link = link, node = node)\n",
    "# plot\n",
    "fig = go.Figure(data)\n",
    "fig.update_layout(\n",
    "    width=1000,\n",
    "    height=1000\n",
    ")\n",
    "\n",
    "fig.show()"
   ]
  },
  {
   "cell_type": "code",
   "execution_count": 36,
   "id": "34f1956b-6a5b-42e6-b076-b8e323039d09",
   "metadata": {},
   "outputs": [],
   "source": [
    "sankey_df.to_csv(\"sankey.csv\", index=False)"
   ]
  },
  {
   "cell_type": "code",
   "execution_count": 40,
   "id": "6ba58f08-52a2-4c9f-9754-bf0745bac41a",
   "metadata": {},
   "outputs": [],
   "source": [
    "import pickle\n",
    "\n",
    "with open(\"sankey_labels.txt\", \"wb\") as f:\n",
    "    pickle.dump(labels, f)"
   ]
  },
  {
   "cell_type": "markdown",
   "id": "6e3a9919-3032-4985-9316-5bcb64e93ab7",
   "metadata": {},
   "source": [
    "# Messages Data"
   ]
  },
  {
   "cell_type": "code",
   "execution_count": 8,
   "id": "93c631e0-5a04-48dd-b54f-f3c512c8df05",
   "metadata": {},
   "outputs": [],
   "source": [
    "import pickle\n",
    "import pandas as pd\n",
    "from pyspark.sql.functions import concat_ws, col, udf\n",
    "from pyspark.sql.types import StringType, DateType\n",
    "from pandasql import sqldf\n",
    "from pyspark.sql import functions as f\n",
    "from datetime import datetime"
   ]
  },
  {
   "cell_type": "code",
   "execution_count": 80,
   "id": "59e45262-5122-4bcc-8446-a1311e6ef74a",
   "metadata": {},
   "outputs": [],
   "source": [
    "campaigns_df = pd.read_csv(\"data/campaigns.csv\")"
   ]
  },
  {
   "cell_type": "code",
   "execution_count": 16,
   "id": "4fa75583-380e-42a8-854d-aa80b3b12b64",
   "metadata": {},
   "outputs": [
    {
     "data": {
      "text/plain": [
       "Index(['id', 'campaign_type', 'channel', 'topic', 'started_at', 'finished_at',\n",
       "       'total_count', 'ab_test', 'warmup_mode', 'hour_limit', 'subject_length',\n",
       "       'subject_with_personalization', 'subject_with_deadline',\n",
       "       'subject_with_emoji', 'subject_with_bonuses', 'subject_with_discount',\n",
       "       'subject_with_saleout', 'is_test', 'position'],\n",
       "      dtype='object')"
      ]
     },
     "execution_count": 16,
     "metadata": {},
     "output_type": "execute_result"
    }
   ],
   "source": [
    "campaigns_df.columns"
   ]
  },
  {
   "cell_type": "code",
   "execution_count": null,
   "id": "75382c00-5d80-4a55-a7a7-6c8f135564fc",
   "metadata": {},
   "outputs": [],
   "source": [
    "holidays_df"
   ]
  },
  {
   "cell_type": "code",
   "execution_count": 90,
   "id": "6828ad1a-e223-4e6d-ab5a-e0ca74a9878c",
   "metadata": {},
   "outputs": [],
   "source": [
    "holidays_df = pd.read_csv(\"data/holidays.csv\")\n",
    "holidays_df[\"date\"] = pd.to_datetime(holidays_df[\"date\"]).dt.date"
   ]
  },
  {
   "cell_type": "code",
   "execution_count": 86,
   "id": "15a9657c-37b9-45f9-ac06-63e412bd60f1",
   "metadata": {},
   "outputs": [],
   "source": [
    "campaigns_df[\"started_at\"] = pd.to_datetime(campaigns_df[\"started_at\"]).dt.date\n",
    "# campaigns_df[\"month\"] = campaigns_df[\"started_at\"].apply(lambda x : int(x.month))\n",
    "# campaigns_df[\"year\"] = campaigns_df[\"started_at\"].apply(lambda x : int(x.year))"
   ]
  },
  {
   "cell_type": "code",
   "execution_count": 502,
   "id": "a548da51-91a1-4101-a559-6f9ee83f1ea8",
   "metadata": {},
   "outputs": [
    {
     "name": "stderr",
     "output_type": "stream",
     "text": [
      "                                                                                \r"
     ]
    }
   ],
   "source": [
    "other_msgs_df = spark.sql(\"SELECT sent_at, message_type, COUNT(*) as count FROM temp_table WHERE message_type = 'transactional' or message_type = 'trigger' GROUP BY sent_at, message_type\").toPandas()"
   ]
  },
  {
   "cell_type": "code",
   "execution_count": 506,
   "id": "97ddd540-39ad-4a50-8372-4e634918970b",
   "metadata": {},
   "outputs": [],
   "source": [
    "with open(\"other_msgs.txt\", \"wb\") as f:\n",
    "    pickle.dump(other_msgs_df, f)"
   ]
  },
  {
   "cell_type": "code",
   "execution_count": 505,
   "id": "d247e701-f93d-43c6-8b4b-6a9dd7713dfe",
   "metadata": {},
   "outputs": [
    {
     "data": {
      "text/html": [
       "<iframe\n",
       "    scrolling=\"no\"\n",
       "    width=\"100%\"\n",
       "    height=\"545px\"\n",
       "    src=\"iframe_figures/figure_505.html\"\n",
       "    frameborder=\"0\"\n",
       "    allowfullscreen\n",
       "></iframe>\n"
      ]
     },
     "metadata": {},
     "output_type": "display_data"
    }
   ],
   "source": [
    "fig = px.area(other_msgs_df, x=\"sent_at\", y=\"count\", color=\"message_type\")\n",
    "fig"
   ]
  },
  {
   "cell_type": "code",
   "execution_count": 122,
   "id": "5d84b8b3-5525-478a-8392-999dc3239857",
   "metadata": {},
   "outputs": [],
   "source": [
    "holidays = []\n",
    "for date in list(temp_df[\"started_at\"]):\n",
    "    if date in list(holidays_df[\"date\"]):\n",
    "        holidays.append(holidays_df[holidays_df[\"date\"] == date][\"holiday\"])\n",
    "    else:\n",
    "        holidays.append(\"\")"
   ]
  },
  {
   "cell_type": "code",
   "execution_count": 125,
   "id": "56b4ff7c-ee83-4821-a650-9e8b1f953a23",
   "metadata": {},
   "outputs": [],
   "source": [
    "temp_temp_df = temp_df.copy()\n",
    "temp_temp_df[\"count\"] = 0"
   ]
  },
  {
   "cell_type": "code",
   "execution_count": 136,
   "id": "10b0b802-54e9-40ae-84bd-fcc481f38fc2",
   "metadata": {},
   "outputs": [],
   "source": [
    "import plotly.graph_objects as go"
   ]
  },
  {
   "cell_type": "code",
   "execution_count": 138,
   "id": "a0e1a6ad-b4a9-44f6-8f48-40346243ad53",
   "metadata": {},
   "outputs": [
    {
     "data": {
      "text/html": [
       "<iframe\n",
       "    scrolling=\"no\"\n",
       "    width=\"100%\"\n",
       "    height=\"545px\"\n",
       "    src=\"iframe_figures/figure_138.html\"\n",
       "    frameborder=\"0\"\n",
       "    allowfullscreen\n",
       "></iframe>\n"
      ]
     },
     "metadata": {},
     "output_type": "display_data"
    }
   ],
   "source": [
    "fig = px.area(temp_df, x=\"started_at\", y=\"count\", color=\"channel\")\n",
    "fig "
   ]
  },
  {
   "cell_type": "code",
   "execution_count": 10,
   "id": "d8b2b999-66d7-4e80-a256-c0282929779d",
   "metadata": {},
   "outputs": [],
   "source": [
    "subject_cols = [\"subject_with_emoji\", \"subject_with_personalization\", \"subject_with_deadline\", \"subject_with_bonuses\", \"subject_with_discount\", \"subject_with_saleout\"]"
   ]
  },
  {
   "cell_type": "code",
   "execution_count": 48,
   "id": "4b567d6a-c331-4b39-995c-ac45bfee0a67",
   "metadata": {},
   "outputs": [
    {
     "name": "stdout",
     "output_type": "stream",
     "text": [
      "['campaign_uid', 'id', 'message_id', 'campaign_id', 'message_type', 'client_id', 'channel', 'category', 'platform', 'email_provider', 'stream', 'date', 'sent_at', 'is_opened', 'opened_first_time_at', 'opened_last_time_at', 'is_clicked', 'clicked_first_time_at', 'clicked_last_time_at', 'is_unsubscribed', 'unsubscribed_at', 'is_hard_bounced', 'hard_bounced_at', 'is_soft_bounced', 'soft_bounced_at', 'is_complained', 'complained_at', 'is_blocked', 'blocked_at', 'is_purchased', 'purchased_at', 'created_at', 'updated_at', 'c_id', 'campaign_type', 'c_channel', 'topic', 'started_at', 'finished_at', 'total_count', 'ab_test', 'warmup_mode', 'hour_limit', 'subject_length', 'subject_with_personalization', 'subject_with_deadline', 'subject_with_emoji', 'subject_with_bonuses', 'subject_with_discount', 'subject_with_saleout', 'is_test', 'position', 'time_to_purchase']\n"
     ]
    }
   ],
   "source": [
    "func =  udf (lambda x: datetime.strptime(f\"{x[5:7]}/{x[8:10]}/{x[:4]}\" , '%m/%d/%Y'), DateType())\n",
    "\n",
    "def setup_data():\n",
    "    campaigns_df = spark.read.option(\"header\",True).csv(\"data/campaigns.csv\")\n",
    "    messages_df = spark.read.option(\"header\",True).csv(\"data/messages-demo.csv\")\n",
    "    for col_ in subject_cols:\n",
    "        campaigns_df = campaigns_df.withColumn(col_, campaigns_df[col_].cast(\"boolean\"))\n",
    "\n",
    "    campaigns_df = campaigns_df.withColumn(\"campaign_uid\", concat_ws(\"_\", campaigns_df[\"campaign_type\"], campaigns_df[\"id\"]))\n",
    "    campaigns_df = campaigns_df.withColumnRenamed(\"channel\", \"c_channel\")\n",
    "    campaigns_df = campaigns_df.withColumnRenamed(\"id\", \"c_id\")\n",
    "    messages_df = messages_df.withColumn(\"campaign_uid\", concat_ws(\"_\", messages_df[\"message_type\"], messages_df[\"campaign_id\"]))\n",
    "    merged_df = messages_df.join(campaigns_df, [\"campaign_uid\"])\n",
    "    # merged_df = merged_df.na.drop(subset=[\"started_at\"])\n",
    "    # merged_df = merged_df.withColumn(\"started_at\", func(col('started_at')))\n",
    "    merged_df = merged_df.na.drop(subset=[\"sent_at\"])\n",
    "    merged_df = merged_df.withColumn(\"sent_at\", func(col('sent_at')))\n",
    "\n",
    "    merged_df = merged_df.withColumn(\"purchased_at\", f.to_date(merged_df[\"purchased_at\"]))\n",
    "    merged_df = merged_df.withColumn(\"clicked_first_time_at\", f.to_date(merged_df[\"clicked_first_time_at\"]))\n",
    "\n",
    "    merged_df = merged_df.withColumn(\"time_to_purchase\", merged_df[\"purchased_at\"] - merged_df[\"clicked_first_time_at\"])\n",
    "    merged_df = merged_df.withColumn(\"time_to_purchase\", f.udf(lambda x : x.total_seconds()/60 if x != None else 0)(\"time_to_purchase\"))\n",
    "    print(merged_df.columns)\n",
    "    return merged_df\n",
    "\n",
    "merged_df = setup_data()"
   ]
  },
  {
   "cell_type": "code",
   "execution_count": 49,
   "id": "7167f7ae-fc05-4f88-bd61-d60be2955a0a",
   "metadata": {},
   "outputs": [
    {
     "name": "stderr",
     "output_type": "stream",
     "text": [
      "                                                                                \r"
     ]
    },
    {
     "data": {
      "text/plain": [
       "10000000"
      ]
     },
     "execution_count": 49,
     "metadata": {},
     "output_type": "execute_result"
    }
   ],
   "source": [
    "merged_df.count()"
   ]
  },
  {
   "cell_type": "code",
   "execution_count": 34,
   "id": "c6b1794e-8c70-410e-9c40-555323bda1a1",
   "metadata": {},
   "outputs": [
    {
     "name": "stderr",
     "output_type": "stream",
     "text": [
      "[Stage 35:==========================================>              (9 + 3) / 12]\r"
     ]
    },
    {
     "name": "stdout",
     "output_type": "stream",
     "text": [
      "+------------+---+----------+-----------+------------+---------+-------+--------+--------+--------------+------+----+-------+---------+--------------------+-------------------+----------+---------------------+--------------------+---------------+---------------+---------------+---------------+---------------+---------------+-------------+-------------+----------+----------+------------+------------+----------+----------+----+-------------+---------+-----+----------+-----------+-----------+-------+-----------+----------+--------------+----------------------------+---------------------+------------------+--------------------+---------------------+--------------------+-------+--------+----------------+\n",
      "|campaign_uid| id|message_id|campaign_id|message_type|client_id|channel|category|platform|email_provider|stream|date|sent_at|is_opened|opened_first_time_at|opened_last_time_at|is_clicked|clicked_first_time_at|clicked_last_time_at|is_unsubscribed|unsubscribed_at|is_hard_bounced|hard_bounced_at|is_soft_bounced|soft_bounced_at|is_complained|complained_at|is_blocked|blocked_at|is_purchased|purchased_at|created_at|updated_at|c_id|campaign_type|c_channel|topic|started_at|finished_at|total_count|ab_test|warmup_mode|hour_limit|subject_length|subject_with_personalization|subject_with_deadline|subject_with_emoji|subject_with_bonuses|subject_with_discount|subject_with_saleout|is_test|position|time_to_purchase|\n",
      "+------------+---+----------+-----------+------------+---------+-------+--------+--------+--------------+------+----+-------+---------+--------------------+-------------------+----------+---------------------+--------------------+---------------+---------------+---------------+---------------+---------------+---------------+-------------+-------------+----------+----------+------------+------------+----------+----------+----+-------------+---------+-----+----------+-----------+-----------+-------+-----------+----------+--------------+----------------------------+---------------------+------------------+--------------------+---------------------+--------------------+-------+--------+----------------+\n",
      "+------------+---+----------+-----------+------------+---------+-------+--------+--------+--------------+------+----+-------+---------+--------------------+-------------------+----------+---------------------+--------------------+---------------+---------------+---------------+---------------+---------------+---------------+-------------+-------------+----------+----------+------------+------------+----------+----------+----+-------------+---------+-----+----------+-----------+-----------+-------+-----------+----------+--------------+----------------------------+---------------------+------------------+--------------------+---------------------+--------------------+-------+--------+----------------+\n",
      "\n"
     ]
    },
    {
     "name": "stderr",
     "output_type": "stream",
     "text": [
      "                                                                                \r"
     ]
    }
   ],
   "source": [
    "merged_df.show(5)"
   ]
  },
  {
   "cell_type": "markdown",
   "id": "3e262f33-5aaf-47a9-ae0d-73c32fe3b1a5",
   "metadata": {},
   "source": [
    "## Set up pandas df"
   ]
  },
  {
   "cell_type": "code",
   "execution_count": 12,
   "id": "495df098-c964-4f55-877f-29f4c7484791",
   "metadata": {},
   "outputs": [
    {
     "name": "stderr",
     "output_type": "stream",
     "text": [
      "23/07/11 22:33:21 WARN package: Truncated the string representation of a plan since it was too large. This behavior can be adjusted by setting 'spark.sql.debug.maxToStringFields'.\n",
      "                                                                                \r"
     ]
    }
   ],
   "source": [
    "temp_df = merged_df.limit(200000).toPandas()"
   ]
  },
  {
   "cell_type": "code",
   "execution_count": 52,
   "id": "65799898-3d5d-491b-9702-bf7a17d1acad",
   "metadata": {},
   "outputs": [],
   "source": [
    "temp_table = merged_df.createOrReplaceTempView(\"temp_table\")"
   ]
  },
  {
   "cell_type": "code",
   "execution_count": 267,
   "id": "55dd0a81-c5af-41ec-adec-0c53504c1a80",
   "metadata": {},
   "outputs": [
    {
     "name": "stdout",
     "output_type": "stream",
     "text": [
      "<class 'NoneType'>\n"
     ]
    }
   ],
   "source": [
    "print(type(temp_table))"
   ]
  },
  {
   "cell_type": "code",
   "execution_count": 180,
   "id": "5ced61b7-0681-462a-b159-d743b01cb1f9",
   "metadata": {},
   "outputs": [
    {
     "data": {
      "text/plain": [
       "Index(['campaign_uid', 'id', 'message_id', 'campaign_id', 'message_type',\n",
       "       'client_id', 'channel', 'category', 'platform', 'email_provider',\n",
       "       'stream', 'date', 'sent_at', 'is_opened', 'opened_first_time_at',\n",
       "       'opened_last_time_at', 'is_clicked', 'clicked_first_time_at',\n",
       "       'clicked_last_time_at', 'is_unsubscribed', 'unsubscribed_at',\n",
       "       'is_hard_bounced', 'hard_bounced_at', 'is_soft_bounced',\n",
       "       'soft_bounced_at', 'is_complained', 'complained_at', 'is_blocked',\n",
       "       'blocked_at', 'is_purchased', 'purchased_at', 'created_at',\n",
       "       'updated_at', 'c_id', 'campaign_type', 'c_channel', 'topic',\n",
       "       'started_at', 'finished_at', 'total_count', 'ab_test', 'warmup_mode',\n",
       "       'hour_limit', 'subject_length', 'subject_with_personalization',\n",
       "       'subject_with_deadline', 'subject_with_emoji', 'subject_with_bonuses',\n",
       "       'subject_with_discount', 'subject_with_saleout', 'is_test', 'position'],\n",
       "      dtype='object')"
      ]
     },
     "execution_count": 180,
     "metadata": {},
     "output_type": "execute_result"
    }
   ],
   "source": [
    "temp_df.columns"
   ]
  },
  {
   "cell_type": "code",
   "execution_count": 172,
   "id": "f06fbf73-3e78-4339-811d-0c81ea4ebe72",
   "metadata": {},
   "outputs": [],
   "source": [
    "temp_df[\"is_opened\"] = temp_df[\"is_opened\"].fillna(\"f\")"
   ]
  },
  {
   "cell_type": "code",
   "execution_count": 204,
   "id": "0f0829ef-937d-435b-b90a-b5d7e5f43114",
   "metadata": {},
   "outputs": [
    {
     "data": {
      "text/plain": [
       "Index(['id', 'message_id', 'campaign_id', 'message_type', 'client_id',\n",
       "       'channel', 'category', 'platform', 'email_provider', 'stream', 'date',\n",
       "       'sent_at', 'is_opened', 'opened_first_time_at', 'opened_last_time_at',\n",
       "       'is_clicked', 'clicked_first_time_at', 'clicked_last_time_at',\n",
       "       'is_unsubscribed', 'unsubscribed_at', 'is_hard_bounced',\n",
       "       'hard_bounced_at', 'is_soft_bounced', 'soft_bounced_at',\n",
       "       'is_complained', 'complained_at', 'is_blocked', 'blocked_at',\n",
       "       'is_purchased', 'purchased_at', 'created_at', 'updated_at',\n",
       "       'campaign_uid', 'c_id', 'campaign_type', 'c_channel', 'topic',\n",
       "       'started_at', 'finished_at', 'total_count', 'ab_test', 'warmup_mode',\n",
       "       'hour_limit', 'subject_length', 'subject_with_personalization',\n",
       "       'subject_with_deadline', 'subject_with_emoji', 'subject_with_bonuses',\n",
       "       'subject_with_discount', 'subject_with_saleout', 'is_test', 'position',\n",
       "       'campaign_uid'],\n",
       "      dtype='object')"
      ]
     },
     "execution_count": 204,
     "metadata": {},
     "output_type": "execute_result"
    }
   ],
   "source": [
    "temp_df.columns"
   ]
  },
  {
   "cell_type": "markdown",
   "id": "fa6e793b-19f0-40b3-809f-4c4b782ce23b",
   "metadata": {},
   "source": [
    "## Important column unique values"
   ]
  },
  {
   "cell_type": "code",
   "execution_count": 154,
   "id": "9dc9e25d-bfc0-4105-a7d8-68c6defbd1a6",
   "metadata": {},
   "outputs": [
    {
     "data": {
      "text/plain": [
       "array(['order ready for pickup', 'order pickup still pending',\n",
       "       'profile updated', 'order shipped', 'order created',\n",
       "       'order cancelled', 'abandoned view', 'abandoned cart',\n",
       "       'abandoned category', 'subscribed', 'sale out', 'recent purchase',\n",
       "       'added to wish list', 'abandoned search'], dtype=object)"
      ]
     },
     "execution_count": 154,
     "metadata": {},
     "output_type": "execute_result"
    }
   ],
   "source": [
    "temp_df[\"topic\"].unique()"
   ]
  },
  {
   "cell_type": "code",
   "execution_count": null,
   "id": "ba0c3b54-8279-4cc0-a358-1323f79c2581",
   "metadata": {},
   "outputs": [],
   "source": [
    "temp_df.head(100)"
   ]
  },
  {
   "cell_type": "code",
   "execution_count": 143,
   "id": "63462e17-4b32-4534-b5d7-1a4a526b62bd",
   "metadata": {},
   "outputs": [],
   "source": [
    "for col in subject_cols:\n",
    "    temp_df[col] = temp_df[col].astype(bool)"
   ]
  },
  {
   "cell_type": "code",
   "execution_count": 140,
   "id": "2a1e61db-a452-4f37-913a-383a483a6b4b",
   "metadata": {},
   "outputs": [
    {
     "data": {
      "text/plain": [
       "message_type\n",
       "transactional     95\n",
       "trigger          140\n",
       "Name: id, dtype: int64"
      ]
     },
     "execution_count": 140,
     "metadata": {},
     "output_type": "execute_result"
    }
   ],
   "source": [
    "temp_df[temp_df[\"is_purchased\"] == 't'].groupby(\"message_type\").count()[\"id\"]"
   ]
  },
  {
   "cell_type": "code",
   "execution_count": 227,
   "id": "2f5e36ed-9a6f-4840-9ced-de6d2c26f7b3",
   "metadata": {
    "scrolled": true
   },
   "outputs": [
    {
     "data": {
      "text/html": [
       "<div>\n",
       "<style scoped>\n",
       "    .dataframe tbody tr th:only-of-type {\n",
       "        vertical-align: middle;\n",
       "    }\n",
       "\n",
       "    .dataframe tbody tr th {\n",
       "        vertical-align: top;\n",
       "    }\n",
       "\n",
       "    .dataframe thead th {\n",
       "        text-align: right;\n",
       "    }\n",
       "</style>\n",
       "<table border=\"1\" class=\"dataframe\">\n",
       "  <thead>\n",
       "    <tr style=\"text-align: right;\">\n",
       "      <th></th>\n",
       "      <th>topic</th>\n",
       "      <th>clicked_first_time_at</th>\n",
       "      <th>opened_first_time_at</th>\n",
       "      <th>purchased_at</th>\n",
       "      <th>time_to_purchase</th>\n",
       "    </tr>\n",
       "  </thead>\n",
       "  <tbody>\n",
       "    <tr>\n",
       "      <th>13208</th>\n",
       "      <td>abandoned category</td>\n",
       "      <td>2021-05-04 06:40:50</td>\n",
       "      <td>2021-04-30 10:44:06</td>\n",
       "      <td>2021-04-30 10:41:55</td>\n",
       "      <td>-5518.916667</td>\n",
       "    </tr>\n",
       "    <tr>\n",
       "      <th>13323</th>\n",
       "      <td>abandoned view</td>\n",
       "      <td>2021-04-30 15:33:10</td>\n",
       "      <td>2021-04-30 15:32:34</td>\n",
       "      <td>2021-04-30 15:32:02</td>\n",
       "      <td>-1.133333</td>\n",
       "    </tr>\n",
       "    <tr>\n",
       "      <th>13471</th>\n",
       "      <td>abandoned category</td>\n",
       "      <td>2021-05-04 05:41:36</td>\n",
       "      <td>2021-05-04 05:41:11</td>\n",
       "      <td>2021-04-30 17:15:19</td>\n",
       "      <td>-5066.283333</td>\n",
       "    </tr>\n",
       "    <tr>\n",
       "      <th>13810</th>\n",
       "      <td>abandoned category</td>\n",
       "      <td>2021-04-30 15:00:46</td>\n",
       "      <td>2021-04-30 15:00:36</td>\n",
       "      <td>2021-04-30 12:02:29</td>\n",
       "      <td>-178.283333</td>\n",
       "    </tr>\n",
       "    <tr>\n",
       "      <th>13891</th>\n",
       "      <td>abandoned cart</td>\n",
       "      <td>2021-04-30 21:47:16</td>\n",
       "      <td>2021-04-30 21:46:29</td>\n",
       "      <td>2021-04-30 19:00:37</td>\n",
       "      <td>-166.650000</td>\n",
       "    </tr>\n",
       "    <tr>\n",
       "      <th>14145</th>\n",
       "      <td>abandoned view</td>\n",
       "      <td>2021-04-30 21:19:35</td>\n",
       "      <td>2021-04-30 21:19:04</td>\n",
       "      <td>2021-04-30 12:06:21</td>\n",
       "      <td>-553.233333</td>\n",
       "    </tr>\n",
       "    <tr>\n",
       "      <th>14186</th>\n",
       "      <td>abandoned category</td>\n",
       "      <td>2021-04-30 10:59:29</td>\n",
       "      <td>2021-04-30 10:59:16</td>\n",
       "      <td>2021-04-30 10:15:24</td>\n",
       "      <td>-44.083333</td>\n",
       "    </tr>\n",
       "    <tr>\n",
       "      <th>14225</th>\n",
       "      <td>abandoned view</td>\n",
       "      <td>2021-04-30 15:03:10</td>\n",
       "      <td>2021-04-30 15:02:37</td>\n",
       "      <td>2021-04-30 11:31:54</td>\n",
       "      <td>-211.266667</td>\n",
       "    </tr>\n",
       "    <tr>\n",
       "      <th>14261</th>\n",
       "      <td>abandoned cart</td>\n",
       "      <td>2021-04-30 08:50:27</td>\n",
       "      <td>2021-04-30 08:50:09</td>\n",
       "      <td>2021-04-30 05:35:29</td>\n",
       "      <td>-194.966667</td>\n",
       "    </tr>\n",
       "    <tr>\n",
       "      <th>14607</th>\n",
       "      <td>added to wish list</td>\n",
       "      <td>2021-04-30 19:23:07</td>\n",
       "      <td>2021-04-30 19:22:59</td>\n",
       "      <td>2021-04-30 10:27:01</td>\n",
       "      <td>-536.100000</td>\n",
       "    </tr>\n",
       "    <tr>\n",
       "      <th>14979</th>\n",
       "      <td>abandoned cart</td>\n",
       "      <td>2021-04-30 16:32:43</td>\n",
       "      <td>2021-04-30 16:32:25</td>\n",
       "      <td>2021-04-30 16:20:08</td>\n",
       "      <td>-12.583333</td>\n",
       "    </tr>\n",
       "    <tr>\n",
       "      <th>15217</th>\n",
       "      <td>abandoned category</td>\n",
       "      <td>2021-04-30 13:44:45</td>\n",
       "      <td>2021-04-30 13:44:26</td>\n",
       "      <td>2021-04-30 11:56:39</td>\n",
       "      <td>-108.100000</td>\n",
       "    </tr>\n",
       "    <tr>\n",
       "      <th>15386</th>\n",
       "      <td>abandoned view</td>\n",
       "      <td>2021-04-30 09:25:21</td>\n",
       "      <td>2021-04-30 09:25:21</td>\n",
       "      <td>2021-04-30 05:19:10</td>\n",
       "      <td>-246.183333</td>\n",
       "    </tr>\n",
       "    <tr>\n",
       "      <th>15685</th>\n",
       "      <td>abandoned category</td>\n",
       "      <td>2021-04-30 12:35:23</td>\n",
       "      <td>2021-04-30 12:35:16</td>\n",
       "      <td>2021-04-30 09:20:23</td>\n",
       "      <td>-195.000000</td>\n",
       "    </tr>\n",
       "    <tr>\n",
       "      <th>15702</th>\n",
       "      <td>abandoned category</td>\n",
       "      <td>2021-04-30 19:17:45</td>\n",
       "      <td>2021-04-30 19:17:26</td>\n",
       "      <td>2021-04-30 17:40:43</td>\n",
       "      <td>-97.033333</td>\n",
       "    </tr>\n",
       "    <tr>\n",
       "      <th>16284</th>\n",
       "      <td>abandoned category</td>\n",
       "      <td>2021-04-30 11:02:25</td>\n",
       "      <td>2021-04-30 11:01:55</td>\n",
       "      <td>2021-04-30 10:16:42</td>\n",
       "      <td>-45.716667</td>\n",
       "    </tr>\n",
       "    <tr>\n",
       "      <th>16812</th>\n",
       "      <td>abandoned cart</td>\n",
       "      <td>2021-04-30 10:56:20</td>\n",
       "      <td>2021-04-30 10:55:44</td>\n",
       "      <td>2021-04-30 10:37:32</td>\n",
       "      <td>-18.800000</td>\n",
       "    </tr>\n",
       "    <tr>\n",
       "      <th>16936</th>\n",
       "      <td>abandoned view</td>\n",
       "      <td>2021-04-30 15:21:49</td>\n",
       "      <td>2021-04-30 15:21:08</td>\n",
       "      <td>2021-04-30 14:28:26</td>\n",
       "      <td>-53.383333</td>\n",
       "    </tr>\n",
       "    <tr>\n",
       "      <th>17050</th>\n",
       "      <td>abandoned view</td>\n",
       "      <td>2021-05-04 06:05:27</td>\n",
       "      <td>2021-05-04 06:05:19</td>\n",
       "      <td>2021-04-30 14:11:52</td>\n",
       "      <td>-5273.583333</td>\n",
       "    </tr>\n",
       "    <tr>\n",
       "      <th>17151</th>\n",
       "      <td>abandoned category</td>\n",
       "      <td>2021-04-30 07:35:47</td>\n",
       "      <td>2021-04-30 07:35:21</td>\n",
       "      <td>2021-04-30 05:40:49</td>\n",
       "      <td>-114.966667</td>\n",
       "    </tr>\n",
       "    <tr>\n",
       "      <th>17386</th>\n",
       "      <td>abandoned view</td>\n",
       "      <td>2021-04-30 14:16:52</td>\n",
       "      <td>2021-04-30 14:16:52</td>\n",
       "      <td>2021-04-30 13:42:12</td>\n",
       "      <td>-34.666667</td>\n",
       "    </tr>\n",
       "    <tr>\n",
       "      <th>18664</th>\n",
       "      <td>abandoned view</td>\n",
       "      <td>2021-04-30 15:37:10</td>\n",
       "      <td>2021-04-30 15:36:38</td>\n",
       "      <td>2021-04-30 15:35:44</td>\n",
       "      <td>-1.433333</td>\n",
       "    </tr>\n",
       "    <tr>\n",
       "      <th>18705</th>\n",
       "      <td>abandoned cart</td>\n",
       "      <td>2021-04-30 09:24:13</td>\n",
       "      <td>2021-04-30 09:23:26</td>\n",
       "      <td>2021-04-30 05:02:34</td>\n",
       "      <td>-261.650000</td>\n",
       "    </tr>\n",
       "    <tr>\n",
       "      <th>18999</th>\n",
       "      <td>added to wish list</td>\n",
       "      <td>2021-04-30 19:36:50</td>\n",
       "      <td>2021-04-30 19:36:07</td>\n",
       "      <td>2021-04-30 18:30:20</td>\n",
       "      <td>-66.500000</td>\n",
       "    </tr>\n",
       "    <tr>\n",
       "      <th>19071</th>\n",
       "      <td>abandoned view</td>\n",
       "      <td>2021-04-30 10:11:40</td>\n",
       "      <td>2021-04-30 09:58:20</td>\n",
       "      <td>2021-04-30 09:49:13</td>\n",
       "      <td>-22.450000</td>\n",
       "    </tr>\n",
       "    <tr>\n",
       "      <th>19177</th>\n",
       "      <td>abandoned category</td>\n",
       "      <td>2021-05-02 08:47:47</td>\n",
       "      <td>2021-05-02 08:47:19</td>\n",
       "      <td>2021-04-30 09:06:47</td>\n",
       "      <td>-2861.000000</td>\n",
       "    </tr>\n",
       "    <tr>\n",
       "      <th>19201</th>\n",
       "      <td>abandoned category</td>\n",
       "      <td>2021-05-01 14:42:58</td>\n",
       "      <td>2021-05-01 14:42:40</td>\n",
       "      <td>2021-04-30 16:05:53</td>\n",
       "      <td>-1357.083333</td>\n",
       "    </tr>\n",
       "    <tr>\n",
       "      <th>19240</th>\n",
       "      <td>abandoned view</td>\n",
       "      <td>2021-04-30 16:54:57</td>\n",
       "      <td>2021-04-30 16:45:30</td>\n",
       "      <td>2021-04-30 15:57:18</td>\n",
       "      <td>-57.650000</td>\n",
       "    </tr>\n",
       "    <tr>\n",
       "      <th>19593</th>\n",
       "      <td>abandoned view</td>\n",
       "      <td>2021-04-30 09:43:56</td>\n",
       "      <td>2021-04-30 09:43:46</td>\n",
       "      <td>2021-04-30 09:42:48</td>\n",
       "      <td>-1.133333</td>\n",
       "    </tr>\n",
       "    <tr>\n",
       "      <th>20083</th>\n",
       "      <td>recent purchase</td>\n",
       "      <td>2021-04-30 06:22:21</td>\n",
       "      <td>2021-04-30 06:22:16</td>\n",
       "      <td>2021-04-30 05:29:29</td>\n",
       "      <td>-52.866667</td>\n",
       "    </tr>\n",
       "    <tr>\n",
       "      <th>20178</th>\n",
       "      <td>added to wish list</td>\n",
       "      <td>2021-04-30 20:15:17</td>\n",
       "      <td>2021-04-30 20:14:11</td>\n",
       "      <td>2021-04-30 18:05:17</td>\n",
       "      <td>-130.000000</td>\n",
       "    </tr>\n",
       "    <tr>\n",
       "      <th>20198</th>\n",
       "      <td>abandoned view</td>\n",
       "      <td>2021-04-30 09:06:44</td>\n",
       "      <td>2021-04-30 09:06:33</td>\n",
       "      <td>2021-04-30 09:00:07</td>\n",
       "      <td>-6.616667</td>\n",
       "    </tr>\n",
       "    <tr>\n",
       "      <th>20498</th>\n",
       "      <td>abandoned view</td>\n",
       "      <td>2021-05-03 07:36:33</td>\n",
       "      <td>2021-05-03 07:35:51</td>\n",
       "      <td>2021-04-30 14:00:54</td>\n",
       "      <td>-3935.650000</td>\n",
       "    </tr>\n",
       "    <tr>\n",
       "      <th>20513</th>\n",
       "      <td>abandoned view</td>\n",
       "      <td>2021-05-04 04:10:17</td>\n",
       "      <td>2021-05-04 04:10:08</td>\n",
       "      <td>2021-04-30 18:15:44</td>\n",
       "      <td>-4914.550000</td>\n",
       "    </tr>\n",
       "    <tr>\n",
       "      <th>21113</th>\n",
       "      <td>abandoned category</td>\n",
       "      <td>2021-04-30 06:38:40</td>\n",
       "      <td>2021-04-30 06:38:27</td>\n",
       "      <td>2021-04-30 06:35:40</td>\n",
       "      <td>-3.000000</td>\n",
       "    </tr>\n",
       "    <tr>\n",
       "      <th>21119</th>\n",
       "      <td>abandoned category</td>\n",
       "      <td>2021-05-03 02:13:44</td>\n",
       "      <td>2021-05-03 02:13:19</td>\n",
       "      <td>2021-04-30 14:07:10</td>\n",
       "      <td>-3606.566667</td>\n",
       "    </tr>\n",
       "    <tr>\n",
       "      <th>22239</th>\n",
       "      <td>abandoned cart</td>\n",
       "      <td>2021-05-01 03:32:36</td>\n",
       "      <td>2021-05-01 03:32:02</td>\n",
       "      <td>2021-04-30 14:10:49</td>\n",
       "      <td>-801.783333</td>\n",
       "    </tr>\n",
       "    <tr>\n",
       "      <th>22300</th>\n",
       "      <td>added to wish list</td>\n",
       "      <td>2021-04-30 06:39:19</td>\n",
       "      <td>2021-04-30 06:38:51</td>\n",
       "      <td>2021-04-30 05:21:59</td>\n",
       "      <td>-77.333333</td>\n",
       "    </tr>\n",
       "    <tr>\n",
       "      <th>22485</th>\n",
       "      <td>abandoned view</td>\n",
       "      <td>2021-04-30 16:53:07</td>\n",
       "      <td>2021-04-30 16:52:47</td>\n",
       "      <td>2021-04-30 16:35:21</td>\n",
       "      <td>-17.766667</td>\n",
       "    </tr>\n",
       "    <tr>\n",
       "      <th>22693</th>\n",
       "      <td>abandoned view</td>\n",
       "      <td>2021-04-30 19:59:35</td>\n",
       "      <td>2021-04-30 19:58:57</td>\n",
       "      <td>2021-04-30 14:28:29</td>\n",
       "      <td>-331.100000</td>\n",
       "    </tr>\n",
       "    <tr>\n",
       "      <th>23012</th>\n",
       "      <td>abandoned cart</td>\n",
       "      <td>2021-05-01 12:25:00</td>\n",
       "      <td>2021-04-30 14:49:55</td>\n",
       "      <td>2021-04-30 14:25:05</td>\n",
       "      <td>-1319.916667</td>\n",
       "    </tr>\n",
       "    <tr>\n",
       "      <th>23146</th>\n",
       "      <td>abandoned view</td>\n",
       "      <td>2021-05-01 06:08:47</td>\n",
       "      <td>2021-05-01 06:08:21</td>\n",
       "      <td>2021-04-30 20:40:35</td>\n",
       "      <td>-568.200000</td>\n",
       "    </tr>\n",
       "    <tr>\n",
       "      <th>23318</th>\n",
       "      <td>abandoned cart</td>\n",
       "      <td>2021-04-30 15:00:28</td>\n",
       "      <td>2021-04-30 15:00:20</td>\n",
       "      <td>2021-04-30 08:58:23</td>\n",
       "      <td>-362.083333</td>\n",
       "    </tr>\n",
       "    <tr>\n",
       "      <th>25318</th>\n",
       "      <td>recent purchase</td>\n",
       "      <td>2021-04-30 05:33:52</td>\n",
       "      <td>2021-04-30 05:33:35</td>\n",
       "      <td>2021-04-30 05:28:59</td>\n",
       "      <td>-4.883333</td>\n",
       "    </tr>\n",
       "    <tr>\n",
       "      <th>27007</th>\n",
       "      <td>abandoned view</td>\n",
       "      <td>2021-04-30 08:51:52</td>\n",
       "      <td>2021-04-30 08:51:34</td>\n",
       "      <td>2021-04-30 08:43:12</td>\n",
       "      <td>-8.666667</td>\n",
       "    </tr>\n",
       "    <tr>\n",
       "      <th>27857</th>\n",
       "      <td>abandoned view</td>\n",
       "      <td>2021-04-30 18:10:59</td>\n",
       "      <td>2021-04-30 18:10:43</td>\n",
       "      <td>2021-04-30 17:06:45</td>\n",
       "      <td>-64.233333</td>\n",
       "    </tr>\n",
       "    <tr>\n",
       "      <th>28066</th>\n",
       "      <td>abandoned view</td>\n",
       "      <td>2021-04-30 16:06:59</td>\n",
       "      <td>2021-04-30 16:06:22</td>\n",
       "      <td>2021-04-30 15:36:28</td>\n",
       "      <td>-30.516667</td>\n",
       "    </tr>\n",
       "    <tr>\n",
       "      <th>29524</th>\n",
       "      <td>abandoned cart</td>\n",
       "      <td>2021-04-30 05:28:24</td>\n",
       "      <td>2021-04-30 05:28:23</td>\n",
       "      <td>2021-04-30 05:22:51</td>\n",
       "      <td>-5.550000</td>\n",
       "    </tr>\n",
       "    <tr>\n",
       "      <th>29728</th>\n",
       "      <td>added to wish list</td>\n",
       "      <td>2021-05-01 19:20:10</td>\n",
       "      <td>2021-04-30 18:25:12</td>\n",
       "      <td>2021-04-30 18:11:30</td>\n",
       "      <td>-1508.666667</td>\n",
       "    </tr>\n",
       "    <tr>\n",
       "      <th>29909</th>\n",
       "      <td>abandoned cart</td>\n",
       "      <td>2021-04-30 16:07:10</td>\n",
       "      <td>2021-04-30 16:06:59</td>\n",
       "      <td>2021-04-30 16:06:34</td>\n",
       "      <td>-0.600000</td>\n",
       "    </tr>\n",
       "  </tbody>\n",
       "</table>\n",
       "</div>"
      ],
      "text/plain": [
       "                    topic clicked_first_time_at opened_first_time_at  \\\n",
       "13208  abandoned category   2021-05-04 06:40:50  2021-04-30 10:44:06   \n",
       "13323      abandoned view   2021-04-30 15:33:10  2021-04-30 15:32:34   \n",
       "13471  abandoned category   2021-05-04 05:41:36  2021-05-04 05:41:11   \n",
       "13810  abandoned category   2021-04-30 15:00:46  2021-04-30 15:00:36   \n",
       "13891      abandoned cart   2021-04-30 21:47:16  2021-04-30 21:46:29   \n",
       "14145      abandoned view   2021-04-30 21:19:35  2021-04-30 21:19:04   \n",
       "14186  abandoned category   2021-04-30 10:59:29  2021-04-30 10:59:16   \n",
       "14225      abandoned view   2021-04-30 15:03:10  2021-04-30 15:02:37   \n",
       "14261      abandoned cart   2021-04-30 08:50:27  2021-04-30 08:50:09   \n",
       "14607  added to wish list   2021-04-30 19:23:07  2021-04-30 19:22:59   \n",
       "14979      abandoned cart   2021-04-30 16:32:43  2021-04-30 16:32:25   \n",
       "15217  abandoned category   2021-04-30 13:44:45  2021-04-30 13:44:26   \n",
       "15386      abandoned view   2021-04-30 09:25:21  2021-04-30 09:25:21   \n",
       "15685  abandoned category   2021-04-30 12:35:23  2021-04-30 12:35:16   \n",
       "15702  abandoned category   2021-04-30 19:17:45  2021-04-30 19:17:26   \n",
       "16284  abandoned category   2021-04-30 11:02:25  2021-04-30 11:01:55   \n",
       "16812      abandoned cart   2021-04-30 10:56:20  2021-04-30 10:55:44   \n",
       "16936      abandoned view   2021-04-30 15:21:49  2021-04-30 15:21:08   \n",
       "17050      abandoned view   2021-05-04 06:05:27  2021-05-04 06:05:19   \n",
       "17151  abandoned category   2021-04-30 07:35:47  2021-04-30 07:35:21   \n",
       "17386      abandoned view   2021-04-30 14:16:52  2021-04-30 14:16:52   \n",
       "18664      abandoned view   2021-04-30 15:37:10  2021-04-30 15:36:38   \n",
       "18705      abandoned cart   2021-04-30 09:24:13  2021-04-30 09:23:26   \n",
       "18999  added to wish list   2021-04-30 19:36:50  2021-04-30 19:36:07   \n",
       "19071      abandoned view   2021-04-30 10:11:40  2021-04-30 09:58:20   \n",
       "19177  abandoned category   2021-05-02 08:47:47  2021-05-02 08:47:19   \n",
       "19201  abandoned category   2021-05-01 14:42:58  2021-05-01 14:42:40   \n",
       "19240      abandoned view   2021-04-30 16:54:57  2021-04-30 16:45:30   \n",
       "19593      abandoned view   2021-04-30 09:43:56  2021-04-30 09:43:46   \n",
       "20083     recent purchase   2021-04-30 06:22:21  2021-04-30 06:22:16   \n",
       "20178  added to wish list   2021-04-30 20:15:17  2021-04-30 20:14:11   \n",
       "20198      abandoned view   2021-04-30 09:06:44  2021-04-30 09:06:33   \n",
       "20498      abandoned view   2021-05-03 07:36:33  2021-05-03 07:35:51   \n",
       "20513      abandoned view   2021-05-04 04:10:17  2021-05-04 04:10:08   \n",
       "21113  abandoned category   2021-04-30 06:38:40  2021-04-30 06:38:27   \n",
       "21119  abandoned category   2021-05-03 02:13:44  2021-05-03 02:13:19   \n",
       "22239      abandoned cart   2021-05-01 03:32:36  2021-05-01 03:32:02   \n",
       "22300  added to wish list   2021-04-30 06:39:19  2021-04-30 06:38:51   \n",
       "22485      abandoned view   2021-04-30 16:53:07  2021-04-30 16:52:47   \n",
       "22693      abandoned view   2021-04-30 19:59:35  2021-04-30 19:58:57   \n",
       "23012      abandoned cart   2021-05-01 12:25:00  2021-04-30 14:49:55   \n",
       "23146      abandoned view   2021-05-01 06:08:47  2021-05-01 06:08:21   \n",
       "23318      abandoned cart   2021-04-30 15:00:28  2021-04-30 15:00:20   \n",
       "25318     recent purchase   2021-04-30 05:33:52  2021-04-30 05:33:35   \n",
       "27007      abandoned view   2021-04-30 08:51:52  2021-04-30 08:51:34   \n",
       "27857      abandoned view   2021-04-30 18:10:59  2021-04-30 18:10:43   \n",
       "28066      abandoned view   2021-04-30 16:06:59  2021-04-30 16:06:22   \n",
       "29524      abandoned cart   2021-04-30 05:28:24  2021-04-30 05:28:23   \n",
       "29728  added to wish list   2021-05-01 19:20:10  2021-04-30 18:25:12   \n",
       "29909      abandoned cart   2021-04-30 16:07:10  2021-04-30 16:06:59   \n",
       "\n",
       "             purchased_at  time_to_purchase  \n",
       "13208 2021-04-30 10:41:55      -5518.916667  \n",
       "13323 2021-04-30 15:32:02         -1.133333  \n",
       "13471 2021-04-30 17:15:19      -5066.283333  \n",
       "13810 2021-04-30 12:02:29       -178.283333  \n",
       "13891 2021-04-30 19:00:37       -166.650000  \n",
       "14145 2021-04-30 12:06:21       -553.233333  \n",
       "14186 2021-04-30 10:15:24        -44.083333  \n",
       "14225 2021-04-30 11:31:54       -211.266667  \n",
       "14261 2021-04-30 05:35:29       -194.966667  \n",
       "14607 2021-04-30 10:27:01       -536.100000  \n",
       "14979 2021-04-30 16:20:08        -12.583333  \n",
       "15217 2021-04-30 11:56:39       -108.100000  \n",
       "15386 2021-04-30 05:19:10       -246.183333  \n",
       "15685 2021-04-30 09:20:23       -195.000000  \n",
       "15702 2021-04-30 17:40:43        -97.033333  \n",
       "16284 2021-04-30 10:16:42        -45.716667  \n",
       "16812 2021-04-30 10:37:32        -18.800000  \n",
       "16936 2021-04-30 14:28:26        -53.383333  \n",
       "17050 2021-04-30 14:11:52      -5273.583333  \n",
       "17151 2021-04-30 05:40:49       -114.966667  \n",
       "17386 2021-04-30 13:42:12        -34.666667  \n",
       "18664 2021-04-30 15:35:44         -1.433333  \n",
       "18705 2021-04-30 05:02:34       -261.650000  \n",
       "18999 2021-04-30 18:30:20        -66.500000  \n",
       "19071 2021-04-30 09:49:13        -22.450000  \n",
       "19177 2021-04-30 09:06:47      -2861.000000  \n",
       "19201 2021-04-30 16:05:53      -1357.083333  \n",
       "19240 2021-04-30 15:57:18        -57.650000  \n",
       "19593 2021-04-30 09:42:48         -1.133333  \n",
       "20083 2021-04-30 05:29:29        -52.866667  \n",
       "20178 2021-04-30 18:05:17       -130.000000  \n",
       "20198 2021-04-30 09:00:07         -6.616667  \n",
       "20498 2021-04-30 14:00:54      -3935.650000  \n",
       "20513 2021-04-30 18:15:44      -4914.550000  \n",
       "21113 2021-04-30 06:35:40         -3.000000  \n",
       "21119 2021-04-30 14:07:10      -3606.566667  \n",
       "22239 2021-04-30 14:10:49       -801.783333  \n",
       "22300 2021-04-30 05:21:59        -77.333333  \n",
       "22485 2021-04-30 16:35:21        -17.766667  \n",
       "22693 2021-04-30 14:28:29       -331.100000  \n",
       "23012 2021-04-30 14:25:05      -1319.916667  \n",
       "23146 2021-04-30 20:40:35       -568.200000  \n",
       "23318 2021-04-30 08:58:23       -362.083333  \n",
       "25318 2021-04-30 05:28:59         -4.883333  \n",
       "27007 2021-04-30 08:43:12         -8.666667  \n",
       "27857 2021-04-30 17:06:45        -64.233333  \n",
       "28066 2021-04-30 15:36:28        -30.516667  \n",
       "29524 2021-04-30 05:22:51         -5.550000  \n",
       "29728 2021-04-30 18:11:30      -1508.666667  \n",
       "29909 2021-04-30 16:06:34         -0.600000  "
      ]
     },
     "execution_count": 227,
     "metadata": {},
     "output_type": "execute_result"
    }
   ],
   "source": [
    "temp_df[(temp_df[\"is_purchased\"] == 't') & (temp_df[\"message_type\"] == 'trigger')][['topic', 'clicked_first_time_at', 'opened_first_time_at', \"purchased_at\",\"time_to_purchase\"]].head(50)"
   ]
  },
  {
   "cell_type": "markdown",
   "id": "14fc53ed-e674-474b-8d59-535232644e37",
   "metadata": {},
   "source": [
    "## Conversion rate"
   ]
  },
  {
   "cell_type": "code",
   "execution_count": 155,
   "id": "26d03d07-e251-4cad-8e73-d7722a92c3c5",
   "metadata": {},
   "outputs": [],
   "source": [
    "q = \"SELECT message_type, channel, is_opened_count * 1.0 / total * 100 as open_rate FROM \\\n",
    "    (SELECT message_type, channel, COUNT(*) as total, SUM(CASE WHEN is_opened = 't' THEN 1 ELSE 0 END) as is_opened_count FROM temp_df GROUP BY message_type, channel)\"\n",
    "chart_1_df = sqldf(q, globals())"
   ]
  },
  {
   "cell_type": "code",
   "execution_count": 156,
   "id": "ae1261ba-bc0a-4b8f-8b17-2da1f2de376d",
   "metadata": {},
   "outputs": [
    {
     "data": {
      "text/html": [
       "<div>\n",
       "<style scoped>\n",
       "    .dataframe tbody tr th:only-of-type {\n",
       "        vertical-align: middle;\n",
       "    }\n",
       "\n",
       "    .dataframe tbody tr th {\n",
       "        vertical-align: top;\n",
       "    }\n",
       "\n",
       "    .dataframe thead th {\n",
       "        text-align: right;\n",
       "    }\n",
       "</style>\n",
       "<table border=\"1\" class=\"dataframe\">\n",
       "  <thead>\n",
       "    <tr style=\"text-align: right;\">\n",
       "      <th></th>\n",
       "      <th>message_type</th>\n",
       "      <th>channel</th>\n",
       "      <th>open_rate</th>\n",
       "    </tr>\n",
       "  </thead>\n",
       "  <tbody>\n",
       "    <tr>\n",
       "      <th>0</th>\n",
       "      <td>bulk</td>\n",
       "      <td>mobile_push</td>\n",
       "      <td>33.746519</td>\n",
       "    </tr>\n",
       "    <tr>\n",
       "      <th>1</th>\n",
       "      <td>transactional</td>\n",
       "      <td>email</td>\n",
       "      <td>35.574572</td>\n",
       "    </tr>\n",
       "    <tr>\n",
       "      <th>2</th>\n",
       "      <td>transactional</td>\n",
       "      <td>mobile_push</td>\n",
       "      <td>0.000000</td>\n",
       "    </tr>\n",
       "    <tr>\n",
       "      <th>3</th>\n",
       "      <td>trigger</td>\n",
       "      <td>email</td>\n",
       "      <td>17.417359</td>\n",
       "    </tr>\n",
       "    <tr>\n",
       "      <th>4</th>\n",
       "      <td>trigger</td>\n",
       "      <td>web_push</td>\n",
       "      <td>0.000000</td>\n",
       "    </tr>\n",
       "  </tbody>\n",
       "</table>\n",
       "</div>"
      ],
      "text/plain": [
       "    message_type      channel  open_rate\n",
       "0           bulk  mobile_push  33.746519\n",
       "1  transactional        email  35.574572\n",
       "2  transactional  mobile_push   0.000000\n",
       "3        trigger        email  17.417359\n",
       "4        trigger     web_push   0.000000"
      ]
     },
     "execution_count": 156,
     "metadata": {},
     "output_type": "execute_result"
    }
   ],
   "source": [
    "chart_1_df"
   ]
  },
  {
   "cell_type": "code",
   "execution_count": 288,
   "id": "8a1d4229-c0fa-496d-adc7-b498b47ed916",
   "metadata": {},
   "outputs": [
    {
     "name": "stderr",
     "output_type": "stream",
     "text": [
      "                                                                                \r"
     ]
    }
   ],
   "source": [
    "chart_2_df = spark.sql(\"SELECT message_type, channel, topic, total, is_opened_count * 1.0 / total * 100 as open_rate FROM \\\n",
    "    (SELECT message_type, channel, topic, COUNT(*) as total, SUM(CASE WHEN is_opened = 't' THEN 1 ELSE 0 END) as is_opened_count FROM temp_table GROUP BY message_type, channel, topic)\").toPandas()\n",
    "# q = \"SELECT message_type, channel, topic, total, is_opened_count * 1.0 / total * 100 as open_rate FROM \\\n",
    "#     (SELECT message_type, channel, topic, COUNT(*) as total, SUM(CASE WHEN is_opened = 't' THEN 1 ELSE 0 END) as is_opened_count FROM temp_df GROUP BY message_type, channel, topic) \\\n",
    "#     ORDER BY open_rate\"\n",
    "# chart_2_df = sqldf(q, globals())"
   ]
  },
  {
   "cell_type": "code",
   "execution_count": 290,
   "id": "0ad29b27-3994-446b-baf3-3168f1a46d1a",
   "metadata": {
    "scrolled": true
   },
   "outputs": [
    {
     "data": {
      "text/html": [
       "<div>\n",
       "<style scoped>\n",
       "    .dataframe tbody tr th:only-of-type {\n",
       "        vertical-align: middle;\n",
       "    }\n",
       "\n",
       "    .dataframe tbody tr th {\n",
       "        vertical-align: top;\n",
       "    }\n",
       "\n",
       "    .dataframe thead th {\n",
       "        text-align: right;\n",
       "    }\n",
       "</style>\n",
       "<table border=\"1\" class=\"dataframe\">\n",
       "  <thead>\n",
       "    <tr style=\"text-align: right;\">\n",
       "      <th></th>\n",
       "      <th>message_type</th>\n",
       "      <th>channel</th>\n",
       "      <th>topic</th>\n",
       "      <th>total</th>\n",
       "      <th>open_rate</th>\n",
       "    </tr>\n",
       "  </thead>\n",
       "  <tbody>\n",
       "    <tr>\n",
       "      <th>0</th>\n",
       "      <td>trigger</td>\n",
       "      <td>web_push</td>\n",
       "      <td>abandoned cart</td>\n",
       "      <td>46</td>\n",
       "      <td>8.695652173913</td>\n",
       "    </tr>\n",
       "    <tr>\n",
       "      <th>1</th>\n",
       "      <td>transactional</td>\n",
       "      <td>email</td>\n",
       "      <td>order created</td>\n",
       "      <td>201817</td>\n",
       "      <td>37.843194577266</td>\n",
       "    </tr>\n",
       "    <tr>\n",
       "      <th>3</th>\n",
       "      <td>trigger</td>\n",
       "      <td>email</td>\n",
       "      <td>subscribed</td>\n",
       "      <td>302377</td>\n",
       "      <td>26.412392476941</td>\n",
       "    </tr>\n",
       "    <tr>\n",
       "      <th>4</th>\n",
       "      <td>transactional</td>\n",
       "      <td>email</td>\n",
       "      <td>order cancelled</td>\n",
       "      <td>142985</td>\n",
       "      <td>30.243032485925</td>\n",
       "    </tr>\n",
       "    <tr>\n",
       "      <th>5</th>\n",
       "      <td>trigger</td>\n",
       "      <td>email</td>\n",
       "      <td>added to wish list</td>\n",
       "      <td>83078</td>\n",
       "      <td>17.859120344736</td>\n",
       "    </tr>\n",
       "    <tr>\n",
       "      <th>6</th>\n",
       "      <td>bulk</td>\n",
       "      <td>mobile_push</td>\n",
       "      <td>sale out</td>\n",
       "      <td>4152975</td>\n",
       "      <td>11.762724312090</td>\n",
       "    </tr>\n",
       "    <tr>\n",
       "      <th>7</th>\n",
       "      <td>trigger</td>\n",
       "      <td>email</td>\n",
       "      <td>recent purchase</td>\n",
       "      <td>472521</td>\n",
       "      <td>18.015918869214</td>\n",
       "    </tr>\n",
       "    <tr>\n",
       "      <th>8</th>\n",
       "      <td>trigger</td>\n",
       "      <td>email</td>\n",
       "      <td>abandoned cart</td>\n",
       "      <td>241364</td>\n",
       "      <td>13.432823453373</td>\n",
       "    </tr>\n",
       "    <tr>\n",
       "      <th>10</th>\n",
       "      <td>trigger</td>\n",
       "      <td>email</td>\n",
       "      <td>abandoned view</td>\n",
       "      <td>557393</td>\n",
       "      <td>16.686072483867</td>\n",
       "    </tr>\n",
       "    <tr>\n",
       "      <th>11</th>\n",
       "      <td>transactional</td>\n",
       "      <td>email</td>\n",
       "      <td>order shipped</td>\n",
       "      <td>36285</td>\n",
       "      <td>51.048642689817</td>\n",
       "    </tr>\n",
       "    <tr>\n",
       "      <th>12</th>\n",
       "      <td>trigger</td>\n",
       "      <td>email</td>\n",
       "      <td>abandoned search</td>\n",
       "      <td>89635</td>\n",
       "      <td>9.660288949629</td>\n",
       "    </tr>\n",
       "    <tr>\n",
       "      <th>13</th>\n",
       "      <td>transactional</td>\n",
       "      <td>email</td>\n",
       "      <td>order ready for pickup</td>\n",
       "      <td>178632</td>\n",
       "      <td>38.700232881007</td>\n",
       "    </tr>\n",
       "    <tr>\n",
       "      <th>15</th>\n",
       "      <td>trigger</td>\n",
       "      <td>email</td>\n",
       "      <td>abandoned category</td>\n",
       "      <td>391839</td>\n",
       "      <td>13.550973741766</td>\n",
       "    </tr>\n",
       "    <tr>\n",
       "      <th>16</th>\n",
       "      <td>transactional</td>\n",
       "      <td>email</td>\n",
       "      <td>profile updated</td>\n",
       "      <td>65638</td>\n",
       "      <td>39.725463908102</td>\n",
       "    </tr>\n",
       "    <tr>\n",
       "      <th>17</th>\n",
       "      <td>transactional</td>\n",
       "      <td>email</td>\n",
       "      <td>order pickup still pending</td>\n",
       "      <td>4572</td>\n",
       "      <td>43.460192475941</td>\n",
       "    </tr>\n",
       "    <tr>\n",
       "      <th>18</th>\n",
       "      <td>transactional</td>\n",
       "      <td>email</td>\n",
       "      <td>bonuses expired</td>\n",
       "      <td>168998</td>\n",
       "      <td>12.745121244038</td>\n",
       "    </tr>\n",
       "    <tr>\n",
       "      <th>20</th>\n",
       "      <td>bulk</td>\n",
       "      <td>mobile_push</td>\n",
       "      <td>unknown</td>\n",
       "      <td>71921</td>\n",
       "      <td>15.701950751519</td>\n",
       "    </tr>\n",
       "    <tr>\n",
       "      <th>21</th>\n",
       "      <td>trigger</td>\n",
       "      <td>email</td>\n",
       "      <td>price drop</td>\n",
       "      <td>61</td>\n",
       "      <td>11.475409836066</td>\n",
       "    </tr>\n",
       "    <tr>\n",
       "      <th>23</th>\n",
       "      <td>bulk</td>\n",
       "      <td>email</td>\n",
       "      <td>sale out</td>\n",
       "      <td>2821055</td>\n",
       "      <td>17.214091891154</td>\n",
       "    </tr>\n",
       "    <tr>\n",
       "      <th>25</th>\n",
       "      <td>bulk</td>\n",
       "      <td>mobile_push</td>\n",
       "      <td>event</td>\n",
       "      <td>3489</td>\n",
       "      <td>23.502436228146</td>\n",
       "    </tr>\n",
       "    <tr>\n",
       "      <th>26</th>\n",
       "      <td>bulk</td>\n",
       "      <td>email</td>\n",
       "      <td>event</td>\n",
       "      <td>12955</td>\n",
       "      <td>27.556927827094</td>\n",
       "    </tr>\n",
       "    <tr>\n",
       "      <th>27</th>\n",
       "      <td>transactional</td>\n",
       "      <td>email</td>\n",
       "      <td>wish list status</td>\n",
       "      <td>2</td>\n",
       "      <td>100.000000000000</td>\n",
       "    </tr>\n",
       "  </tbody>\n",
       "</table>\n",
       "</div>"
      ],
      "text/plain": [
       "     message_type      channel                       topic    total  \\\n",
       "0         trigger     web_push              abandoned cart       46   \n",
       "1   transactional        email               order created   201817   \n",
       "3         trigger        email                  subscribed   302377   \n",
       "4   transactional        email             order cancelled   142985   \n",
       "5         trigger        email          added to wish list    83078   \n",
       "6            bulk  mobile_push                    sale out  4152975   \n",
       "7         trigger        email             recent purchase   472521   \n",
       "8         trigger        email              abandoned cart   241364   \n",
       "10        trigger        email              abandoned view   557393   \n",
       "11  transactional        email               order shipped    36285   \n",
       "12        trigger        email            abandoned search    89635   \n",
       "13  transactional        email      order ready for pickup   178632   \n",
       "15        trigger        email          abandoned category   391839   \n",
       "16  transactional        email             profile updated    65638   \n",
       "17  transactional        email  order pickup still pending     4572   \n",
       "18  transactional        email             bonuses expired   168998   \n",
       "20           bulk  mobile_push                     unknown    71921   \n",
       "21        trigger        email                  price drop       61   \n",
       "23           bulk        email                    sale out  2821055   \n",
       "25           bulk  mobile_push                       event     3489   \n",
       "26           bulk        email                       event    12955   \n",
       "27  transactional        email            wish list status        2   \n",
       "\n",
       "           open_rate  \n",
       "0     8.695652173913  \n",
       "1    37.843194577266  \n",
       "3    26.412392476941  \n",
       "4    30.243032485925  \n",
       "5    17.859120344736  \n",
       "6    11.762724312090  \n",
       "7    18.015918869214  \n",
       "8    13.432823453373  \n",
       "10   16.686072483867  \n",
       "11   51.048642689817  \n",
       "12    9.660288949629  \n",
       "13   38.700232881007  \n",
       "15   13.550973741766  \n",
       "16   39.725463908102  \n",
       "17   43.460192475941  \n",
       "18   12.745121244038  \n",
       "20   15.701950751519  \n",
       "21   11.475409836066  \n",
       "23   17.214091891154  \n",
       "25   23.502436228146  \n",
       "26   27.556927827094  \n",
       "27  100.000000000000  "
      ]
     },
     "execution_count": 290,
     "metadata": {},
     "output_type": "execute_result"
    }
   ],
   "source": [
    "chart_2_df = chart_2_df[chart_2_df[\"open_rate\"] > 0]\n",
    "chart_2_df[\"topic\"] = chart_2_df[\"topic\"].fillna(\"unknown\")\n",
    "chart_2_df"
   ]
  },
  {
   "cell_type": "code",
   "execution_count": 426,
   "id": "cc499091-8d06-4ba9-9b44-8a99bf801437",
   "metadata": {},
   "outputs": [],
   "source": [
    "with open(\"open_rate_bars.txt\", \"wb\") as f:\n",
    "    pickle.dump(chart_2_df, f)"
   ]
  },
  {
   "cell_type": "code",
   "execution_count": 292,
   "id": "996f6d54-650e-4837-bd55-976fc0fa6b4e",
   "metadata": {},
   "outputs": [
    {
     "data": {
      "text/html": [
       "<iframe\n",
       "    scrolling=\"no\"\n",
       "    width=\"100%\"\n",
       "    height=\"545px\"\n",
       "    src=\"iframe_figures/figure_292.html\"\n",
       "    frameborder=\"0\"\n",
       "    allowfullscreen\n",
       "></iframe>\n"
      ]
     },
     "metadata": {},
     "output_type": "display_data"
    }
   ],
   "source": [
    "px.sunburst(chart_2_df, path=[\"message_type\", \"channel\", \"topic\"], color=\"message_type\", values=\"total\")"
   ]
  },
  {
   "cell_type": "code",
   "execution_count": 302,
   "id": "97649574-ab06-4584-b687-33e914c8899b",
   "metadata": {},
   "outputs": [
    {
     "data": {
      "text/html": [
       "<iframe\n",
       "    scrolling=\"no\"\n",
       "    width=\"100%\"\n",
       "    height=\"545px\"\n",
       "    src=\"iframe_figures/figure_302.html\"\n",
       "    frameborder=\"0\"\n",
       "    allowfullscreen\n",
       "></iframe>\n"
      ]
     },
     "metadata": {},
     "output_type": "display_data"
    }
   ],
   "source": [
    "# discrete_map = {\"trigger\":\"#e377c2\", \"email\":\"#17becf\", \"bulk\":\"rgb(255,0,0)\"}\n",
    "fig = px.bar(chart_2_df, x=\"topic\", y=\"open_rate\", color=\"message_type\")\n",
    "fig.update_layout(xaxis={\"categoryorder\":\"total descending\"})\n"
   ]
  },
  {
   "cell_type": "markdown",
   "id": "02d8bd48-89eb-4ea8-89ad-d007adba062a",
   "metadata": {},
   "source": [
    "### Subject effect on conversion"
   ]
  },
  {
   "cell_type": "code",
   "execution_count": 247,
   "id": "9af43321-48c0-4898-bd7d-96165c4faed9",
   "metadata": {
    "scrolled": true
   },
   "outputs": [
    {
     "name": "stdout",
     "output_type": "stream",
     "text": [
      "subject_with_emoji\n"
     ]
    },
    {
     "name": "stderr",
     "output_type": "stream",
     "text": [
      "                                                                                \r"
     ]
    },
    {
     "name": "stdout",
     "output_type": "stream",
     "text": [
      "7231395\n",
      "subject_with_personalization\n"
     ]
    },
    {
     "name": "stderr",
     "output_type": "stream",
     "text": [
      "                                                                                \r"
     ]
    },
    {
     "name": "stdout",
     "output_type": "stream",
     "text": [
      "6373\n",
      "subject_with_deadline\n"
     ]
    },
    {
     "name": "stderr",
     "output_type": "stream",
     "text": [
      "                                                                                \r"
     ]
    },
    {
     "name": "stdout",
     "output_type": "stream",
     "text": [
      "273976\n",
      "subject_with_bonuses\n"
     ]
    },
    {
     "name": "stderr",
     "output_type": "stream",
     "text": [
      "                                                                                \r"
     ]
    },
    {
     "name": "stdout",
     "output_type": "stream",
     "text": [
      "168998\n",
      "subject_with_discount\n"
     ]
    },
    {
     "name": "stderr",
     "output_type": "stream",
     "text": [
      "                                                                                \r"
     ]
    },
    {
     "name": "stdout",
     "output_type": "stream",
     "text": [
      "30798\n",
      "subject_with_saleout\n"
     ]
    },
    {
     "name": "stderr",
     "output_type": "stream",
     "text": [
      "[Stage 57:====================================================>   (16 + 1) / 17]\r"
     ]
    },
    {
     "name": "stdout",
     "output_type": "stream",
     "text": [
      "231972\n"
     ]
    },
    {
     "name": "stderr",
     "output_type": "stream",
     "text": [
      "                                                                                \r"
     ]
    }
   ],
   "source": [
    "for col in subject_cols:\n",
    "    print(col)\n",
    "    print(merged_df.filter(merged_df[col] == True).count())"
   ]
  },
  {
   "cell_type": "code",
   "execution_count": 182,
   "id": "c38c4cb1-8224-44e2-88fd-e8dee3e6a907",
   "metadata": {},
   "outputs": [
    {
     "data": {
      "text/html": [
       "<div>\n",
       "<style scoped>\n",
       "    .dataframe tbody tr th:only-of-type {\n",
       "        vertical-align: middle;\n",
       "    }\n",
       "\n",
       "    .dataframe tbody tr th {\n",
       "        vertical-align: top;\n",
       "    }\n",
       "\n",
       "    .dataframe thead th {\n",
       "        text-align: right;\n",
       "    }\n",
       "</style>\n",
       "<table border=\"1\" class=\"dataframe\">\n",
       "  <thead>\n",
       "    <tr style=\"text-align: right;\">\n",
       "      <th></th>\n",
       "      <th>campaign_type</th>\n",
       "      <th>channel</th>\n",
       "      <th>percent_discount</th>\n",
       "    </tr>\n",
       "  </thead>\n",
       "  <tbody>\n",
       "    <tr>\n",
       "      <th>0</th>\n",
       "      <td>bulk</td>\n",
       "      <td>mobile_push</td>\n",
       "      <td>None</td>\n",
       "    </tr>\n",
       "    <tr>\n",
       "      <th>1</th>\n",
       "      <td>transactional</td>\n",
       "      <td>email</td>\n",
       "      <td>None</td>\n",
       "    </tr>\n",
       "    <tr>\n",
       "      <th>2</th>\n",
       "      <td>transactional</td>\n",
       "      <td>mobile_push</td>\n",
       "      <td>None</td>\n",
       "    </tr>\n",
       "    <tr>\n",
       "      <th>3</th>\n",
       "      <td>trigger</td>\n",
       "      <td>email</td>\n",
       "      <td>None</td>\n",
       "    </tr>\n",
       "    <tr>\n",
       "      <th>4</th>\n",
       "      <td>trigger</td>\n",
       "      <td>web_push</td>\n",
       "      <td>None</td>\n",
       "    </tr>\n",
       "  </tbody>\n",
       "</table>\n",
       "</div>"
      ],
      "text/plain": [
       "   campaign_type      channel percent_discount\n",
       "0           bulk  mobile_push             None\n",
       "1  transactional        email             None\n",
       "2  transactional  mobile_push             None\n",
       "3        trigger        email             None\n",
       "4        trigger     web_push             None"
      ]
     },
     "execution_count": 182,
     "metadata": {},
     "output_type": "execute_result"
    }
   ],
   "source": [
    "q = \"SELECT campaign_type, channel, \\\n",
    "    SUM(CASE WHEN subject_with_discount = True and is_opened = True THEN 1 ELSE 0 END)/SUM(CASE WHEN subject_with_discount = True and is_opened = 'f' THEN 1 ELSE 0 END) * 1.0 / 100 as percent_discount \\\n",
    "    FROM temp_df GROUP BY campaign_type, channel\"\n",
    "sqldf(q, globals())"
   ]
  },
  {
   "cell_type": "code",
   "execution_count": 404,
   "id": "b9489ec3-7aeb-4af3-a982-815472e29031",
   "metadata": {},
   "outputs": [
    {
     "name": "stderr",
     "output_type": "stream",
     "text": [
      "                                                                                \r"
     ]
    }
   ],
   "source": [
    "pers_df = spark.sql(\"SELECT campaign_type, \\\n",
    "    SUM(CASE WHEN subject_with_personalization = True and is_opened = 't' THEN 1 ELSE 0 END) as a, \\\n",
    "    SUM(CASE WHEN subject_with_personalization = True and is_opened = 'f' THEN 1 ELSE 0 END) as b \\\n",
    "    FROM temp_table GROUP BY campaign_type\").toPandas()\n",
    "saleout_df = spark.sql(\"SELECT campaign_type, \\\n",
    "    SUM(CASE WHEN subject_with_saleout = True and is_opened = 't' THEN 1 ELSE 0 END) as a, \\\n",
    "    SUM(CASE WHEN subject_with_saleout = True and is_opened = 'f' THEN 1 ELSE 0 END) as b \\\n",
    "    FROM temp_table GROUP BY campaign_type\").toPandas()\n",
    "discount_df = spark.sql(\"SELECT campaign_type, \\\n",
    "    SUM(CASE WHEN subject_with_discount = True and is_opened = 't' THEN 1 ELSE 0 END) as a, \\\n",
    "    SUM(CASE WHEN subject_with_discount = True and is_opened = 'f' THEN 1 ELSE 0 END) as b \\\n",
    "    FROM temp_table GROUP BY campaign_type\").toPandas()\n",
    "deadline_df = spark.sql(\"SELECT campaign_type, \\\n",
    "    SUM(CASE WHEN subject_with_deadline = True and is_opened = 't' THEN 1 ELSE 0 END) as a, \\\n",
    "    SUM(CASE WHEN subject_with_deadline = True and is_opened = 'f' THEN 1 ELSE 0 END) as b \\\n",
    "    FROM temp_table GROUP BY campaign_type\").toPandas()\n",
    "# q = \"SELECT campaign_type, \\\n",
    "#     SUM(CASE WHEN subject_with_discount = True and is_opened = 't' THEN 1 ELSE 0 END) as a, \\\n",
    "#     SUM(CASE WHEN subject_with_discount = True and is_opened = 'f' THEN 1 ELSE 0 END) as b \\\n",
    "#     FROM temp_df GROUP BY campaign_type\"\n",
    "\n",
    "# chart_df_3 = sqldf(q, globals())"
   ]
  },
  {
   "cell_type": "code",
   "execution_count": 427,
   "id": "f542b6a2-220c-477e-9e1e-5a7bcdcd6f05",
   "metadata": {},
   "outputs": [
    {
     "name": "stderr",
     "output_type": "stream",
     "text": [
      "                                                                                \r"
     ]
    }
   ],
   "source": [
    "pers_df = spark.sql(\"SELECT campaign_type, \\\n",
    "    SUM(CASE WHEN subject_with_personalization = False and is_opened = 't' THEN 1 ELSE 0 END) as a, \\\n",
    "    SUM(CASE WHEN subject_with_personalization = False and is_opened = 'f' THEN 1 ELSE 0 END) as b \\\n",
    "    FROM temp_table GROUP BY campaign_type\").toPandas()\n",
    "saleout_df = spark.sql(\"SELECT campaign_type, \\\n",
    "    SUM(CASE WHEN subject_with_saleout = False and is_opened = 't' THEN 1 ELSE 0 END) as a, \\\n",
    "    SUM(CASE WHEN subject_with_saleout = False and is_opened = 'f' THEN 1 ELSE 0 END) as b \\\n",
    "    FROM temp_table GROUP BY campaign_type\").toPandas()\n",
    "discount_df = spark.sql(\"SELECT campaign_type, \\\n",
    "    SUM(CASE WHEN subject_with_discount = False and is_opened = 't' THEN 1 ELSE 0 END) as a, \\\n",
    "    SUM(CASE WHEN subject_with_discount = False and is_opened = 'f' THEN 1 ELSE 0 END) as b \\\n",
    "    FROM temp_table GROUP BY campaign_type\").toPandas()\n",
    "deadline_df = spark.sql(\"SELECT campaign_type, \\\n",
    "    SUM(CASE WHEN subject_with_deadline = False and is_opened = 't' THEN 1 ELSE 0 END) as a, \\\n",
    "    SUM(CASE WHEN subject_with_deadline = False and is_opened = 'f' THEN 1 ELSE 0 END) as b \\\n",
    "    FROM temp_table GROUP BY campaign_type\").toPandas()"
   ]
  },
  {
   "cell_type": "code",
   "execution_count": 428,
   "id": "8d0389e5-6e97-4487-92e2-081cb91f12aa",
   "metadata": {},
   "outputs": [],
   "source": [
    "pers_reshape = pd.DataFrame({\"Type\": [\"Opened\", \"Not Opened\"], \"Count\": [pers_df[pers_df[\"campaign_type\"] == \"bulk\"][\"a\"][0],\n",
    "                                                                         pers_df[pers_df[\"campaign_type\"] == \"bulk\"][\"b\"][0]]})\n",
    "discount_reshape = pd.DataFrame({\"Type\": [\"Opened\", \"Not Opened\"], \"Count\": [discount_df[discount_df[\"campaign_type\"] == \"bulk\"][\"a\"][0],\n",
    "                                                                         discount_df[discount_df[\"campaign_type\"] == \"bulk\"][\"b\"][0]]})\n",
    "saleout_reshape = pd.DataFrame({\"Type\": [\"Opened\", \"Not Opened\"], \"Count\": [saleout_df[saleout_df[\"campaign_type\"] == \"bulk\"][\"a\"][0],\n",
    "                                                                         saleout_df[saleout_df[\"campaign_type\"] == \"bulk\"][\"b\"][0]]})\n",
    "deadline_reshape = pd.DataFrame({\"Type\": [\"Opened\", \"Not Opened\"], \"Count\": [deadline_df[deadline_df[\"campaign_type\"] == \"bulk\"][\"a\"][0],\n",
    "                                                                         deadline_df[deadline_df[\"campaign_type\"] == \"bulk\"][\"b\"][0]]})\n",
    "\n",
    "final_dfs = [pers_reshape, discount_reshape, saleout_reshape, deadline_reshape]"
   ]
  },
  {
   "cell_type": "code",
   "execution_count": 432,
   "id": "2ff191be-f115-4af2-b8d9-71ab6afeb904",
   "metadata": {},
   "outputs": [],
   "source": [
    "with open(\"subject_pies_missing.txt\", \"wb\") as f:\n",
    "    pickle.dump(final_dfs, f)"
   ]
  },
  {
   "cell_type": "code",
   "execution_count": 429,
   "id": "e7672302-480e-40cd-9861-cf7153882f15",
   "metadata": {},
   "outputs": [],
   "source": [
    "from plotly.subplots import make_subplots\n",
    "fig = make_subplots(rows=2, cols=2, specs=[[{\"type\": \"pie\"}, {\"type\": \"pie\"}], [{\"type\": \"pie\"}, {\"type\": \"pie\"}]], subplot_titles=(\"With Emoji\", \"With Discount\", \"With Saleout\", \"With Deadline\"))\n"
   ]
  },
  {
   "cell_type": "code",
   "execution_count": 430,
   "id": "bc3d16e9-eb0b-4d11-8d95-a294fe437ca9",
   "metadata": {},
   "outputs": [
    {
     "data": {
      "text/html": [
       "<iframe\n",
       "    scrolling=\"no\"\n",
       "    width=\"820px\"\n",
       "    height=\"620\"\n",
       "    src=\"iframe_figures/figure_430.html\"\n",
       "    frameborder=\"0\"\n",
       "    allowfullscreen\n",
       "></iframe>\n"
      ]
     },
     "metadata": {},
     "output_type": "display_data"
    }
   ],
   "source": [
    "col = 1\n",
    "row = 1\n",
    "for i in range(4):\n",
    "    fig.add_trace(go.Pie(\n",
    "        values=final_dfs[i][\"Count\"],\n",
    "        labels=final_dfs[i][\"Type\"], hole=0.5, \n",
    "        domain=dict(x=[0, 0.5])), \n",
    "        row=row, col=col)\n",
    "    col += 1\n",
    "    \n",
    "    if col == 3:\n",
    "        col = 1\n",
    "        row += 1  \n",
    "\n",
    "\n",
    "fig.update_layout(height=600, width=800)\n",
    "# px.pie(chart_df_3_reshape, names=\"Type\", values=\"Count\", title=\"Bulk Message Open Rate\") "
   ]
  },
  {
   "cell_type": "markdown",
   "id": "0e99d7cd-abd5-439d-88cd-81add3cd29be",
   "metadata": {},
   "source": [
    "subject_length - the lenght of subject in symbols (sometimes open rate depends on subject length)\n",
    "subject_with_personalization - subject includes personalization. Example: \"Hello, John Wick, there is the special delivery for you!\"\n",
    "subject_with_deadline - subject includes some kind of deadline. Example: \"Hey, John Wick! Only 4 days left when you can get your special delivery!\"\n",
    "subject_with_emoji - subject includes emoji. Example: \"Hello, John Wick, there is the special delivery for you 😵🍺\"\n",
    "subject_with_bonuses - subject includes information about bonuses. Example: \"Hey, John Wick! We added 300 gold coins to your bonus account!\"\n",
    "subject_with_discount - subject includes information about discount. Example: \"Hey, John Wick! 40% discount in Continental for a low season!\"\n",
    "subject_with_saleout - subject announces some kind of saleout. Example: \"Hey, John Wick! Black Friday is coming!\""
   ]
  },
  {
   "cell_type": "markdown",
   "id": "55d8da14-c82b-4886-9bdb-48b5769b1e64",
   "metadata": {},
   "source": [
    "## Purchase rate"
   ]
  },
  {
   "cell_type": "code",
   "execution_count": 13,
   "id": "8bf7afd7-7d2b-438d-8a3e-9320f578d1ee",
   "metadata": {},
   "outputs": [],
   "source": [
    "temp_df[\"clicked_first_time_at\"] = pd.to_datetime(temp_df[\"clicked_first_time_at\"])\n",
    "temp_df[\"purchased_at\"] = pd.to_datetime(temp_df[\"purchased_at\"])"
   ]
  },
  {
   "cell_type": "code",
   "execution_count": null,
   "id": "9f2353c0-c636-44a7-aefb-f269547c7a9d",
   "metadata": {},
   "outputs": [],
   "source": []
  },
  {
   "cell_type": "code",
   "execution_count": 14,
   "id": "75d1b9ea-44a1-4d42-bcba-40f591ca7310",
   "metadata": {},
   "outputs": [],
   "source": [
    "temp_df[\"time_to_purchase\"] = temp_df[\"purchased_at\"] - temp_df[\"clicked_first_time_at\"]\n",
    "temp_df[\"time_to_purchase\"] = temp_df[\"time_to_purchase\"].apply(lambda x : x.total_seconds()/60)"
   ]
  },
  {
   "cell_type": "code",
   "execution_count": 15,
   "id": "19160d1d-c397-4aa2-b0fd-31af575f063a",
   "metadata": {},
   "outputs": [
    {
     "data": {
      "text/plain": [
       "0         3532.866667\n",
       "1                 NaN\n",
       "2                 NaN\n",
       "3                 NaN\n",
       "4                 NaN\n",
       "             ...     \n",
       "199995            NaN\n",
       "199996            NaN\n",
       "199997            NaN\n",
       "199998            NaN\n",
       "199999            NaN\n",
       "Name: time_to_purchase, Length: 200000, dtype: float64"
      ]
     },
     "execution_count": 15,
     "metadata": {},
     "output_type": "execute_result"
    }
   ],
   "source": [
    "temp_df[\"time_to_purchase\"]"
   ]
  },
  {
   "cell_type": "code",
   "execution_count": 53,
   "id": "aa6b734e-551a-4692-b062-0c151fba4211",
   "metadata": {},
   "outputs": [
    {
     "name": "stderr",
     "output_type": "stream",
     "text": [
      "                                                                                \r"
     ]
    }
   ],
   "source": [
    "purch_df = spark.sql(\"SELECT message_type, num_purchases/(total * 1.0) * 100 as percent_purchases FROM \\\n",
    "    (SELECT \\\n",
    "        message_type, \\\n",
    "        SUM(CASE WHEN is_purchased = 't' THEN 1 END) as num_purchases, \\\n",
    "        COUNT(*) as total\\\n",
    "    FROM temp_table \\\n",
    "    GROUP BY message_type)\").toPandas()\n",
    "\n",
    "\n",
    "# q = \"SELECT message_type, num_purchases/(total * 1.0) * 100 as percent_purchases FROM \\\n",
    "#     (SELECT \\\n",
    "#         message_type, \\\n",
    "#         SUM(CASE WHEN is_purchased = 't' THEN 1 END) as num_purchases, \\\n",
    "#         COUNT(*) as total\\\n",
    "#     FROM temp_df \\\n",
    "#     GROUP BY message_type)\"\n",
    "# sqldf(q, globals())"
   ]
  },
  {
   "cell_type": "code",
   "execution_count": 54,
   "id": "559c1f30-1d4c-4d43-9e6a-490673d3c17c",
   "metadata": {},
   "outputs": [
    {
     "data": {
      "text/html": [
       "<div>\n",
       "<style scoped>\n",
       "    .dataframe tbody tr th:only-of-type {\n",
       "        vertical-align: middle;\n",
       "    }\n",
       "\n",
       "    .dataframe tbody tr th {\n",
       "        vertical-align: top;\n",
       "    }\n",
       "\n",
       "    .dataframe thead th {\n",
       "        text-align: right;\n",
       "    }\n",
       "</style>\n",
       "<table border=\"1\" class=\"dataframe\">\n",
       "  <thead>\n",
       "    <tr style=\"text-align: right;\">\n",
       "      <th></th>\n",
       "      <th>message_type</th>\n",
       "      <th>percent_purchases</th>\n",
       "    </tr>\n",
       "  </thead>\n",
       "  <tbody>\n",
       "    <tr>\n",
       "      <th>0</th>\n",
       "      <td>bulk</td>\n",
       "      <td>0.0353421183607</td>\n",
       "    </tr>\n",
       "    <tr>\n",
       "      <th>1</th>\n",
       "      <td>trigger</td>\n",
       "      <td>0.2184206563936</td>\n",
       "    </tr>\n",
       "    <tr>\n",
       "      <th>2</th>\n",
       "      <td>transactional</td>\n",
       "      <td>0.6473767662698</td>\n",
       "    </tr>\n",
       "  </tbody>\n",
       "</table>\n",
       "</div>"
      ],
      "text/plain": [
       "    message_type percent_purchases\n",
       "0           bulk   0.0353421183607\n",
       "1        trigger   0.2184206563936\n",
       "2  transactional   0.6473767662698"
      ]
     },
     "execution_count": 54,
     "metadata": {},
     "output_type": "execute_result"
    }
   ],
   "source": [
    "purch_df.head()"
   ]
  },
  {
   "cell_type": "code",
   "execution_count": 59,
   "id": "5f493c39-a260-4d33-8846-45dce52aca8a",
   "metadata": {},
   "outputs": [
    {
     "name": "stderr",
     "output_type": "stream",
     "text": [
      "                                                                                \r"
     ]
    }
   ],
   "source": [
    "atp_df = spark.sql(\"SELECT \\\n",
    "        message_type, \\\n",
    "        ABS(AVG(time_to_purchase)) as avg_time_to_purchase\\\n",
    "    FROM temp_table \\\n",
    "    WHERE is_purchased = 't'\\\n",
    "    GROUP BY message_type\").toPandas()\n",
    "\n",
    "# q = \"SELECT \\\n",
    "#         message_type, \\\n",
    "#         AVG(time_to_purchase) as avg_time_to_purchase\\\n",
    "#     FROM temp_df \\\n",
    "#     WHERE is_purchased = 't'\\\n",
    "#     GROUP BY message_type\"\n",
    "# sqldf(q, globals())"
   ]
  },
  {
   "cell_type": "code",
   "execution_count": 60,
   "id": "1e26535d-058b-4e1c-9327-a5673c2c7ba4",
   "metadata": {},
   "outputs": [
    {
     "data": {
      "text/html": [
       "<div>\n",
       "<style scoped>\n",
       "    .dataframe tbody tr th:only-of-type {\n",
       "        vertical-align: middle;\n",
       "    }\n",
       "\n",
       "    .dataframe tbody tr th {\n",
       "        vertical-align: top;\n",
       "    }\n",
       "\n",
       "    .dataframe thead th {\n",
       "        text-align: right;\n",
       "    }\n",
       "</style>\n",
       "<table border=\"1\" class=\"dataframe\">\n",
       "  <thead>\n",
       "    <tr style=\"text-align: right;\">\n",
       "      <th></th>\n",
       "      <th>message_type</th>\n",
       "      <th>avg_time_to_purchase</th>\n",
       "    </tr>\n",
       "  </thead>\n",
       "  <tbody>\n",
       "    <tr>\n",
       "      <th>0</th>\n",
       "      <td>trigger</td>\n",
       "      <td>910.674374</td>\n",
       "    </tr>\n",
       "    <tr>\n",
       "      <th>1</th>\n",
       "      <td>transactional</td>\n",
       "      <td>1595.886333</td>\n",
       "    </tr>\n",
       "    <tr>\n",
       "      <th>2</th>\n",
       "      <td>bulk</td>\n",
       "      <td>1891.730769</td>\n",
       "    </tr>\n",
       "  </tbody>\n",
       "</table>\n",
       "</div>"
      ],
      "text/plain": [
       "    message_type  avg_time_to_purchase\n",
       "0        trigger            910.674374\n",
       "1  transactional           1595.886333\n",
       "2           bulk           1891.730769"
      ]
     },
     "execution_count": 60,
     "metadata": {},
     "output_type": "execute_result"
    }
   ],
   "source": [
    "atp_df.head()"
   ]
  },
  {
   "cell_type": "code",
   "execution_count": 62,
   "id": "56708be8-7391-455a-9c49-c199bfbafa51",
   "metadata": {},
   "outputs": [],
   "source": [
    "purch_atp_df = pd.merge(purch_df, atp_df, on=\"message_type\")"
   ]
  },
  {
   "cell_type": "code",
   "execution_count": 65,
   "id": "fad877b4-8df4-459f-b0ea-691181dce656",
   "metadata": {},
   "outputs": [],
   "source": [
    "with open(\"purch_atp.txt\", \"wb\") as f:\n",
    "    pickle.dump(purch_atp_df, f)\n"
   ]
  },
  {
   "cell_type": "code",
   "execution_count": 67,
   "id": "2b3437bf-f2aa-4d92-8b68-f37cc5972787",
   "metadata": {},
   "outputs": [
    {
     "data": {
      "text/html": [
       "<iframe\n",
       "    scrolling=\"no\"\n",
       "    width=\"100%\"\n",
       "    height=\"545px\"\n",
       "    src=\"iframe_figures/figure_67.html\"\n",
       "    frameborder=\"0\"\n",
       "    allowfullscreen\n",
       "></iframe>\n"
      ]
     },
     "metadata": {},
     "output_type": "display_data"
    }
   ],
   "source": [
    "fig = px.line(purch_atp_df, x=\"avg_time_to_purchase\", y=\"percent_purchases\", color=\"message_type\")\n",
    "fig"
   ]
  },
  {
   "cell_type": "code",
   "execution_count": 84,
   "id": "e6396af6-b727-43c4-9cd3-36b96e5a35fa",
   "metadata": {},
   "outputs": [
    {
     "name": "stderr",
     "output_type": "stream",
     "text": [
      "                                                                                \r"
     ]
    }
   ],
   "source": [
    "unsub_df = spark.sql(\"SELECT message_type, unsubscribed/total * 100 as percent_unsubscribed FROM \\\n",
    "    (SELECT \\\n",
    "        message_type, \\\n",
    "        SUM(CASE WHEN is_unsubscribed = 't' THEN 1 END) as unsubscribed, \\\n",
    "        COUNT(*) as total\\\n",
    "    FROM temp_table \\\n",
    "    GROUP BY message_type)\").toPandas()\n",
    "\n",
    "\n",
    "# q = \"SELECT message_type, unsubscribed/(total * 1.0) * 100 as percent_unsubscribed FROM \\\n",
    "#     (SELECT \\\n",
    "#         message_type, \\\n",
    "#         SUM(CASE WHEN is_unsubscribed = 't' THEN 1 END) as unsubscribed, \\\n",
    "#         COUNT(*) as total\\\n",
    "#     FROM temp_df \\\n",
    "#     GROUP BY message_type)\"\n",
    "# sqldf(q, globals())"
   ]
  },
  {
   "cell_type": "code",
   "execution_count": 85,
   "id": "e88b0a5f-a2c4-4899-b57d-87599a9ed59a",
   "metadata": {},
   "outputs": [
    {
     "data": {
      "text/html": [
       "<div>\n",
       "<style scoped>\n",
       "    .dataframe tbody tr th:only-of-type {\n",
       "        vertical-align: middle;\n",
       "    }\n",
       "\n",
       "    .dataframe tbody tr th {\n",
       "        vertical-align: top;\n",
       "    }\n",
       "\n",
       "    .dataframe thead th {\n",
       "        text-align: right;\n",
       "    }\n",
       "</style>\n",
       "<table border=\"1\" class=\"dataframe\">\n",
       "  <thead>\n",
       "    <tr style=\"text-align: right;\">\n",
       "      <th></th>\n",
       "      <th>message_type</th>\n",
       "      <th>percent_unsubscribed</th>\n",
       "    </tr>\n",
       "  </thead>\n",
       "  <tbody>\n",
       "    <tr>\n",
       "      <th>0</th>\n",
       "      <td>bulk</td>\n",
       "      <td>4.145676</td>\n",
       "    </tr>\n",
       "    <tr>\n",
       "      <th>1</th>\n",
       "      <td>trigger</td>\n",
       "      <td>0.448204</td>\n",
       "    </tr>\n",
       "    <tr>\n",
       "      <th>2</th>\n",
       "      <td>transactional</td>\n",
       "      <td>0.101368</td>\n",
       "    </tr>\n",
       "  </tbody>\n",
       "</table>\n",
       "</div>"
      ],
      "text/plain": [
       "    message_type  percent_unsubscribed\n",
       "0           bulk              4.145676\n",
       "1        trigger              0.448204\n",
       "2  transactional              0.101368"
      ]
     },
     "execution_count": 85,
     "metadata": {},
     "output_type": "execute_result"
    }
   ],
   "source": [
    "unsub_df"
   ]
  },
  {
   "cell_type": "code",
   "execution_count": 89,
   "id": "9e228289-c89b-47c7-9c4b-49940189c60b",
   "metadata": {},
   "outputs": [
    {
     "name": "stderr",
     "output_type": "stream",
     "text": [
      "                                                                                \r"
     ]
    }
   ],
   "source": [
    "blocked_df = spark.sql(\"SELECT message_type, blocked/(total * 1.0) * 100 as percent_blocked FROM \\\n",
    "    (SELECT \\\n",
    "        message_type, \\\n",
    "        SUM(CASE WHEN is_blocked = 't' THEN 1 ELSE 0 END) as blocked, \\\n",
    "        COUNT(*) as total\\\n",
    "    FROM temp_table \\\n",
    "    GROUP BY message_type)\").toPandas()\n",
    "\n",
    "# q = \"SELECT message_type, blocked/(total * 1.0) * 100 as percent_blocked FROM \\\n",
    "#     (SELECT \\\n",
    "#         message_type, \\\n",
    "#         SUM(CASE WHEN is_blocked = 't' THEN 1 ELSE 0 END) as blocked, \\\n",
    "#         COUNT(*) as total\\\n",
    "#     FROM temp_df \\\n",
    "#     GROUP BY message_type)\"\n",
    "# sqldf(q, globals())"
   ]
  },
  {
   "cell_type": "code",
   "execution_count": 90,
   "id": "00bd826f-f1df-429b-b45f-69d41e050353",
   "metadata": {},
   "outputs": [
    {
     "data": {
      "text/html": [
       "<div>\n",
       "<style scoped>\n",
       "    .dataframe tbody tr th:only-of-type {\n",
       "        vertical-align: middle;\n",
       "    }\n",
       "\n",
       "    .dataframe tbody tr th {\n",
       "        vertical-align: top;\n",
       "    }\n",
       "\n",
       "    .dataframe thead th {\n",
       "        text-align: right;\n",
       "    }\n",
       "</style>\n",
       "<table border=\"1\" class=\"dataframe\">\n",
       "  <thead>\n",
       "    <tr style=\"text-align: right;\">\n",
       "      <th></th>\n",
       "      <th>message_type</th>\n",
       "      <th>percent_blocked</th>\n",
       "    </tr>\n",
       "  </thead>\n",
       "  <tbody>\n",
       "    <tr>\n",
       "      <th>0</th>\n",
       "      <td>bulk</td>\n",
       "      <td>0.0006230181121</td>\n",
       "    </tr>\n",
       "    <tr>\n",
       "      <th>1</th>\n",
       "      <td>trigger</td>\n",
       "      <td>0.0081831759514</td>\n",
       "    </tr>\n",
       "    <tr>\n",
       "      <th>2</th>\n",
       "      <td>transactional</td>\n",
       "      <td>0E-13</td>\n",
       "    </tr>\n",
       "  </tbody>\n",
       "</table>\n",
       "</div>"
      ],
      "text/plain": [
       "    message_type  percent_blocked\n",
       "0           bulk  0.0006230181121\n",
       "1        trigger  0.0081831759514\n",
       "2  transactional            0E-13"
      ]
     },
     "execution_count": 90,
     "metadata": {},
     "output_type": "execute_result"
    }
   ],
   "source": [
    "blocked_df"
   ]
  },
  {
   "cell_type": "code",
   "execution_count": 91,
   "id": "7c12d65f-1ab3-4654-9983-02624a64bf41",
   "metadata": {},
   "outputs": [],
   "source": [
    "unsub_blocked_df = pd.merge(unsub_df, blocked_df, on=\"message_type\")"
   ]
  },
  {
   "cell_type": "code",
   "execution_count": 92,
   "id": "e1cf5487-08d7-4729-a798-77fba0a226b2",
   "metadata": {},
   "outputs": [],
   "source": [
    "with open(\"unsub_blocked.txt\", \"wb\") as f:\n",
    "    pickle.dump(unsub_blocked_df, f)\n"
   ]
  }
 ],
 "metadata": {
  "kernelspec": {
   "display_name": "Python 3 (ipykernel)",
   "language": "python",
   "name": "python3"
  },
  "language_info": {
   "codemirror_mode": {
    "name": "ipython",
    "version": 3
   },
   "file_extension": ".py",
   "mimetype": "text/x-python",
   "name": "python",
   "nbconvert_exporter": "python",
   "pygments_lexer": "ipython3",
   "version": "3.11.3"
  }
 },
 "nbformat": 4,
 "nbformat_minor": 5
}
